{
 "cells": [
  {
   "cell_type": "markdown",
   "id": "80e263ef",
   "metadata": {
    "toc": true
   },
   "source": [
    "<h1>Содержание<span class=\"tocSkip\"></span></h1>\n",
    "<div class=\"toc\"><ul class=\"toc-item\"><li><span><a href=\"#Функции-и-библиотеки\" data-toc-modified-id=\"Функции-и-библиотеки-1\"><span class=\"toc-item-num\">1&nbsp;&nbsp;</span>Функции и библиотеки</a></span></li><li><span><a href=\"#Обзор-данных\" data-toc-modified-id=\"Обзор-данных-2\"><span class=\"toc-item-num\">2&nbsp;&nbsp;</span>Обзор данных</a></span><ul class=\"toc-item\"><li><span><a href=\"#Пропущенные-значения\" data-toc-modified-id=\"Пропущенные-значения-2.1\"><span class=\"toc-item-num\">2.1&nbsp;&nbsp;</span>Пропущенные значения</a></span></li><li><span><a href=\"#Уникальные-значения-в-столбцах\" data-toc-modified-id=\"Уникальные-значения-в-столбцах-2.2\"><span class=\"toc-item-num\">2.2&nbsp;&nbsp;</span>Уникальные значения в столбцах</a></span></li><li><span><a href=\"#Дубликаты\" data-toc-modified-id=\"Дубликаты-2.3\"><span class=\"toc-item-num\">2.3&nbsp;&nbsp;</span>Дубликаты</a></span></li></ul></li><li><span><a href=\"#Предобработка-данных\" data-toc-modified-id=\"Предобработка-данных-3\"><span class=\"toc-item-num\">3&nbsp;&nbsp;</span>Предобработка данных</a></span><ul class=\"toc-item\"><li><span><a href=\"#Типы-данных\" data-toc-modified-id=\"Типы-данных-3.1\"><span class=\"toc-item-num\">3.1&nbsp;&nbsp;</span>Типы данных</a></span><ul class=\"toc-item\"><li><span><a href=\"#df_calls\" data-toc-modified-id=\"df_calls-3.1.1\"><span class=\"toc-item-num\">3.1.1&nbsp;&nbsp;</span>df_calls</a></span></li><li><span><a href=\"#df_internet\" data-toc-modified-id=\"df_internet-3.1.2\"><span class=\"toc-item-num\">3.1.2&nbsp;&nbsp;</span>df_internet</a></span></li><li><span><a href=\"#df_messages\" data-toc-modified-id=\"df_messages-3.1.3\"><span class=\"toc-item-num\">3.1.3&nbsp;&nbsp;</span>df_messages</a></span></li><li><span><a href=\"#df_users\" data-toc-modified-id=\"df_users-3.1.4\"><span class=\"toc-item-num\">3.1.4&nbsp;&nbsp;</span>df_users</a></span></li></ul></li><li><span><a href=\"#Расчет-метрик\" data-toc-modified-id=\"Расчет-метрик-3.2\"><span class=\"toc-item-num\">3.2&nbsp;&nbsp;</span>Расчет метрик</a></span><ul class=\"toc-item\"><li><span><a href=\"#Количество-сделанных-звонков-и-израсходованных-минут-разговора-по-месяцам\" data-toc-modified-id=\"Количество-сделанных-звонков-и-израсходованных-минут-разговора-по-месяцам-3.2.1\"><span class=\"toc-item-num\">3.2.1&nbsp;&nbsp;</span>Количество сделанных звонков и израсходованных минут разговора по месяцам</a></span></li><li><span><a href=\"#Количество-отправленных-сообщений-по-месяцам\" data-toc-modified-id=\"Количество-отправленных-сообщений-по-месяцам-3.2.2\"><span class=\"toc-item-num\">3.2.2&nbsp;&nbsp;</span>Количество отправленных сообщений по месяцам</a></span></li><li><span><a href=\"#Объем-израсходованного-интернет-трафика-по-месяцам\" data-toc-modified-id=\"Объем-израсходованного-интернет-трафика-по-месяцам-3.2.3\"><span class=\"toc-item-num\">3.2.3&nbsp;&nbsp;</span>Объем израсходованного интернет-трафика по месяцам</a></span></li><li><span><a href=\"#Помесячная-выручка-с-каждого-пользователя\" data-toc-modified-id=\"Помесячная-выручка-с-каждого-пользователя-3.2.4\"><span class=\"toc-item-num\">3.2.4&nbsp;&nbsp;</span>Помесячная выручка с каждого пользователя</a></span></li></ul></li></ul></li><li><span><a href=\"#Анализ-данных\" data-toc-modified-id=\"Анализ-данных-4\"><span class=\"toc-item-num\">4&nbsp;&nbsp;</span>Анализ данных</a></span><ul class=\"toc-item\"><li><span><a href=\"#Количество-минут-разговора-в-разрезе-тарифов\" data-toc-modified-id=\"Количество-минут-разговора-в-разрезе-тарифов-4.1\"><span class=\"toc-item-num\">4.1&nbsp;&nbsp;</span>Количество минут разговора в разрезе тарифов</a></span></li><li><span><a href=\"#Количество-сообщений-в-разрезе-тарифов\" data-toc-modified-id=\"Количество-сообщений-в-разрезе-тарифов-4.2\"><span class=\"toc-item-num\">4.2&nbsp;&nbsp;</span>Количество сообщений в разрезе тарифов</a></span></li><li><span><a href=\"#Объём-интернет-трафика-в-разрезе-тарифов\" data-toc-modified-id=\"Объём-интернет-трафика-в-разрезе-тарифов-4.3\"><span class=\"toc-item-num\">4.3&nbsp;&nbsp;</span>Объём интернет-трафика в разрезе тарифов</a></span></li></ul></li><li><span><a href=\"#Проверка-гипотез\" data-toc-modified-id=\"Проверка-гипотез-5\"><span class=\"toc-item-num\">5&nbsp;&nbsp;</span>Проверка гипотез</a></span><ul class=\"toc-item\"><li><span><a href=\"#Отличие-средней-выручки-пользователей-тарифов-«Ультра»-и-«Смарт»\" data-toc-modified-id=\"Отличие-средней-выручки-пользователей-тарифов-«Ультра»-и-«Смарт»-5.1\"><span class=\"toc-item-num\">5.1&nbsp;&nbsp;</span>Отличие средней выручки пользователей тарифов «Ультра» и «Смарт»</a></span></li><li><span><a href=\"#Отличие-средней-выручки-пользователей-из-Москвы-от-выручки-пользователей-из-других-регионов.\" data-toc-modified-id=\"Отличие-средней-выручки-пользователей-из-Москвы-от-выручки-пользователей-из-других-регионов.-5.2\"><span class=\"toc-item-num\">5.2&nbsp;&nbsp;</span>Отличие средней выручки пользователей из Москвы от выручки пользователей из других регионов.</a></span></li></ul></li></ul></div>"
   ]
  },
  {
   "cell_type": "markdown",
   "id": "08d04347",
   "metadata": {},
   "source": [
    "# Определение перспективного тарифа для телеком-компании"
   ]
  },
  {
   "cell_type": "markdown",
   "id": "e2ba9086",
   "metadata": {},
   "source": [
    "**Входные данные** —  данные 500 пользователей телеком-компании «Мегалайн» за 2018 год.\n",
    "\n",
    "**Дальнейшее использование результатов исследования** — определение коммерческим департаментом какой из тарифов компании приносит больше денег.\n",
    "\n",
    "**Цель исследования** \n",
    "1. Расчет для каждого пользователя:\n",
    "    - количество сделанных звонков и израсходованных минут разговора по месяцам;\n",
    "    - количество отправленных сообщений по месяцам;\n",
    "    - объем израсходованного интернет-трафика по месяцам;\n",
    "    - помесячную выручку с каждого пользователя\n",
    "2. Описание поведения клиентов оператора, исходя из выборки: \n",
    "    - сколько минут разговора, сколько сообщений и какой объём интернет-трафика требуется пользователям каждого тарифа в месяц\n",
    "    - расчет среднего количества, дисперсии и стандартного отклонения.\n",
    "3. Проверка гипотез: \n",
    "    - средняя выручка пользователей тарифов «Ультра» и «Смарт» различаются;\n",
    "    - средняя выручка пользователей из Москвы отличается от выручки пользователей из других регионов.\n",
    "\n",
    "**Описание тарифов**\n",
    "1. Тариф «Смарт»\n",
    "- Ежемесячная плата: 550 рублей\n",
    "- Включено 500 минут разговора, 50 сообщений и 15 Гб интернет-трафика\n",
    "- Стоимость услуг сверх тарифного пакета:\n",
    "    - минута разговора: 3 рубля\n",
    "    - сообщение: 3 рубля\n",
    "    - 1 Гб интернет-трафика: 200 рублей\n",
    "2. Тариф «Ультра»\n",
    "- Ежемесячная плата: 1950 рублей\n",
    "- Включено 3000 минут разговора, 1000 сообщений и 30 Гб интернет-трафика\n",
    "- Стоимость услуг сверх тарифного пакета:\n",
    "    - минута разговора: 1 рубль\n",
    "    - сообщение: 1 рубль\n",
    "    - 1 Гб интернет-трафика: 150 рублей\n",
    "\n",
    "**Примечание:**\n",
    "- Оператор всегда округляет секунды до минут, а мегабайты — до гигабайт. Каждый звонок округляется отдельно, в большую сторону.\n",
    "- Для веб-трафика отдельные сессии не считаются. Вместо этого общая сумма за месяц округляется в бо́льшую сторону. Если абонент использует 1025 мегабайт в этом месяце, с него возьмут плату за 2 гигабайта.\n",
    "- звонки с нулевой продолжительностью - пропущенные звонки\n",
    "\n",
    "\n",
    "**Требования к представлению результатов исследования** - наличие визуального представления результатов исследования (гистограммы и т.д.).\n"
   ]
  },
  {
   "cell_type": "markdown",
   "id": "293bfe0b",
   "metadata": {},
   "source": [
    "## Функции и библиотеки"
   ]
  },
  {
   "cell_type": "code",
   "execution_count": 2,
   "id": "a4517082",
   "metadata": {},
   "outputs": [],
   "source": [
    "import pandas as pd\n",
    "\n",
    "import math\n",
    "\n",
    "import matplotlib.pyplot as plt\n",
    "\n",
    "import numpy as np\n",
    "\n",
    "from scipy import stats as st"
   ]
  },
  {
   "cell_type": "markdown",
   "id": "a948aec4",
   "metadata": {},
   "source": [
    "## Обзор данных"
   ]
  },
  {
   "cell_type": "markdown",
   "id": "f20f976a",
   "metadata": {},
   "source": [
    "**Описание данных**\n",
    "\n",
    "Таблица **users** (информация о пользователях):\n",
    "- user_id — уникальный идентификатор пользователя\n",
    "- first_name — имя пользователя\n",
    "- last_name — фамилия пользователя\n",
    "- age — возраст пользователя (годы)\n",
    "- reg_date — дата подключения тарифа (день, месяц, год)\n",
    "- churn_date — дата прекращения пользования тарифом (если значение пропущено, то тариф ещё действовал на момент выгрузки данных)\n",
    "- city — город проживания пользователя\n",
    "- tarif — название тарифного плана\n",
    "\n",
    "Таблица **calls** (информация о звонках):\n",
    "- id — уникальный номер звонка\n",
    "- call_date — дата звонка\n",
    "- duration — длительность звонка в минутах\n",
    "- user_id — идентификатор пользователя, сделавшего звонок\n",
    "\n",
    "Таблица **messages** (информация о сообщениях):\n",
    "- id — уникальный номер сообщения\n",
    "- message_date — дата сообщения\n",
    "- user_id — идентификатор пользователя, отправившего сообщение\n",
    "\n",
    "Таблица **internet** (информация об интернет-сессиях):\n",
    "- id — уникальный номер сессии\n",
    "- mb_used — объём потраченного за сессию интернет-трафика (в мегабайтах)\n",
    "- session_date — дата интернет-сессии\n",
    "- user_id — идентификатор пользователя\n",
    "\n",
    "Таблица **tariffs** (информация о тарифах):\n",
    "- tariff_name — название тарифа\n",
    "- rub_monthly_fee — ежемесячная абонентская плата в рублях\n",
    "- minutes_included — количество минут разговора в месяц, включённых в абонентскую плату\n",
    "- messages_included — количество сообщений в месяц, включённых в абонентскую плату\n",
    "- mb_per_month_included — объём интернет-трафика, включённого в абонентскую плату (в мегабайтах)\n",
    "- rub_per_minute — стоимость минуты разговора сверх тарифного пакета (например, если в тарифе 100 минут разговора в месяц, то со 101 минуты будет взиматься плата)\n",
    "- rub_per_message — стоимость отправки сообщения сверх тарифного пакета\n",
    "- rub_per_gb — стоимость дополнительного гигабайта интернет-трафика сверх тарифного пакета (1 гигабайт = 1024 мегабайта)"
   ]
  },
  {
   "cell_type": "code",
   "execution_count": 3,
   "id": "4524dd9e",
   "metadata": {},
   "outputs": [],
   "source": [
    "try:\n",
    "    df_calls = pd.read_csv ('D:/Data for projects/statistic/calls.csv')\n",
    "    df_internet = pd.read_csv ('D:/Data for projects/statistic/internet.csv')\n",
    "    df_messages = pd.read_csv ('D:/Data for projects/statistic/messages.csv')\n",
    "    df_tariffs = pd.read_csv ('D:/Data for projects/statistic/tariffs.csv')\n",
    "    df_users = pd.read_csv ('D:/Data for projects/statistic/users.csv')\n",
    "except: #метод try/except применяется для открытия блокнота по адресу Практикума\n",
    "    df_calls = pd.read_csv ('/datasets/calls.csv')\n",
    "    df_internet = pd.read_csv ('/datasets/internet.csv')\n",
    "    df_messages = pd.read_csv ('/datasets/messages.csv')\n",
    "    df_tariffs = pd.read_csv ('/datasets/tariffs.csv')\n",
    "    df_users = pd.read_csv ('/datasets/users.csv')"
   ]
  },
  {
   "cell_type": "code",
   "execution_count": 4,
   "id": "3fe4f31c",
   "metadata": {},
   "outputs": [
    {
     "name": "stdout",
     "output_type": "stream",
     "text": [
      "<class 'pandas.core.frame.DataFrame'>\n",
      "RangeIndex: 202607 entries, 0 to 202606\n",
      "Data columns (total 4 columns):\n",
      "id           202607 non-null object\n",
      "call_date    202607 non-null object\n",
      "duration     202607 non-null float64\n",
      "user_id      202607 non-null int64\n",
      "dtypes: float64(1), int64(1), object(2)\n",
      "memory usage: 6.2+ MB\n",
      "\n",
      "<class 'pandas.core.frame.DataFrame'>\n",
      "RangeIndex: 149396 entries, 0 to 149395\n",
      "Data columns (total 5 columns):\n",
      "Unnamed: 0      149396 non-null int64\n",
      "id              149396 non-null object\n",
      "mb_used         149396 non-null float64\n",
      "session_date    149396 non-null object\n",
      "user_id         149396 non-null int64\n",
      "dtypes: float64(1), int64(2), object(2)\n",
      "memory usage: 5.7+ MB\n",
      "\n",
      "<class 'pandas.core.frame.DataFrame'>\n",
      "RangeIndex: 123036 entries, 0 to 123035\n",
      "Data columns (total 3 columns):\n",
      "id              123036 non-null object\n",
      "message_date    123036 non-null object\n",
      "user_id         123036 non-null int64\n",
      "dtypes: int64(1), object(2)\n",
      "memory usage: 2.8+ MB\n",
      "\n",
      "<class 'pandas.core.frame.DataFrame'>\n",
      "RangeIndex: 2 entries, 0 to 1\n",
      "Data columns (total 8 columns):\n",
      "messages_included        2 non-null int64\n",
      "mb_per_month_included    2 non-null int64\n",
      "minutes_included         2 non-null int64\n",
      "rub_monthly_fee          2 non-null int64\n",
      "rub_per_gb               2 non-null int64\n",
      "rub_per_message          2 non-null int64\n",
      "rub_per_minute           2 non-null int64\n",
      "tariff_name              2 non-null object\n",
      "dtypes: int64(7), object(1)\n",
      "memory usage: 256.0+ bytes\n",
      "\n",
      "<class 'pandas.core.frame.DataFrame'>\n",
      "RangeIndex: 500 entries, 0 to 499\n",
      "Data columns (total 8 columns):\n",
      "user_id       500 non-null int64\n",
      "age           500 non-null int64\n",
      "churn_date    38 non-null object\n",
      "city          500 non-null object\n",
      "first_name    500 non-null object\n",
      "last_name     500 non-null object\n",
      "reg_date      500 non-null object\n",
      "tariff        500 non-null object\n",
      "dtypes: int64(2), object(6)\n",
      "memory usage: 31.4+ KB\n",
      "\n"
     ]
    }
   ],
   "source": [
    "data = {'1':df_calls,'2':df_internet,'3':df_messages,'4':df_tariffs,'5':df_users} #словарь для автоматизации обращений к таблицам при обзоре данных\n",
    "\n",
    "for _ in data.keys():\n",
    "    data[_].info()\n",
    "    print()"
   ]
  },
  {
   "cell_type": "markdown",
   "id": "df44916d",
   "metadata": {},
   "source": [
    "<div style=\"border:solid blue 2px; padding: 20px\">\n",
    "    \n",
    "в части типов данных:\n",
    "    \n",
    "    - в столбце duration таблицы df_calls тип данных float, а не int\n",
    "    - в столбце call_date таблицы df_calls тип данных object, а не datetime\n",
    "    \n",
    "    - в столбце mb_used таблицы df_internet тип данных float, а не int\n",
    "    - в столбце session_date таблицы df_internet тип данных object, а не datetime\n",
    "        \n",
    "    - в столбце message_date таблицы df_messages тип данных object, а не datetime\n",
    "    \n",
    "    - в столбце churn_date таблицы df_users тип данных object, а не datetime\n",
    "    - в столбце reg_date таблицы df_users тип данных object, а не datetime"
   ]
  },
  {
   "cell_type": "markdown",
   "id": "d489a107",
   "metadata": {},
   "source": [
    "### Пропущенные значения"
   ]
  },
  {
   "cell_type": "code",
   "execution_count": 5,
   "id": "1a001d3d",
   "metadata": {},
   "outputs": [
    {
     "name": "stdout",
     "output_type": "stream",
     "text": [
      "id           0\n",
      "call_date    0\n",
      "duration     0\n",
      "user_id      0\n",
      "dtype: int64\n",
      "\n",
      "Unnamed: 0      0\n",
      "id              0\n",
      "mb_used         0\n",
      "session_date    0\n",
      "user_id         0\n",
      "dtype: int64\n",
      "\n",
      "id              0\n",
      "message_date    0\n",
      "user_id         0\n",
      "dtype: int64\n",
      "\n",
      "messages_included        0\n",
      "mb_per_month_included    0\n",
      "minutes_included         0\n",
      "rub_monthly_fee          0\n",
      "rub_per_gb               0\n",
      "rub_per_message          0\n",
      "rub_per_minute           0\n",
      "tariff_name              0\n",
      "dtype: int64\n",
      "\n",
      "user_id         0\n",
      "age             0\n",
      "churn_date    462\n",
      "city            0\n",
      "first_name      0\n",
      "last_name       0\n",
      "reg_date        0\n",
      "tariff          0\n",
      "dtype: int64\n",
      "\n"
     ]
    }
   ],
   "source": [
    "for _ in data.keys():\n",
    "    print(data[_].isna().sum())\n",
    "    print()"
   ]
  },
  {
   "cell_type": "markdown",
   "id": "50af02fc",
   "metadata": {},
   "source": [
    "<div style=\"border:solid blue 2px; padding: 20px\">\n",
    "    \n",
    "пропущенные значения в столбце churn_date таблицы df_users соответствуют действующим на момент выгрузки данных контрактам"
   ]
  },
  {
   "cell_type": "markdown",
   "id": "b7aa3105",
   "metadata": {},
   "source": [
    "### Уникальные значения в столбцах"
   ]
  },
  {
   "cell_type": "code",
   "execution_count": 6,
   "id": "67c96bdf",
   "metadata": {},
   "outputs": [
    {
     "name": "stdout",
     "output_type": "stream",
     "text": [
      "id           202607\n",
      "call_date       365\n",
      "duration       2871\n",
      "user_id         492\n",
      "dtype: int64\n",
      "\n",
      "Unnamed: 0      149396\n",
      "id              149396\n",
      "mb_used          70003\n",
      "session_date       365\n",
      "user_id            497\n",
      "dtype: int64\n",
      "\n",
      "id              123036\n",
      "message_date       364\n",
      "user_id            426\n",
      "dtype: int64\n",
      "\n",
      "messages_included        2\n",
      "mb_per_month_included    2\n",
      "minutes_included         2\n",
      "rub_monthly_fee          2\n",
      "rub_per_gb               2\n",
      "rub_per_message          2\n",
      "rub_per_minute           2\n",
      "tariff_name              2\n",
      "dtype: int64\n",
      "\n",
      "user_id       500\n",
      "age            58\n",
      "churn_date     33\n",
      "city           76\n",
      "first_name    246\n",
      "last_name     419\n",
      "reg_date      270\n",
      "tariff          2\n",
      "dtype: int64\n",
      "\n"
     ]
    }
   ],
   "source": [
    "for _ in data.keys():\n",
    "    print(data[_].nunique())\n",
    "    print()"
   ]
  },
  {
   "cell_type": "code",
   "execution_count": 7,
   "id": "58309bfd",
   "metadata": {},
   "outputs": [
    {
     "data": {
      "text/plain": [
       "<bound method Series.unique of 0          0.00\n",
       "57375      0.00\n",
       "57380      0.00\n",
       "57381      0.00\n",
       "157627     0.00\n",
       "          ...  \n",
       "60889     35.95\n",
       "39777     36.12\n",
       "5865      36.47\n",
       "178737    37.35\n",
       "95088     38.00\n",
       "Name: duration, Length: 202607, dtype: float64>"
      ]
     },
     "execution_count": 7,
     "metadata": {},
     "output_type": "execute_result"
    }
   ],
   "source": [
    "df_calls['duration'].sort_values().unique #обзор продолжительности звонков"
   ]
  },
  {
   "cell_type": "code",
   "execution_count": 8,
   "id": "45a9c840",
   "metadata": {},
   "outputs": [
    {
     "data": {
      "text/plain": [
       "<bound method Series.unique of 116616       0.00\n",
       "53410        0.00\n",
       "104303       0.00\n",
       "19438        0.00\n",
       "19437        0.00\n",
       "           ...   \n",
       "140299    1623.92\n",
       "103480    1651.25\n",
       "7063      1651.55\n",
       "119156    1702.75\n",
       "137493    1724.83\n",
       "Name: mb_used, Length: 149396, dtype: float64>"
      ]
     },
     "execution_count": 8,
     "metadata": {},
     "output_type": "execute_result"
    }
   ],
   "source": [
    "df_internet['mb_used'].sort_values().unique #обзор объёма потраченного за сессию интернет-трафика"
   ]
  },
  {
   "cell_type": "markdown",
   "id": "8b75d0ba",
   "metadata": {},
   "source": [
    "<div style=\"border:solid blue 2px; padding: 20px\">\n",
    "    \n",
    "данные в df_calls['duration'] и df_internet['mb_used'] не округлены в соответствии со стандартами оператора\n",
    "    \n",
    "стоит отметить удобную особенность, заключающуюся в том, что в рамках периода кажый user использовал только один тариф (вывод можно сделать по количеству уникальных значений в столбце user_id таблицы df_users)"
   ]
  },
  {
   "cell_type": "markdown",
   "id": "389abf53",
   "metadata": {},
   "source": [
    "### Дубликаты"
   ]
  },
  {
   "cell_type": "code",
   "execution_count": 9,
   "id": "b7825c7e",
   "metadata": {},
   "outputs": [
    {
     "name": "stdout",
     "output_type": "stream",
     "text": [
      "0\n",
      "\n",
      "0\n",
      "\n",
      "0\n",
      "\n",
      "0\n",
      "\n",
      "0\n",
      "\n"
     ]
    }
   ],
   "source": [
    "for _ in data.keys():\n",
    "    print(data[_].duplicated().sum())\n",
    "    print()"
   ]
  },
  {
   "cell_type": "code",
   "execution_count": 10,
   "id": "6b0d51e5",
   "metadata": {},
   "outputs": [
    {
     "data": {
      "text/plain": [
       "0"
      ]
     },
     "execution_count": 10,
     "metadata": {},
     "output_type": "execute_result"
    }
   ],
   "source": [
    "df_users[['first_name','last_name','reg_date']].duplicated().sum() #проверка неявных дубликатов в df_users"
   ]
  },
  {
   "cell_type": "markdown",
   "id": "4fee14af",
   "metadata": {},
   "source": [
    "<div style=\"border:solid blue 2px; padding: 20px\">\n",
    "    \n",
    "явные дубликаты не выявлены"
   ]
  },
  {
   "cell_type": "markdown",
   "id": "62ff93d9",
   "metadata": {},
   "source": [
    "## Предобработка данных"
   ]
  },
  {
   "cell_type": "markdown",
   "id": "05a87793",
   "metadata": {},
   "source": [
    "### Типы данных"
   ]
  },
  {
   "cell_type": "markdown",
   "id": "9f00245a",
   "metadata": {},
   "source": [
    "#### df_calls"
   ]
  },
  {
   "cell_type": "code",
   "execution_count": 11,
   "id": "f4dec9ba",
   "metadata": {
    "scrolled": false
   },
   "outputs": [
    {
     "data": {
      "text/plain": [
       "0     0\n",
       "1     0\n",
       "2     3\n",
       "3    14\n",
       "4     6\n",
       "Name: duration, dtype: int64"
      ]
     },
     "execution_count": 11,
     "metadata": {},
     "output_type": "execute_result"
    }
   ],
   "source": [
    "df_calls['duration'] = df_calls['duration'].apply(math.ceil) #округляем вверх значения в столбце duration таблицы df_calls\n",
    "\n",
    "df_calls['duration'].head() #проверка"
   ]
  },
  {
   "cell_type": "code",
   "execution_count": 12,
   "id": "719c098f",
   "metadata": {},
   "outputs": [
    {
     "data": {
      "text/plain": [
       "0   2018-07-25\n",
       "1   2018-08-17\n",
       "2   2018-06-11\n",
       "3   2018-09-21\n",
       "4   2018-12-15\n",
       "Name: call_date, dtype: datetime64[ns]"
      ]
     },
     "execution_count": 12,
     "metadata": {},
     "output_type": "execute_result"
    }
   ],
   "source": [
    "df_calls['call_date']= pd.to_datetime(df_calls['call_date'], format='%Y-%m-%d') #приведем данные к типу datetime\n",
    "\n",
    "df_calls['call_date'].head() #проверка"
   ]
  },
  {
   "cell_type": "code",
   "execution_count": 13,
   "id": "5604998f",
   "metadata": {
    "scrolled": true
   },
   "outputs": [
    {
     "name": "stdout",
     "output_type": "stream",
     "text": [
      "<class 'pandas.core.frame.DataFrame'>\n",
      "RangeIndex: 202607 entries, 0 to 202606\n",
      "Data columns (total 4 columns):\n",
      "id           202607 non-null object\n",
      "call_date    202607 non-null datetime64[ns]\n",
      "duration     202607 non-null int64\n",
      "user_id      202607 non-null int64\n",
      "dtypes: datetime64[ns](1), int64(2), object(1)\n",
      "memory usage: 6.2+ MB\n"
     ]
    }
   ],
   "source": [
    "df_calls.info() #проверка"
   ]
  },
  {
   "cell_type": "markdown",
   "id": "cc550bc2",
   "metadata": {},
   "source": [
    "#### df_internet "
   ]
  },
  {
   "cell_type": "markdown",
   "id": "6b3c1db7",
   "metadata": {},
   "source": [
    "изменение типа данных/округление в столбце mb_used таблицы df_internet будет произведено позже по скольку по стандартам оператора для веб-трафика отдельные сессии не считаются, вместо этого общая сумма за месяц округляется до Гб в большую сторону"
   ]
  },
  {
   "cell_type": "code",
   "execution_count": 14,
   "id": "2574ce4c",
   "metadata": {},
   "outputs": [
    {
     "data": {
      "text/plain": [
       "0   2018-11-25\n",
       "1   2018-09-07\n",
       "2   2018-06-25\n",
       "3   2018-08-22\n",
       "4   2018-09-24\n",
       "Name: session_date, dtype: datetime64[ns]"
      ]
     },
     "execution_count": 14,
     "metadata": {},
     "output_type": "execute_result"
    }
   ],
   "source": [
    "df_internet['session_date']= pd.to_datetime(df_internet['session_date'], format='%Y-%m-%d') #приведем данные к типу datetime\n",
    "\n",
    "df_internet['session_date'].head() #проверка"
   ]
  },
  {
   "cell_type": "markdown",
   "id": "0766f05e",
   "metadata": {},
   "source": [
    "#### df_messages"
   ]
  },
  {
   "cell_type": "code",
   "execution_count": 15,
   "id": "f5e2b211",
   "metadata": {},
   "outputs": [
    {
     "data": {
      "text/plain": [
       "0   2018-06-27\n",
       "1   2018-10-08\n",
       "2   2018-08-04\n",
       "3   2018-06-16\n",
       "4   2018-12-05\n",
       "Name: message_date, dtype: datetime64[ns]"
      ]
     },
     "execution_count": 15,
     "metadata": {},
     "output_type": "execute_result"
    }
   ],
   "source": [
    "df_messages['message_date']= pd.to_datetime(df_messages['message_date'], format='%Y-%m-%d') #приведем данные к типу datetime\n",
    "\n",
    "df_messages['message_date'].head() #проверка"
   ]
  },
  {
   "cell_type": "markdown",
   "id": "8a717457",
   "metadata": {},
   "source": [
    "#### df_users"
   ]
  },
  {
   "cell_type": "code",
   "execution_count": 16,
   "id": "468b2032",
   "metadata": {},
   "outputs": [
    {
     "data": {
      "text/plain": [
       "0   NaT\n",
       "1   NaT\n",
       "2   NaT\n",
       "3   NaT\n",
       "4   NaT\n",
       "Name: churn_date, dtype: datetime64[ns]"
      ]
     },
     "execution_count": 16,
     "metadata": {},
     "output_type": "execute_result"
    }
   ],
   "source": [
    "df_users['churn_date']= pd.to_datetime(df_users['churn_date'], format='%Y-%m-%d') #приведем данные к типу datetime\n",
    "\n",
    "df_users['churn_date'].head() #проверка"
   ]
  },
  {
   "cell_type": "code",
   "execution_count": 17,
   "id": "9ea8b5cb",
   "metadata": {},
   "outputs": [
    {
     "data": {
      "text/plain": [
       "0   2018-05-25\n",
       "1   2018-11-01\n",
       "2   2018-06-17\n",
       "3   2018-08-17\n",
       "4   2018-05-14\n",
       "Name: reg_date, dtype: datetime64[ns]"
      ]
     },
     "execution_count": 17,
     "metadata": {},
     "output_type": "execute_result"
    }
   ],
   "source": [
    "df_users['reg_date']= pd.to_datetime(df_users['reg_date'], format='%Y-%m-%d') #приведем данные к типу datetime\n",
    "\n",
    "df_users['reg_date'].head() #проверка"
   ]
  },
  {
   "cell_type": "markdown",
   "id": "ebf6fb4a",
   "metadata": {},
   "source": [
    "### Расчет метрик"
   ]
  },
  {
   "cell_type": "markdown",
   "id": "7093878c",
   "metadata": {},
   "source": [
    "#### Количество сделанных звонков и израсходованных минут разговора по месяцам"
   ]
  },
  {
   "cell_type": "code",
   "execution_count": 18,
   "id": "e902b4a2",
   "metadata": {},
   "outputs": [],
   "source": [
    "df_calls['call_month'] =pd.DatetimeIndex(df_calls['call_date']).month #добавляем в df_calls номер месяца в котором сделан звонок"
   ]
  },
  {
   "cell_type": "code",
   "execution_count": 19,
   "id": "2cf08b8a",
   "metadata": {},
   "outputs": [
    {
     "data": {
      "text/html": [
       "<div>\n",
       "<style scoped>\n",
       "    .dataframe tbody tr th:only-of-type {\n",
       "        vertical-align: middle;\n",
       "    }\n",
       "\n",
       "    .dataframe tbody tr th {\n",
       "        vertical-align: top;\n",
       "    }\n",
       "\n",
       "    .dataframe thead th {\n",
       "        text-align: right;\n",
       "    }\n",
       "</style>\n",
       "<table border=\"1\" class=\"dataframe\">\n",
       "  <thead>\n",
       "    <tr style=\"text-align: right;\">\n",
       "      <th></th>\n",
       "      <th>user_id</th>\n",
       "      <th>age</th>\n",
       "      <th>churn_date</th>\n",
       "      <th>city</th>\n",
       "      <th>first_name</th>\n",
       "      <th>last_name</th>\n",
       "      <th>reg_date</th>\n",
       "      <th>tariff</th>\n",
       "      <th>1_month_calls</th>\n",
       "      <th>2_month_calls</th>\n",
       "      <th>3_month_calls</th>\n",
       "      <th>4_month_calls</th>\n",
       "      <th>5_month_calls</th>\n",
       "      <th>6_month_calls</th>\n",
       "      <th>7_month_calls</th>\n",
       "      <th>8_month_calls</th>\n",
       "      <th>9_month_calls</th>\n",
       "      <th>10_month_calls</th>\n",
       "      <th>11_month_calls</th>\n",
       "      <th>12_month_calls</th>\n",
       "    </tr>\n",
       "  </thead>\n",
       "  <tbody>\n",
       "    <tr>\n",
       "      <td>0</td>\n",
       "      <td>1000</td>\n",
       "      <td>52</td>\n",
       "      <td>NaT</td>\n",
       "      <td>Краснодар</td>\n",
       "      <td>Рафаил</td>\n",
       "      <td>Верещагин</td>\n",
       "      <td>2018-05-25</td>\n",
       "      <td>ultra</td>\n",
       "      <td>NaN</td>\n",
       "      <td>NaN</td>\n",
       "      <td>NaN</td>\n",
       "      <td>NaN</td>\n",
       "      <td>22.0</td>\n",
       "      <td>43.0</td>\n",
       "      <td>47.0</td>\n",
       "      <td>52.0</td>\n",
       "      <td>58.0</td>\n",
       "      <td>57.0</td>\n",
       "      <td>43.0</td>\n",
       "      <td>46.0</td>\n",
       "    </tr>\n",
       "    <tr>\n",
       "      <td>1</td>\n",
       "      <td>1001</td>\n",
       "      <td>41</td>\n",
       "      <td>NaT</td>\n",
       "      <td>Москва</td>\n",
       "      <td>Иван</td>\n",
       "      <td>Ежов</td>\n",
       "      <td>2018-11-01</td>\n",
       "      <td>smart</td>\n",
       "      <td>NaN</td>\n",
       "      <td>NaN</td>\n",
       "      <td>NaN</td>\n",
       "      <td>NaN</td>\n",
       "      <td>NaN</td>\n",
       "      <td>NaN</td>\n",
       "      <td>NaN</td>\n",
       "      <td>NaN</td>\n",
       "      <td>NaN</td>\n",
       "      <td>NaN</td>\n",
       "      <td>59.0</td>\n",
       "      <td>63.0</td>\n",
       "    </tr>\n",
       "    <tr>\n",
       "      <td>2</td>\n",
       "      <td>1002</td>\n",
       "      <td>59</td>\n",
       "      <td>NaT</td>\n",
       "      <td>Стерлитамак</td>\n",
       "      <td>Евгений</td>\n",
       "      <td>Абрамович</td>\n",
       "      <td>2018-06-17</td>\n",
       "      <td>smart</td>\n",
       "      <td>NaN</td>\n",
       "      <td>NaN</td>\n",
       "      <td>NaN</td>\n",
       "      <td>NaN</td>\n",
       "      <td>NaN</td>\n",
       "      <td>15.0</td>\n",
       "      <td>26.0</td>\n",
       "      <td>42.0</td>\n",
       "      <td>36.0</td>\n",
       "      <td>33.0</td>\n",
       "      <td>32.0</td>\n",
       "      <td>33.0</td>\n",
       "    </tr>\n",
       "    <tr>\n",
       "      <td>3</td>\n",
       "      <td>1003</td>\n",
       "      <td>23</td>\n",
       "      <td>NaT</td>\n",
       "      <td>Москва</td>\n",
       "      <td>Белла</td>\n",
       "      <td>Белякова</td>\n",
       "      <td>2018-08-17</td>\n",
       "      <td>ultra</td>\n",
       "      <td>NaN</td>\n",
       "      <td>NaN</td>\n",
       "      <td>NaN</td>\n",
       "      <td>NaN</td>\n",
       "      <td>NaN</td>\n",
       "      <td>NaN</td>\n",
       "      <td>NaN</td>\n",
       "      <td>55.0</td>\n",
       "      <td>134.0</td>\n",
       "      <td>108.0</td>\n",
       "      <td>115.0</td>\n",
       "      <td>108.0</td>\n",
       "    </tr>\n",
       "    <tr>\n",
       "      <td>4</td>\n",
       "      <td>1004</td>\n",
       "      <td>68</td>\n",
       "      <td>NaT</td>\n",
       "      <td>Новокузнецк</td>\n",
       "      <td>Татьяна</td>\n",
       "      <td>Авдеенко</td>\n",
       "      <td>2018-05-14</td>\n",
       "      <td>ultra</td>\n",
       "      <td>NaN</td>\n",
       "      <td>NaN</td>\n",
       "      <td>NaN</td>\n",
       "      <td>NaN</td>\n",
       "      <td>9.0</td>\n",
       "      <td>31.0</td>\n",
       "      <td>22.0</td>\n",
       "      <td>19.0</td>\n",
       "      <td>26.0</td>\n",
       "      <td>29.0</td>\n",
       "      <td>19.0</td>\n",
       "      <td>21.0</td>\n",
       "    </tr>\n",
       "  </tbody>\n",
       "</table>\n",
       "</div>"
      ],
      "text/plain": [
       "   user_id  age churn_date         city first_name  last_name   reg_date  \\\n",
       "0     1000   52        NaT    Краснодар     Рафаил  Верещагин 2018-05-25   \n",
       "1     1001   41        NaT       Москва       Иван       Ежов 2018-11-01   \n",
       "2     1002   59        NaT  Стерлитамак    Евгений  Абрамович 2018-06-17   \n",
       "3     1003   23        NaT       Москва      Белла   Белякова 2018-08-17   \n",
       "4     1004   68        NaT  Новокузнецк    Татьяна   Авдеенко 2018-05-14   \n",
       "\n",
       "  tariff  1_month_calls  2_month_calls  3_month_calls  4_month_calls  \\\n",
       "0  ultra            NaN            NaN            NaN            NaN   \n",
       "1  smart            NaN            NaN            NaN            NaN   \n",
       "2  smart            NaN            NaN            NaN            NaN   \n",
       "3  ultra            NaN            NaN            NaN            NaN   \n",
       "4  ultra            NaN            NaN            NaN            NaN   \n",
       "\n",
       "   5_month_calls  6_month_calls  7_month_calls  8_month_calls  9_month_calls  \\\n",
       "0           22.0           43.0           47.0           52.0           58.0   \n",
       "1            NaN            NaN            NaN            NaN            NaN   \n",
       "2            NaN           15.0           26.0           42.0           36.0   \n",
       "3            NaN            NaN            NaN           55.0          134.0   \n",
       "4            9.0           31.0           22.0           19.0           26.0   \n",
       "\n",
       "   10_month_calls  11_month_calls  12_month_calls  \n",
       "0            57.0            43.0            46.0  \n",
       "1             NaN            59.0            63.0  \n",
       "2            33.0            32.0            33.0  \n",
       "3           108.0           115.0           108.0  \n",
       "4            29.0            19.0            21.0  "
      ]
     },
     "execution_count": 19,
     "metadata": {},
     "output_type": "execute_result"
    }
   ],
   "source": [
    "for _ in range(1,13): #цикл проходит по количеству месяцев в году\n",
    "    period = str(_) + '_month_calls' #автоматизируем присвоение названий столбцам\n",
    "    df_users[period] = df_users.join(df_calls.query('call_month == @_').groupby(by='user_id')['id'].count(), on='user_id')['id']\n",
    "    #считаем для каждого пользователя количество совершенных звонков в месяц\n",
    "df_users.head() #проверка"
   ]
  },
  {
   "cell_type": "code",
   "execution_count": 20,
   "id": "3a620998",
   "metadata": {},
   "outputs": [
    {
     "data": {
      "text/html": [
       "<div>\n",
       "<style scoped>\n",
       "    .dataframe tbody tr th:only-of-type {\n",
       "        vertical-align: middle;\n",
       "    }\n",
       "\n",
       "    .dataframe tbody tr th {\n",
       "        vertical-align: top;\n",
       "    }\n",
       "\n",
       "    .dataframe thead th {\n",
       "        text-align: right;\n",
       "    }\n",
       "</style>\n",
       "<table border=\"1\" class=\"dataframe\">\n",
       "  <thead>\n",
       "    <tr style=\"text-align: right;\">\n",
       "      <th></th>\n",
       "      <th>user_id</th>\n",
       "      <th>age</th>\n",
       "      <th>churn_date</th>\n",
       "      <th>city</th>\n",
       "      <th>first_name</th>\n",
       "      <th>last_name</th>\n",
       "      <th>reg_date</th>\n",
       "      <th>tariff</th>\n",
       "      <th>1_month_calls</th>\n",
       "      <th>2_month_calls</th>\n",
       "      <th>...</th>\n",
       "      <th>3_month_calls_length</th>\n",
       "      <th>4_month_calls_length</th>\n",
       "      <th>5_month_calls_length</th>\n",
       "      <th>6_month_calls_length</th>\n",
       "      <th>7_month_calls_length</th>\n",
       "      <th>8_month_calls_length</th>\n",
       "      <th>9_month_calls_length</th>\n",
       "      <th>10_month_calls_length</th>\n",
       "      <th>11_month_calls_length</th>\n",
       "      <th>12_month_calls_length</th>\n",
       "    </tr>\n",
       "  </thead>\n",
       "  <tbody>\n",
       "    <tr>\n",
       "      <td>0</td>\n",
       "      <td>1000</td>\n",
       "      <td>52</td>\n",
       "      <td>NaT</td>\n",
       "      <td>Краснодар</td>\n",
       "      <td>Рафаил</td>\n",
       "      <td>Верещагин</td>\n",
       "      <td>2018-05-25</td>\n",
       "      <td>ultra</td>\n",
       "      <td>NaN</td>\n",
       "      <td>NaN</td>\n",
       "      <td>...</td>\n",
       "      <td>NaN</td>\n",
       "      <td>NaN</td>\n",
       "      <td>159.0</td>\n",
       "      <td>172.0</td>\n",
       "      <td>340.0</td>\n",
       "      <td>408.0</td>\n",
       "      <td>466.0</td>\n",
       "      <td>350.0</td>\n",
       "      <td>338.0</td>\n",
       "      <td>333.0</td>\n",
       "    </tr>\n",
       "    <tr>\n",
       "      <td>1</td>\n",
       "      <td>1001</td>\n",
       "      <td>41</td>\n",
       "      <td>NaT</td>\n",
       "      <td>Москва</td>\n",
       "      <td>Иван</td>\n",
       "      <td>Ежов</td>\n",
       "      <td>2018-11-01</td>\n",
       "      <td>smart</td>\n",
       "      <td>NaN</td>\n",
       "      <td>NaN</td>\n",
       "      <td>...</td>\n",
       "      <td>NaN</td>\n",
       "      <td>NaN</td>\n",
       "      <td>NaN</td>\n",
       "      <td>NaN</td>\n",
       "      <td>NaN</td>\n",
       "      <td>NaN</td>\n",
       "      <td>NaN</td>\n",
       "      <td>NaN</td>\n",
       "      <td>430.0</td>\n",
       "      <td>414.0</td>\n",
       "    </tr>\n",
       "    <tr>\n",
       "      <td>2</td>\n",
       "      <td>1002</td>\n",
       "      <td>59</td>\n",
       "      <td>NaT</td>\n",
       "      <td>Стерлитамак</td>\n",
       "      <td>Евгений</td>\n",
       "      <td>Абрамович</td>\n",
       "      <td>2018-06-17</td>\n",
       "      <td>smart</td>\n",
       "      <td>NaN</td>\n",
       "      <td>NaN</td>\n",
       "      <td>...</td>\n",
       "      <td>NaN</td>\n",
       "      <td>NaN</td>\n",
       "      <td>NaN</td>\n",
       "      <td>117.0</td>\n",
       "      <td>214.0</td>\n",
       "      <td>289.0</td>\n",
       "      <td>206.0</td>\n",
       "      <td>212.0</td>\n",
       "      <td>243.0</td>\n",
       "      <td>236.0</td>\n",
       "    </tr>\n",
       "    <tr>\n",
       "      <td>3</td>\n",
       "      <td>1003</td>\n",
       "      <td>23</td>\n",
       "      <td>NaT</td>\n",
       "      <td>Москва</td>\n",
       "      <td>Белла</td>\n",
       "      <td>Белякова</td>\n",
       "      <td>2018-08-17</td>\n",
       "      <td>ultra</td>\n",
       "      <td>NaN</td>\n",
       "      <td>NaN</td>\n",
       "      <td>...</td>\n",
       "      <td>NaN</td>\n",
       "      <td>NaN</td>\n",
       "      <td>NaN</td>\n",
       "      <td>NaN</td>\n",
       "      <td>NaN</td>\n",
       "      <td>380.0</td>\n",
       "      <td>961.0</td>\n",
       "      <td>855.0</td>\n",
       "      <td>824.0</td>\n",
       "      <td>802.0</td>\n",
       "    </tr>\n",
       "    <tr>\n",
       "      <td>4</td>\n",
       "      <td>1004</td>\n",
       "      <td>68</td>\n",
       "      <td>NaT</td>\n",
       "      <td>Новокузнецк</td>\n",
       "      <td>Татьяна</td>\n",
       "      <td>Авдеенко</td>\n",
       "      <td>2018-05-14</td>\n",
       "      <td>ultra</td>\n",
       "      <td>NaN</td>\n",
       "      <td>NaN</td>\n",
       "      <td>...</td>\n",
       "      <td>NaN</td>\n",
       "      <td>NaN</td>\n",
       "      <td>35.0</td>\n",
       "      <td>171.0</td>\n",
       "      <td>135.0</td>\n",
       "      <td>137.0</td>\n",
       "      <td>117.0</td>\n",
       "      <td>145.0</td>\n",
       "      <td>117.0</td>\n",
       "      <td>130.0</td>\n",
       "    </tr>\n",
       "  </tbody>\n",
       "</table>\n",
       "<p>5 rows × 32 columns</p>\n",
       "</div>"
      ],
      "text/plain": [
       "   user_id  age churn_date         city first_name  last_name   reg_date  \\\n",
       "0     1000   52        NaT    Краснодар     Рафаил  Верещагин 2018-05-25   \n",
       "1     1001   41        NaT       Москва       Иван       Ежов 2018-11-01   \n",
       "2     1002   59        NaT  Стерлитамак    Евгений  Абрамович 2018-06-17   \n",
       "3     1003   23        NaT       Москва      Белла   Белякова 2018-08-17   \n",
       "4     1004   68        NaT  Новокузнецк    Татьяна   Авдеенко 2018-05-14   \n",
       "\n",
       "  tariff  1_month_calls  2_month_calls  ...  3_month_calls_length  \\\n",
       "0  ultra            NaN            NaN  ...                   NaN   \n",
       "1  smart            NaN            NaN  ...                   NaN   \n",
       "2  smart            NaN            NaN  ...                   NaN   \n",
       "3  ultra            NaN            NaN  ...                   NaN   \n",
       "4  ultra            NaN            NaN  ...                   NaN   \n",
       "\n",
       "   4_month_calls_length  5_month_calls_length  6_month_calls_length  \\\n",
       "0                   NaN                 159.0                 172.0   \n",
       "1                   NaN                   NaN                   NaN   \n",
       "2                   NaN                   NaN                 117.0   \n",
       "3                   NaN                   NaN                   NaN   \n",
       "4                   NaN                  35.0                 171.0   \n",
       "\n",
       "   7_month_calls_length  8_month_calls_length  9_month_calls_length  \\\n",
       "0                 340.0                 408.0                 466.0   \n",
       "1                   NaN                   NaN                   NaN   \n",
       "2                 214.0                 289.0                 206.0   \n",
       "3                   NaN                 380.0                 961.0   \n",
       "4                 135.0                 137.0                 117.0   \n",
       "\n",
       "   10_month_calls_length  11_month_calls_length  12_month_calls_length  \n",
       "0                  350.0                  338.0                  333.0  \n",
       "1                    NaN                  430.0                  414.0  \n",
       "2                  212.0                  243.0                  236.0  \n",
       "3                  855.0                  824.0                  802.0  \n",
       "4                  145.0                  117.0                  130.0  \n",
       "\n",
       "[5 rows x 32 columns]"
      ]
     },
     "execution_count": 20,
     "metadata": {},
     "output_type": "execute_result"
    }
   ],
   "source": [
    "for _ in range(1,13): #цикл проходит по количеству месяцев в году\n",
    "    period = str(_) + '_month_calls_length' #автоматизируем присвоение названий столбцам\n",
    "    df_users[period] = df_users.join(df_calls.query('call_month == @_').groupby(by='user_id')['duration'].sum(), on='user_id')['duration']\n",
    "    #считаем для каждого пользователя длительность совершенных звонков в месяц\n",
    "df_users.head() #проверка"
   ]
  },
  {
   "cell_type": "markdown",
   "id": "76b034e6",
   "metadata": {},
   "source": [
    "#### Количество отправленных сообщений по месяцам"
   ]
  },
  {
   "cell_type": "code",
   "execution_count": 21,
   "id": "a41d2497",
   "metadata": {},
   "outputs": [],
   "source": [
    "df_messages['message_month'] =pd.DatetimeIndex(df_messages['message_date']).month #добавляем в df_messages номер месяца в котором отправлено сообщение"
   ]
  },
  {
   "cell_type": "code",
   "execution_count": 22,
   "id": "9b1fe1d3",
   "metadata": {},
   "outputs": [
    {
     "data": {
      "text/html": [
       "<div>\n",
       "<style scoped>\n",
       "    .dataframe tbody tr th:only-of-type {\n",
       "        vertical-align: middle;\n",
       "    }\n",
       "\n",
       "    .dataframe tbody tr th {\n",
       "        vertical-align: top;\n",
       "    }\n",
       "\n",
       "    .dataframe thead th {\n",
       "        text-align: right;\n",
       "    }\n",
       "</style>\n",
       "<table border=\"1\" class=\"dataframe\">\n",
       "  <thead>\n",
       "    <tr style=\"text-align: right;\">\n",
       "      <th></th>\n",
       "      <th>user_id</th>\n",
       "      <th>age</th>\n",
       "      <th>churn_date</th>\n",
       "      <th>city</th>\n",
       "      <th>first_name</th>\n",
       "      <th>last_name</th>\n",
       "      <th>reg_date</th>\n",
       "      <th>tariff</th>\n",
       "      <th>1_month_calls</th>\n",
       "      <th>2_month_calls</th>\n",
       "      <th>...</th>\n",
       "      <th>3_month_messages</th>\n",
       "      <th>4_month_messages</th>\n",
       "      <th>5_month_messages</th>\n",
       "      <th>6_month_messages</th>\n",
       "      <th>7_month_messages</th>\n",
       "      <th>8_month_messages</th>\n",
       "      <th>9_month_messages</th>\n",
       "      <th>10_month_messages</th>\n",
       "      <th>11_month_messages</th>\n",
       "      <th>12_month_messages</th>\n",
       "    </tr>\n",
       "  </thead>\n",
       "  <tbody>\n",
       "    <tr>\n",
       "      <td>0</td>\n",
       "      <td>1000</td>\n",
       "      <td>52</td>\n",
       "      <td>NaT</td>\n",
       "      <td>Краснодар</td>\n",
       "      <td>Рафаил</td>\n",
       "      <td>Верещагин</td>\n",
       "      <td>2018-05-25</td>\n",
       "      <td>ultra</td>\n",
       "      <td>NaN</td>\n",
       "      <td>NaN</td>\n",
       "      <td>...</td>\n",
       "      <td>NaN</td>\n",
       "      <td>NaN</td>\n",
       "      <td>22.0</td>\n",
       "      <td>60.0</td>\n",
       "      <td>75.0</td>\n",
       "      <td>81.0</td>\n",
       "      <td>57.0</td>\n",
       "      <td>73.0</td>\n",
       "      <td>58.0</td>\n",
       "      <td>70.0</td>\n",
       "    </tr>\n",
       "    <tr>\n",
       "      <td>1</td>\n",
       "      <td>1001</td>\n",
       "      <td>41</td>\n",
       "      <td>NaT</td>\n",
       "      <td>Москва</td>\n",
       "      <td>Иван</td>\n",
       "      <td>Ежов</td>\n",
       "      <td>2018-11-01</td>\n",
       "      <td>smart</td>\n",
       "      <td>NaN</td>\n",
       "      <td>NaN</td>\n",
       "      <td>...</td>\n",
       "      <td>NaN</td>\n",
       "      <td>NaN</td>\n",
       "      <td>NaN</td>\n",
       "      <td>NaN</td>\n",
       "      <td>NaN</td>\n",
       "      <td>NaN</td>\n",
       "      <td>NaN</td>\n",
       "      <td>NaN</td>\n",
       "      <td>NaN</td>\n",
       "      <td>NaN</td>\n",
       "    </tr>\n",
       "    <tr>\n",
       "      <td>2</td>\n",
       "      <td>1002</td>\n",
       "      <td>59</td>\n",
       "      <td>NaT</td>\n",
       "      <td>Стерлитамак</td>\n",
       "      <td>Евгений</td>\n",
       "      <td>Абрамович</td>\n",
       "      <td>2018-06-17</td>\n",
       "      <td>smart</td>\n",
       "      <td>NaN</td>\n",
       "      <td>NaN</td>\n",
       "      <td>...</td>\n",
       "      <td>NaN</td>\n",
       "      <td>NaN</td>\n",
       "      <td>NaN</td>\n",
       "      <td>4.0</td>\n",
       "      <td>11.0</td>\n",
       "      <td>13.0</td>\n",
       "      <td>4.0</td>\n",
       "      <td>10.0</td>\n",
       "      <td>16.0</td>\n",
       "      <td>12.0</td>\n",
       "    </tr>\n",
       "    <tr>\n",
       "      <td>3</td>\n",
       "      <td>1003</td>\n",
       "      <td>23</td>\n",
       "      <td>NaT</td>\n",
       "      <td>Москва</td>\n",
       "      <td>Белла</td>\n",
       "      <td>Белякова</td>\n",
       "      <td>2018-08-17</td>\n",
       "      <td>ultra</td>\n",
       "      <td>NaN</td>\n",
       "      <td>NaN</td>\n",
       "      <td>...</td>\n",
       "      <td>NaN</td>\n",
       "      <td>NaN</td>\n",
       "      <td>NaN</td>\n",
       "      <td>NaN</td>\n",
       "      <td>NaN</td>\n",
       "      <td>37.0</td>\n",
       "      <td>91.0</td>\n",
       "      <td>83.0</td>\n",
       "      <td>94.0</td>\n",
       "      <td>75.0</td>\n",
       "    </tr>\n",
       "    <tr>\n",
       "      <td>4</td>\n",
       "      <td>1004</td>\n",
       "      <td>68</td>\n",
       "      <td>NaT</td>\n",
       "      <td>Новокузнецк</td>\n",
       "      <td>Татьяна</td>\n",
       "      <td>Авдеенко</td>\n",
       "      <td>2018-05-14</td>\n",
       "      <td>ultra</td>\n",
       "      <td>NaN</td>\n",
       "      <td>NaN</td>\n",
       "      <td>...</td>\n",
       "      <td>NaN</td>\n",
       "      <td>NaN</td>\n",
       "      <td>95.0</td>\n",
       "      <td>134.0</td>\n",
       "      <td>181.0</td>\n",
       "      <td>151.0</td>\n",
       "      <td>146.0</td>\n",
       "      <td>165.0</td>\n",
       "      <td>158.0</td>\n",
       "      <td>162.0</td>\n",
       "    </tr>\n",
       "  </tbody>\n",
       "</table>\n",
       "<p>5 rows × 44 columns</p>\n",
       "</div>"
      ],
      "text/plain": [
       "   user_id  age churn_date         city first_name  last_name   reg_date  \\\n",
       "0     1000   52        NaT    Краснодар     Рафаил  Верещагин 2018-05-25   \n",
       "1     1001   41        NaT       Москва       Иван       Ежов 2018-11-01   \n",
       "2     1002   59        NaT  Стерлитамак    Евгений  Абрамович 2018-06-17   \n",
       "3     1003   23        NaT       Москва      Белла   Белякова 2018-08-17   \n",
       "4     1004   68        NaT  Новокузнецк    Татьяна   Авдеенко 2018-05-14   \n",
       "\n",
       "  tariff  1_month_calls  2_month_calls  ...  3_month_messages  \\\n",
       "0  ultra            NaN            NaN  ...               NaN   \n",
       "1  smart            NaN            NaN  ...               NaN   \n",
       "2  smart            NaN            NaN  ...               NaN   \n",
       "3  ultra            NaN            NaN  ...               NaN   \n",
       "4  ultra            NaN            NaN  ...               NaN   \n",
       "\n",
       "   4_month_messages  5_month_messages  6_month_messages  7_month_messages  \\\n",
       "0               NaN              22.0              60.0              75.0   \n",
       "1               NaN               NaN               NaN               NaN   \n",
       "2               NaN               NaN               4.0              11.0   \n",
       "3               NaN               NaN               NaN               NaN   \n",
       "4               NaN              95.0             134.0             181.0   \n",
       "\n",
       "   8_month_messages  9_month_messages  10_month_messages  11_month_messages  \\\n",
       "0              81.0              57.0               73.0               58.0   \n",
       "1               NaN               NaN                NaN                NaN   \n",
       "2              13.0               4.0               10.0               16.0   \n",
       "3              37.0              91.0               83.0               94.0   \n",
       "4             151.0             146.0              165.0              158.0   \n",
       "\n",
       "   12_month_messages  \n",
       "0               70.0  \n",
       "1                NaN  \n",
       "2               12.0  \n",
       "3               75.0  \n",
       "4              162.0  \n",
       "\n",
       "[5 rows x 44 columns]"
      ]
     },
     "execution_count": 22,
     "metadata": {},
     "output_type": "execute_result"
    }
   ],
   "source": [
    "for _ in range(1,13): #цикл проходит по количеству месяцев в году\n",
    "    period = str(_) + '_month_messages' #автоматизируем присвоение названий столбцам\n",
    "    df_users[period] = df_users.join(df_messages.query('message_month == @_').groupby(by='user_id')['id'].count(), on='user_id')['id']\n",
    "    #считаем для каждого пользователя количество отправленых сообщений в месяц\n",
    "df_users.head() #проверка"
   ]
  },
  {
   "cell_type": "markdown",
   "id": "da2a39c6",
   "metadata": {},
   "source": [
    "#### Объем израсходованного интернет-трафика по месяцам"
   ]
  },
  {
   "cell_type": "code",
   "execution_count": 23,
   "id": "d65a07e7",
   "metadata": {},
   "outputs": [],
   "source": [
    "df_internet['session_month'] =pd.DatetimeIndex(df_internet['session_date']).month #добавляем в df_internet номер месяца в котором была открыта сессия"
   ]
  },
  {
   "cell_type": "code",
   "execution_count": 24,
   "id": "9b8959b5",
   "metadata": {},
   "outputs": [
    {
     "data": {
      "text/html": [
       "<div>\n",
       "<style scoped>\n",
       "    .dataframe tbody tr th:only-of-type {\n",
       "        vertical-align: middle;\n",
       "    }\n",
       "\n",
       "    .dataframe tbody tr th {\n",
       "        vertical-align: top;\n",
       "    }\n",
       "\n",
       "    .dataframe thead th {\n",
       "        text-align: right;\n",
       "    }\n",
       "</style>\n",
       "<table border=\"1\" class=\"dataframe\">\n",
       "  <thead>\n",
       "    <tr style=\"text-align: right;\">\n",
       "      <th></th>\n",
       "      <th>user_id</th>\n",
       "      <th>age</th>\n",
       "      <th>churn_date</th>\n",
       "      <th>city</th>\n",
       "      <th>first_name</th>\n",
       "      <th>last_name</th>\n",
       "      <th>reg_date</th>\n",
       "      <th>tariff</th>\n",
       "      <th>1_month_calls</th>\n",
       "      <th>2_month_calls</th>\n",
       "      <th>...</th>\n",
       "      <th>3_month_mb_used</th>\n",
       "      <th>4_month_mb_used</th>\n",
       "      <th>5_month_mb_used</th>\n",
       "      <th>6_month_mb_used</th>\n",
       "      <th>7_month_mb_used</th>\n",
       "      <th>8_month_mb_used</th>\n",
       "      <th>9_month_mb_used</th>\n",
       "      <th>10_month_mb_used</th>\n",
       "      <th>11_month_mb_used</th>\n",
       "      <th>12_month_mb_used</th>\n",
       "    </tr>\n",
       "  </thead>\n",
       "  <tbody>\n",
       "    <tr>\n",
       "      <td>0</td>\n",
       "      <td>1000</td>\n",
       "      <td>52</td>\n",
       "      <td>NaT</td>\n",
       "      <td>Краснодар</td>\n",
       "      <td>Рафаил</td>\n",
       "      <td>Верещагин</td>\n",
       "      <td>2018-05-25</td>\n",
       "      <td>ultra</td>\n",
       "      <td>NaN</td>\n",
       "      <td>NaN</td>\n",
       "      <td>...</td>\n",
       "      <td>NaN</td>\n",
       "      <td>NaN</td>\n",
       "      <td>2253.49</td>\n",
       "      <td>23233.77</td>\n",
       "      <td>14003.64</td>\n",
       "      <td>14055.93</td>\n",
       "      <td>14568.91</td>\n",
       "      <td>14702.49</td>\n",
       "      <td>14756.47</td>\n",
       "      <td>9817.61</td>\n",
       "    </tr>\n",
       "    <tr>\n",
       "      <td>1</td>\n",
       "      <td>1001</td>\n",
       "      <td>41</td>\n",
       "      <td>NaT</td>\n",
       "      <td>Москва</td>\n",
       "      <td>Иван</td>\n",
       "      <td>Ежов</td>\n",
       "      <td>2018-11-01</td>\n",
       "      <td>smart</td>\n",
       "      <td>NaN</td>\n",
       "      <td>NaN</td>\n",
       "      <td>...</td>\n",
       "      <td>NaN</td>\n",
       "      <td>NaN</td>\n",
       "      <td>NaN</td>\n",
       "      <td>NaN</td>\n",
       "      <td>NaN</td>\n",
       "      <td>NaN</td>\n",
       "      <td>NaN</td>\n",
       "      <td>NaN</td>\n",
       "      <td>18429.34</td>\n",
       "      <td>14036.66</td>\n",
       "    </tr>\n",
       "    <tr>\n",
       "      <td>2</td>\n",
       "      <td>1002</td>\n",
       "      <td>59</td>\n",
       "      <td>NaT</td>\n",
       "      <td>Стерлитамак</td>\n",
       "      <td>Евгений</td>\n",
       "      <td>Абрамович</td>\n",
       "      <td>2018-06-17</td>\n",
       "      <td>smart</td>\n",
       "      <td>NaN</td>\n",
       "      <td>NaN</td>\n",
       "      <td>...</td>\n",
       "      <td>NaN</td>\n",
       "      <td>NaN</td>\n",
       "      <td>NaN</td>\n",
       "      <td>10856.82</td>\n",
       "      <td>17580.10</td>\n",
       "      <td>20319.26</td>\n",
       "      <td>16691.08</td>\n",
       "      <td>13888.25</td>\n",
       "      <td>18587.28</td>\n",
       "      <td>18113.73</td>\n",
       "    </tr>\n",
       "    <tr>\n",
       "      <td>3</td>\n",
       "      <td>1003</td>\n",
       "      <td>23</td>\n",
       "      <td>NaT</td>\n",
       "      <td>Москва</td>\n",
       "      <td>Белла</td>\n",
       "      <td>Белякова</td>\n",
       "      <td>2018-08-17</td>\n",
       "      <td>ultra</td>\n",
       "      <td>NaN</td>\n",
       "      <td>NaN</td>\n",
       "      <td>...</td>\n",
       "      <td>NaN</td>\n",
       "      <td>NaN</td>\n",
       "      <td>NaN</td>\n",
       "      <td>NaN</td>\n",
       "      <td>NaN</td>\n",
       "      <td>8565.21</td>\n",
       "      <td>12468.87</td>\n",
       "      <td>14768.14</td>\n",
       "      <td>11356.89</td>\n",
       "      <td>10121.53</td>\n",
       "    </tr>\n",
       "    <tr>\n",
       "      <td>4</td>\n",
       "      <td>1004</td>\n",
       "      <td>68</td>\n",
       "      <td>NaT</td>\n",
       "      <td>Новокузнецк</td>\n",
       "      <td>Татьяна</td>\n",
       "      <td>Авдеенко</td>\n",
       "      <td>2018-05-14</td>\n",
       "      <td>ultra</td>\n",
       "      <td>NaN</td>\n",
       "      <td>NaN</td>\n",
       "      <td>...</td>\n",
       "      <td>NaN</td>\n",
       "      <td>NaN</td>\n",
       "      <td>13403.98</td>\n",
       "      <td>17600.02</td>\n",
       "      <td>22229.58</td>\n",
       "      <td>28584.37</td>\n",
       "      <td>15109.03</td>\n",
       "      <td>18475.44</td>\n",
       "      <td>15616.02</td>\n",
       "      <td>18021.04</td>\n",
       "    </tr>\n",
       "  </tbody>\n",
       "</table>\n",
       "<p>5 rows × 56 columns</p>\n",
       "</div>"
      ],
      "text/plain": [
       "   user_id  age churn_date         city first_name  last_name   reg_date  \\\n",
       "0     1000   52        NaT    Краснодар     Рафаил  Верещагин 2018-05-25   \n",
       "1     1001   41        NaT       Москва       Иван       Ежов 2018-11-01   \n",
       "2     1002   59        NaT  Стерлитамак    Евгений  Абрамович 2018-06-17   \n",
       "3     1003   23        NaT       Москва      Белла   Белякова 2018-08-17   \n",
       "4     1004   68        NaT  Новокузнецк    Татьяна   Авдеенко 2018-05-14   \n",
       "\n",
       "  tariff  1_month_calls  2_month_calls  ...  3_month_mb_used  4_month_mb_used  \\\n",
       "0  ultra            NaN            NaN  ...              NaN              NaN   \n",
       "1  smart            NaN            NaN  ...              NaN              NaN   \n",
       "2  smart            NaN            NaN  ...              NaN              NaN   \n",
       "3  ultra            NaN            NaN  ...              NaN              NaN   \n",
       "4  ultra            NaN            NaN  ...              NaN              NaN   \n",
       "\n",
       "   5_month_mb_used  6_month_mb_used  7_month_mb_used  8_month_mb_used  \\\n",
       "0          2253.49         23233.77         14003.64         14055.93   \n",
       "1              NaN              NaN              NaN              NaN   \n",
       "2              NaN         10856.82         17580.10         20319.26   \n",
       "3              NaN              NaN              NaN          8565.21   \n",
       "4         13403.98         17600.02         22229.58         28584.37   \n",
       "\n",
       "   9_month_mb_used  10_month_mb_used  11_month_mb_used  12_month_mb_used  \n",
       "0         14568.91          14702.49          14756.47           9817.61  \n",
       "1              NaN               NaN          18429.34          14036.66  \n",
       "2         16691.08          13888.25          18587.28          18113.73  \n",
       "3         12468.87          14768.14          11356.89          10121.53  \n",
       "4         15109.03          18475.44          15616.02          18021.04  \n",
       "\n",
       "[5 rows x 56 columns]"
      ]
     },
     "execution_count": 24,
     "metadata": {},
     "output_type": "execute_result"
    }
   ],
   "source": [
    "for _ in range(1,13): #цикл проходит по количеству месяцев в году\n",
    "    period = str(_) + '_month_mb_used' #автоматизируем присвоение названий столбцам\n",
    "    df_users[period] = df_users.join(df_internet.query('session_month == @_').groupby(by='user_id')['mb_used'].sum(), on='user_id')['mb_used']\n",
    "    #считаем для каждого пользователя объем израсходованного трафика в месяц\n",
    "df_users.head() #проверка"
   ]
  },
  {
   "cell_type": "markdown",
   "id": "4c012993",
   "metadata": {},
   "source": [
    "#### Помесячная выручка с каждого пользователя"
   ]
  },
  {
   "cell_type": "code",
   "execution_count": 25,
   "id": "8e633ed3",
   "metadata": {},
   "outputs": [],
   "source": [
    "df_users = df_users.fillna(0)"
   ]
  },
  {
   "cell_type": "code",
   "execution_count": 26,
   "id": "bd9b7236",
   "metadata": {},
   "outputs": [],
   "source": [
    "df_users_smart = df_users.query(f'tariff == \"smart\"').copy()\n",
    "df_users_ultra = df_users.query(f'tariff == \"ultra\"').copy()"
   ]
  },
  {
   "cell_type": "code",
   "execution_count": 27,
   "id": "4c61108a",
   "metadata": {},
   "outputs": [],
   "source": [
    "#расчет выручки для пользователей тарифа смарт\n",
    "for _ in range(1,13): #цикл проходит по количеству месяцев в году\n",
    "    period = str(_) + '_month_revenue' #автоматизируем присвоение названий столбцам\n",
    "    period_calls = str(_) + '_month_calls_length'\n",
    "    period_messages = str(_) + '_month_messages'\n",
    "    period_internet = str(_) + '_month_mb_used'\n",
    "    \n",
    "    df_users_smart[period] = df_tariffs.loc[0,'rub_monthly_fee']*df_users_smart[period_calls]/(df_users_smart[period_calls]+10**(-1000))\n",
    "    #умножим на количество использованных минут и разделим на них же, прибавив бесконечно малое значение для того чтобы абоненская плата не насчитывалась на период когда контракт пользователя был не активен\n",
    "    \n",
    "    df_users_smart[period] = df_users_smart[period] + (df_users_smart[period_calls] -df_tariffs.loc[0,'minutes_included']).clip(lower=0)*df_tariffs.loc[0,'rub_per_minute']    \n",
    "    # добавлем выручку от перерасхода минут\n",
    "    \n",
    "    df_users_smart[period] = df_users_smart[period] + (df_users_smart[period_messages] - df_tariffs.loc[0,'messages_included']).clip(lower=0)* df_tariffs.loc[0,'rub_per_message']\n",
    "    # добавлем выручку от перерасхода сообщений\n",
    "    \n",
    "    df_users_smart[period] = df_users_smart[period] + round((df_users_smart[period_internet] - df_tariffs.loc[0,'mb_per_month_included'])/1024).clip(lower=0)* df_tariffs.loc[0,'rub_per_gb']\n",
    "    # добавлем выручку от перерасхода трафика"
   ]
  },
  {
   "cell_type": "code",
   "execution_count": 28,
   "id": "1f544f59",
   "metadata": {},
   "outputs": [],
   "source": [
    "#расчет выручки для пользователей тарифа ультра\n",
    "for _ in range(1,13): #цикл проходит по количеству месяцев в году\n",
    "    period = str(_) + '_month_revenue' #автоматизируем присвоение названий столбцам\n",
    "    period_calls = str(_) + '_month_calls_length'\n",
    "    period_messages = str(_) + '_month_messages'\n",
    "    period_internet = str(_) + '_month_mb_used'\n",
    "    \n",
    "    df_users_ultra[period] = df_tariffs.loc[1,'rub_monthly_fee']*df_users_ultra[period_calls]/(df_users_ultra[period_calls]+10**(-1000))\n",
    "    #умножим на количество использованных минут и разделим на них же, прибавив бесконечно малое значение для того чтобы абоненская плата не насчитывалась на период когда контракт пользователя был не активен\n",
    "    \n",
    "    df_users_ultra[period] = df_users_ultra[period] + (df_users_ultra[period_calls] -df_tariffs.loc[1,'minutes_included']).clip(lower=0)*df_tariffs.loc[1,'rub_per_minute']    \n",
    "    # добавлем выручку от перерасхода минут\n",
    "    \n",
    "    df_users_ultra[period] = df_users_ultra[period] + (df_users_ultra[period_messages] - df_tariffs.loc[1,'messages_included']).clip(lower=0)* df_tariffs.loc[1,'rub_per_message']\n",
    "    # добавлем выручку от перерасхода сообщений\n",
    "    \n",
    "    df_users_ultra[period] = df_users_ultra[period] + round((df_users_ultra[period_internet] - df_tariffs.loc[1,'mb_per_month_included'])/1024).clip(lower=0)* df_tariffs.loc[1,'rub_per_gb']\n",
    "    # добавлем выручку от перерасхода трафика"
   ]
  },
  {
   "cell_type": "code",
   "execution_count": 29,
   "id": "1dcbaaf3",
   "metadata": {},
   "outputs": [],
   "source": [
    "df_users = df_users_smart.append(df_users_ultra) #склеиваем два датасета"
   ]
  },
  {
   "cell_type": "markdown",
   "id": "344593a5",
   "metadata": {},
   "source": [
    "## Анализ данных"
   ]
  },
  {
   "cell_type": "code",
   "execution_count": 30,
   "id": "c740ab81",
   "metadata": {},
   "outputs": [
    {
     "data": {
      "text/html": [
       "<div>\n",
       "<style scoped>\n",
       "    .dataframe tbody tr th:only-of-type {\n",
       "        vertical-align: middle;\n",
       "    }\n",
       "\n",
       "    .dataframe tbody tr th {\n",
       "        vertical-align: top;\n",
       "    }\n",
       "\n",
       "    .dataframe thead th {\n",
       "        text-align: right;\n",
       "    }\n",
       "</style>\n",
       "<table border=\"1\" class=\"dataframe\">\n",
       "  <thead>\n",
       "    <tr style=\"text-align: right;\">\n",
       "      <th></th>\n",
       "      <th>user_id</th>\n",
       "      <th>age</th>\n",
       "      <th>1_month_calls</th>\n",
       "      <th>2_month_calls</th>\n",
       "      <th>3_month_calls</th>\n",
       "      <th>4_month_calls</th>\n",
       "      <th>5_month_calls</th>\n",
       "      <th>6_month_calls</th>\n",
       "      <th>7_month_calls</th>\n",
       "      <th>8_month_calls</th>\n",
       "      <th>...</th>\n",
       "      <th>3_month_revenue</th>\n",
       "      <th>4_month_revenue</th>\n",
       "      <th>5_month_revenue</th>\n",
       "      <th>6_month_revenue</th>\n",
       "      <th>7_month_revenue</th>\n",
       "      <th>8_month_revenue</th>\n",
       "      <th>9_month_revenue</th>\n",
       "      <th>10_month_revenue</th>\n",
       "      <th>11_month_revenue</th>\n",
       "      <th>12_month_revenue</th>\n",
       "    </tr>\n",
       "  </thead>\n",
       "  <tbody>\n",
       "    <tr>\n",
       "      <td>count</td>\n",
       "      <td>500.000000</td>\n",
       "      <td>500.00000</td>\n",
       "      <td>500.00000</td>\n",
       "      <td>500.000000</td>\n",
       "      <td>500.00000</td>\n",
       "      <td>500.000000</td>\n",
       "      <td>500.000000</td>\n",
       "      <td>500.000000</td>\n",
       "      <td>500.00000</td>\n",
       "      <td>500.000000</td>\n",
       "      <td>...</td>\n",
       "      <td>114.000000</td>\n",
       "      <td>164.000000</td>\n",
       "      <td>205.00000</td>\n",
       "      <td>244.000000</td>\n",
       "      <td>288.000000</td>\n",
       "      <td>336.000000</td>\n",
       "      <td>369.000000</td>\n",
       "      <td>411.000000</td>\n",
       "      <td>444.000000</td>\n",
       "      <td>470.000000</td>\n",
       "    </tr>\n",
       "    <tr>\n",
       "      <td>mean</td>\n",
       "      <td>1249.500000</td>\n",
       "      <td>46.58800</td>\n",
       "      <td>2.95200</td>\n",
       "      <td>6.656000</td>\n",
       "      <td>13.37400</td>\n",
       "      <td>18.544000</td>\n",
       "      <td>25.294000</td>\n",
       "      <td>29.432000</td>\n",
       "      <td>36.59600</td>\n",
       "      <td>42.976000</td>\n",
       "      <td>...</td>\n",
       "      <td>1401.543860</td>\n",
       "      <td>1263.817073</td>\n",
       "      <td>1427.80000</td>\n",
       "      <td>1442.659836</td>\n",
       "      <td>1450.916667</td>\n",
       "      <td>1507.410714</td>\n",
       "      <td>1440.205962</td>\n",
       "      <td>1518.776156</td>\n",
       "      <td>1510.930180</td>\n",
       "      <td>1677.797872</td>\n",
       "    </tr>\n",
       "    <tr>\n",
       "      <td>std</td>\n",
       "      <td>144.481833</td>\n",
       "      <td>16.66763</td>\n",
       "      <td>12.79191</td>\n",
       "      <td>19.426385</td>\n",
       "      <td>29.32798</td>\n",
       "      <td>31.440373</td>\n",
       "      <td>36.482729</td>\n",
       "      <td>36.683958</td>\n",
       "      <td>39.70453</td>\n",
       "      <td>39.719954</td>\n",
       "      <td>...</td>\n",
       "      <td>692.419512</td>\n",
       "      <td>671.032610</td>\n",
       "      <td>744.78832</td>\n",
       "      <td>733.999430</td>\n",
       "      <td>770.586464</td>\n",
       "      <td>761.778875</td>\n",
       "      <td>701.590825</td>\n",
       "      <td>793.575766</td>\n",
       "      <td>769.239249</td>\n",
       "      <td>936.288344</td>\n",
       "    </tr>\n",
       "    <tr>\n",
       "      <td>min</td>\n",
       "      <td>1000.000000</td>\n",
       "      <td>18.00000</td>\n",
       "      <td>0.00000</td>\n",
       "      <td>0.000000</td>\n",
       "      <td>0.00000</td>\n",
       "      <td>0.000000</td>\n",
       "      <td>0.000000</td>\n",
       "      <td>0.000000</td>\n",
       "      <td>0.00000</td>\n",
       "      <td>0.000000</td>\n",
       "      <td>...</td>\n",
       "      <td>550.000000</td>\n",
       "      <td>550.000000</td>\n",
       "      <td>550.00000</td>\n",
       "      <td>550.000000</td>\n",
       "      <td>550.000000</td>\n",
       "      <td>550.000000</td>\n",
       "      <td>550.000000</td>\n",
       "      <td>550.000000</td>\n",
       "      <td>550.000000</td>\n",
       "      <td>550.000000</td>\n",
       "    </tr>\n",
       "    <tr>\n",
       "      <td>25%</td>\n",
       "      <td>1124.750000</td>\n",
       "      <td>32.00000</td>\n",
       "      <td>0.00000</td>\n",
       "      <td>0.000000</td>\n",
       "      <td>0.00000</td>\n",
       "      <td>0.000000</td>\n",
       "      <td>0.000000</td>\n",
       "      <td>0.000000</td>\n",
       "      <td>0.00000</td>\n",
       "      <td>0.000000</td>\n",
       "      <td>...</td>\n",
       "      <td>571.750000</td>\n",
       "      <td>550.000000</td>\n",
       "      <td>625.00000</td>\n",
       "      <td>724.750000</td>\n",
       "      <td>652.750000</td>\n",
       "      <td>750.000000</td>\n",
       "      <td>706.000000</td>\n",
       "      <td>744.500000</td>\n",
       "      <td>750.000000</td>\n",
       "      <td>887.500000</td>\n",
       "    </tr>\n",
       "    <tr>\n",
       "      <td>50%</td>\n",
       "      <td>1249.500000</td>\n",
       "      <td>46.00000</td>\n",
       "      <td>0.00000</td>\n",
       "      <td>0.000000</td>\n",
       "      <td>0.00000</td>\n",
       "      <td>0.000000</td>\n",
       "      <td>0.000000</td>\n",
       "      <td>0.000000</td>\n",
       "      <td>28.50000</td>\n",
       "      <td>41.500000</td>\n",
       "      <td>...</td>\n",
       "      <td>1550.000000</td>\n",
       "      <td>1150.000000</td>\n",
       "      <td>1440.00000</td>\n",
       "      <td>1478.000000</td>\n",
       "      <td>1363.500000</td>\n",
       "      <td>1550.000000</td>\n",
       "      <td>1550.000000</td>\n",
       "      <td>1550.000000</td>\n",
       "      <td>1550.000000</td>\n",
       "      <td>1783.500000</td>\n",
       "    </tr>\n",
       "    <tr>\n",
       "      <td>75%</td>\n",
       "      <td>1374.250000</td>\n",
       "      <td>62.00000</td>\n",
       "      <td>0.00000</td>\n",
       "      <td>0.000000</td>\n",
       "      <td>0.00000</td>\n",
       "      <td>36.250000</td>\n",
       "      <td>55.000000</td>\n",
       "      <td>61.000000</td>\n",
       "      <td>69.00000</td>\n",
       "      <td>73.000000</td>\n",
       "      <td>...</td>\n",
       "      <td>1950.000000</td>\n",
       "      <td>1950.000000</td>\n",
       "      <td>1950.00000</td>\n",
       "      <td>1950.000000</td>\n",
       "      <td>1950.000000</td>\n",
       "      <td>1950.000000</td>\n",
       "      <td>1950.000000</td>\n",
       "      <td>1950.000000</td>\n",
       "      <td>1950.000000</td>\n",
       "      <td>1950.000000</td>\n",
       "    </tr>\n",
       "    <tr>\n",
       "      <td>max</td>\n",
       "      <td>1499.000000</td>\n",
       "      <td>75.00000</td>\n",
       "      <td>128.00000</td>\n",
       "      <td>125.000000</td>\n",
       "      <td>203.00000</td>\n",
       "      <td>152.000000</td>\n",
       "      <td>168.000000</td>\n",
       "      <td>176.000000</td>\n",
       "      <td>185.00000</td>\n",
       "      <td>188.000000</td>\n",
       "      <td>...</td>\n",
       "      <td>2850.000000</td>\n",
       "      <td>2850.000000</td>\n",
       "      <td>3900.00000</td>\n",
       "      <td>4273.000000</td>\n",
       "      <td>4050.000000</td>\n",
       "      <td>4500.000000</td>\n",
       "      <td>3600.000000</td>\n",
       "      <td>4800.000000</td>\n",
       "      <td>5480.000000</td>\n",
       "      <td>6770.000000</td>\n",
       "    </tr>\n",
       "  </tbody>\n",
       "</table>\n",
       "<p>8 rows × 62 columns</p>\n",
       "</div>"
      ],
      "text/plain": [
       "           user_id        age  1_month_calls  2_month_calls  3_month_calls  \\\n",
       "count   500.000000  500.00000      500.00000     500.000000      500.00000   \n",
       "mean   1249.500000   46.58800        2.95200       6.656000       13.37400   \n",
       "std     144.481833   16.66763       12.79191      19.426385       29.32798   \n",
       "min    1000.000000   18.00000        0.00000       0.000000        0.00000   \n",
       "25%    1124.750000   32.00000        0.00000       0.000000        0.00000   \n",
       "50%    1249.500000   46.00000        0.00000       0.000000        0.00000   \n",
       "75%    1374.250000   62.00000        0.00000       0.000000        0.00000   \n",
       "max    1499.000000   75.00000      128.00000     125.000000      203.00000   \n",
       "\n",
       "       4_month_calls  5_month_calls  6_month_calls  7_month_calls  \\\n",
       "count     500.000000     500.000000     500.000000      500.00000   \n",
       "mean       18.544000      25.294000      29.432000       36.59600   \n",
       "std        31.440373      36.482729      36.683958       39.70453   \n",
       "min         0.000000       0.000000       0.000000        0.00000   \n",
       "25%         0.000000       0.000000       0.000000        0.00000   \n",
       "50%         0.000000       0.000000       0.000000       28.50000   \n",
       "75%        36.250000      55.000000      61.000000       69.00000   \n",
       "max       152.000000     168.000000     176.000000      185.00000   \n",
       "\n",
       "       8_month_calls  ...  3_month_revenue  4_month_revenue  5_month_revenue  \\\n",
       "count     500.000000  ...       114.000000       164.000000        205.00000   \n",
       "mean       42.976000  ...      1401.543860      1263.817073       1427.80000   \n",
       "std        39.719954  ...       692.419512       671.032610        744.78832   \n",
       "min         0.000000  ...       550.000000       550.000000        550.00000   \n",
       "25%         0.000000  ...       571.750000       550.000000        625.00000   \n",
       "50%        41.500000  ...      1550.000000      1150.000000       1440.00000   \n",
       "75%        73.000000  ...      1950.000000      1950.000000       1950.00000   \n",
       "max       188.000000  ...      2850.000000      2850.000000       3900.00000   \n",
       "\n",
       "       6_month_revenue  7_month_revenue  8_month_revenue  9_month_revenue  \\\n",
       "count       244.000000       288.000000       336.000000       369.000000   \n",
       "mean       1442.659836      1450.916667      1507.410714      1440.205962   \n",
       "std         733.999430       770.586464       761.778875       701.590825   \n",
       "min         550.000000       550.000000       550.000000       550.000000   \n",
       "25%         724.750000       652.750000       750.000000       706.000000   \n",
       "50%        1478.000000      1363.500000      1550.000000      1550.000000   \n",
       "75%        1950.000000      1950.000000      1950.000000      1950.000000   \n",
       "max        4273.000000      4050.000000      4500.000000      3600.000000   \n",
       "\n",
       "       10_month_revenue  11_month_revenue  12_month_revenue  \n",
       "count        411.000000        444.000000        470.000000  \n",
       "mean        1518.776156       1510.930180       1677.797872  \n",
       "std          793.575766        769.239249        936.288344  \n",
       "min          550.000000        550.000000        550.000000  \n",
       "25%          744.500000        750.000000        887.500000  \n",
       "50%         1550.000000       1550.000000       1783.500000  \n",
       "75%         1950.000000       1950.000000       1950.000000  \n",
       "max         4800.000000       5480.000000       6770.000000  \n",
       "\n",
       "[8 rows x 62 columns]"
      ]
     },
     "execution_count": 30,
     "metadata": {},
     "output_type": "execute_result"
    }
   ],
   "source": [
    "df_users.describe()"
   ]
  },
  {
   "cell_type": "markdown",
   "id": "75bf05e0",
   "metadata": {},
   "source": [
    "### Количество минут разговора в разрезе тарифов"
   ]
  },
  {
   "cell_type": "code",
   "execution_count": 31,
   "id": "6642c5f8",
   "metadata": {},
   "outputs": [
    {
     "name": "stdout",
     "output_type": "stream",
     "text": [
      "1_month_calls_length     210.0\n",
      "2_month_calls_length     299.0\n",
      "3_month_calls_length     390.0\n",
      "4_month_calls_length     370.0\n",
      "5_month_calls_length     387.0\n",
      "6_month_calls_length     398.0\n",
      "7_month_calls_length     408.0\n",
      "8_month_calls_length     423.0\n",
      "9_month_calls_length     430.0\n",
      "10_month_calls_length    428.0\n",
      "11_month_calls_length    437.0\n",
      "12_month_calls_length    480.0\n",
      "dtype: float64\n",
      "\n",
      "1_month_calls_length     428.0\n",
      "2_month_calls_length     310.0\n",
      "3_month_calls_length     490.0\n",
      "4_month_calls_length     475.0\n",
      "5_month_calls_length     534.0\n",
      "6_month_calls_length     497.0\n",
      "7_month_calls_length     571.0\n",
      "8_month_calls_length     536.0\n",
      "9_month_calls_length     564.0\n",
      "10_month_calls_length    582.0\n",
      "11_month_calls_length    562.0\n",
      "12_month_calls_length    615.0\n",
      "dtype: float64\n"
     ]
    }
   ],
   "source": [
    "calls_lenght_smart = df_users[df_users['tariff'] == 'smart'].loc[:,'1_month_calls_length':'12_month_calls_length'][df_users.loc[:,'1_month_calls_length':'12_month_calls_length'] != False]\n",
    "calls_lenght_ultra = df_users[df_users['tariff'] == 'ultra'].loc[:,'1_month_calls_length':'12_month_calls_length'][df_users.loc[:,'1_month_calls_length':'12_month_calls_length'] != False]\n",
    "#заменим 0 на NaN для расчета среднего\n",
    "\n",
    "print(round(calls_lenght_smart.mean())) #сренее по месяцам smart\n",
    "print()\n",
    "print(round(calls_lenght_ultra.mean())) #сренее по месяцам ultra"
   ]
  },
  {
   "cell_type": "code",
   "execution_count": 32,
   "id": "b4b4bc8a",
   "metadata": {},
   "outputs": [
    {
     "name": "stdout",
     "output_type": "stream",
     "text": [
      "388.0\n",
      "514.0\n"
     ]
    }
   ],
   "source": [
    "print(round(calls_lenght_smart.mean().mean())) #сренее по году smart\n",
    "print(round(calls_lenght_ultra.mean().mean())) #сренее по году ultra"
   ]
  },
  {
   "cell_type": "markdown",
   "id": "75b74dc1",
   "metadata": {},
   "source": [
    "рассмотрим выборку соответствующую каждому месяцу как отдельные выборки, что согласно ЦПТ означает, что их средние нормально распределны вокруг среднего генеральной совокупности"
   ]
  },
  {
   "cell_type": "code",
   "execution_count": 33,
   "id": "1472db6c",
   "metadata": {},
   "outputs": [
    {
     "name": "stdout",
     "output_type": "stream",
     "text": [
      "1_month_calls_length     22489.908173\n",
      "2_month_calls_length     35784.489893\n",
      "3_month_calls_length     36344.932366\n",
      "4_month_calls_length     33552.967292\n",
      "5_month_calls_length     34573.110306\n",
      "6_month_calls_length     29776.713237\n",
      "7_month_calls_length     32089.820499\n",
      "8_month_calls_length     34031.213840\n",
      "9_month_calls_length     32823.307404\n",
      "10_month_calls_length    34770.453424\n",
      "11_month_calls_length    31001.879002\n",
      "12_month_calls_length    39014.984898\n",
      "dtype: float64\n",
      "\n",
      "1_month_calls_length      64683.876543\n",
      "2_month_calls_length      83914.389414\n",
      "3_month_calls_length     108374.498174\n",
      "4_month_calls_length      64790.852261\n",
      "5_month_calls_length      73711.000000\n",
      "6_month_calls_length      84957.681146\n",
      "7_month_calls_length      83249.067248\n",
      "8_month_calls_length      88382.210400\n",
      "9_month_calls_length      95732.544132\n",
      "10_month_calls_length     96317.112899\n",
      "11_month_calls_length     87763.968031\n",
      "12_month_calls_length    107175.203386\n",
      "dtype: float64\n",
      "\n",
      "усредненная дисперсия для smart = 33021.0\n",
      "\n",
      "усредненная дисперсия для ultra = 86588.0\n"
     ]
    }
   ],
   "source": [
    "print (np.var(round(calls_lenght_smart))) #дисперсия для smart\n",
    "print()\n",
    "print (np.var(round(calls_lenght_ultra))) #дисперсия для ultra\n",
    "\n",
    "print()\n",
    "print ('усредненная дисперсия для smart =',round(np.var(round(calls_lenght_smart)).mean())) \n",
    "print()\n",
    "print ('усредненная дисперсия для ultra =',round(np.var(round(calls_lenght_ultra)).mean())) "
   ]
  },
  {
   "cell_type": "code",
   "execution_count": 34,
   "id": "250ee672",
   "metadata": {},
   "outputs": [
    {
     "name": "stdout",
     "output_type": "stream",
     "text": [
      "1_month_calls_length     149.966357\n",
      "2_month_calls_length     189.167888\n",
      "3_month_calls_length     190.643469\n",
      "4_month_calls_length     183.174691\n",
      "5_month_calls_length     185.938458\n",
      "6_month_calls_length     172.559304\n",
      "7_month_calls_length     179.136318\n",
      "8_month_calls_length     184.475510\n",
      "9_month_calls_length     181.172038\n",
      "10_month_calls_length    186.468371\n",
      "11_month_calls_length    176.073505\n",
      "12_month_calls_length    197.522112\n",
      "dtype: float64\n",
      "\n",
      "1_month_calls_length     254.330251\n",
      "2_month_calls_length     289.679805\n",
      "3_month_calls_length     329.202822\n",
      "4_month_calls_length     254.540473\n",
      "5_month_calls_length     271.497698\n",
      "6_month_calls_length     291.475009\n",
      "7_month_calls_length     288.529145\n",
      "8_month_calls_length     297.291457\n",
      "9_month_calls_length     309.406762\n",
      "10_month_calls_length    310.349985\n",
      "11_month_calls_length    296.249841\n",
      "12_month_calls_length    327.376241\n",
      "dtype: float64\n",
      "\n",
      "усредненное стандартное отклонение по месяцам smart = 181.0\n",
      "\n",
      "усредненное стандартное отклонение по месяцам ultra = 293.0\n"
     ]
    }
   ],
   "source": [
    "print (np.std(round(calls_lenght_smart))) # стандартное отклонение по месяцам smart\n",
    "print()\n",
    "print (np.std(round(calls_lenght_ultra))) # стандартное отклонение по месяцам ultra\n",
    "\n",
    "print()\n",
    "print ('усредненное стандартное отклонение по месяцам smart =',round(np.std(round(calls_lenght_smart)).mean()))\n",
    "print()\n",
    "print ('усредненное стандартное отклонение по месяцам ultra =',round(np.std(round(calls_lenght_ultra)).mean()))"
   ]
  },
  {
   "cell_type": "markdown",
   "id": "60b1d341",
   "metadata": {},
   "source": [
    "проверим гипотезу, что среднее генеральной совокупности находится вблизи среднего по году для каждого из тарифов"
   ]
  },
  {
   "cell_type": "code",
   "execution_count": 35,
   "id": "012c1eed",
   "metadata": {},
   "outputs": [
    {
     "name": "stdout",
     "output_type": "stream",
     "text": [
      "p-значение:  0.9873650338864967\n"
     ]
    }
   ],
   "source": [
    "#для тарифа smart\n",
    "results = st.ttest_1samp(round(calls_lenght_smart.mean()), round(calls_lenght_smart.mean().mean()))\n",
    "\n",
    "print('p-значение: ', results.pvalue)"
   ]
  },
  {
   "cell_type": "code",
   "execution_count": 36,
   "id": "4dd89e3b",
   "metadata": {},
   "outputs": [
    {
     "name": "stdout",
     "output_type": "stream",
     "text": [
      "p-значение:  0.9891045802828592\n"
     ]
    }
   ],
   "source": [
    "#для тарифа ultra\n",
    "results = st.ttest_1samp(round(calls_lenght_ultra.mean()), round(calls_lenght_ultra.mean().mean()))\n",
    "\n",
    "print('p-значение: ', results.pvalue)"
   ]
  },
  {
   "cell_type": "code",
   "execution_count": 37,
   "id": "ac42828d",
   "metadata": {},
   "outputs": [
    {
     "data": {
      "image/png": "[encoded data removed]",
      "text/plain": [
       "<Figure size 1080x1080 with 12 Axes>"
      ]
     },
     "metadata": {
      "needs_background": "light"
     },
     "output_type": "display_data"
    }
   ],
   "source": [
    "ax = calls_lenght_smart.hist(bins=30,figsize=(15, 15)) #сренее по месяцам smart\n",
    "\n",
    "calls_lenght_ultra.hist(bins=30,figsize=(15, 15), ax=ax) #сренее по месяцам ultra\n",
    "\n",
    "plt.show()"
   ]
  },
  {
   "cell_type": "markdown",
   "id": "6c880de9",
   "metadata": {},
   "source": [
    "<div style=\"border:solid blue 2px; padding: 20px\">\n",
    "    \n",
    "на гистограммах видны очертания нормального распределения вокруг средних значений, в январе и феврале по всей видимости не достаточно данных"
   ]
  },
  {
   "cell_type": "markdown",
   "id": "d07b13a7",
   "metadata": {},
   "source": [
    "### Количество сообщений в разрезе тарифов"
   ]
  },
  {
   "cell_type": "code",
   "execution_count": 38,
   "id": "bdc166da",
   "metadata": {},
   "outputs": [
    {
     "name": "stdout",
     "output_type": "stream",
     "text": [
      "1_month_messages     20.0\n",
      "2_month_messages     28.0\n",
      "3_month_messages     36.0\n",
      "4_month_messages     36.0\n",
      "5_month_messages     39.0\n",
      "6_month_messages     39.0\n",
      "7_month_messages     39.0\n",
      "8_month_messages     39.0\n",
      "9_month_messages     39.0\n",
      "10_month_messages    39.0\n",
      "11_month_messages    40.0\n",
      "12_month_messages    42.0\n",
      "dtype: float64\n",
      "\n",
      "1_month_messages     43.0\n",
      "2_month_messages     33.0\n",
      "3_month_messages     48.0\n",
      "4_month_messages     45.0\n",
      "5_month_messages     49.0\n",
      "6_month_messages     52.0\n",
      "7_month_messages     62.0\n",
      "8_month_messages     59.0\n",
      "9_month_messages     63.0\n",
      "10_month_messages    70.0\n",
      "11_month_messages    66.0\n",
      "12_month_messages    72.0\n",
      "dtype: float64\n"
     ]
    }
   ],
   "source": [
    "messages_smart = df_users[df_users['tariff'] == 'smart'].loc[:,'1_month_messages':'12_month_messages'][df_users.loc[:,'1_month_messages':'12_month_messages'] != False]\n",
    "messages_ultra = df_users[df_users['tariff'] == 'ultra'].loc[:,'1_month_messages':'12_month_messages'][df_users.loc[:,'1_month_messages':'12_month_messages'] != False]\n",
    "#заменим 0 на NaN для расчета среднего\n",
    "\n",
    "print(round(messages_smart.mean())) #сренее по месяцам smart\n",
    "print()\n",
    "print(round(messages_ultra.mean())) #сренее по месяцам ultra"
   ]
  },
  {
   "cell_type": "code",
   "execution_count": 39,
   "id": "79ce7476",
   "metadata": {},
   "outputs": [
    {
     "name": "stdout",
     "output_type": "stream",
     "text": [
      "36.0\n",
      "55.0\n"
     ]
    }
   ],
   "source": [
    "print(round(messages_smart.mean().mean())) #сренее по году smart\n",
    "print(round(messages_ultra.mean().mean())) #сренее по году ultra"
   ]
  },
  {
   "cell_type": "code",
   "execution_count": 40,
   "id": "a1470adc",
   "metadata": {},
   "outputs": [
    {
     "data": {
      "text/plain": [
       "1_month_messages      75.0\n",
       "2_month_messages      90.0\n",
       "3_month_messages     155.0\n",
       "4_month_messages     143.0\n",
       "5_month_messages     148.0\n",
       "6_month_messages     201.0\n",
       "7_month_messages     211.0\n",
       "8_month_messages     180.0\n",
       "9_month_messages     188.0\n",
       "10_month_messages    223.0\n",
       "11_month_messages    197.0\n",
       "12_month_messages    224.0\n",
       "dtype: float64"
      ]
     },
     "execution_count": 40,
     "metadata": {},
     "output_type": "execute_result"
    }
   ],
   "source": [
    "messages_ultra.max()"
   ]
  },
  {
   "cell_type": "code",
   "execution_count": 41,
   "id": "e0d7a0d6",
   "metadata": {},
   "outputs": [
    {
     "name": "stdout",
     "output_type": "stream",
     "text": [
      "1_month_messages     244.000000\n",
      "2_month_messages     431.656400\n",
      "3_month_messages     660.073514\n",
      "4_month_messages     512.471246\n",
      "5_month_messages     633.539909\n",
      "6_month_messages     726.483436\n",
      "7_month_messages     715.218259\n",
      "8_month_messages     763.452206\n",
      "9_month_messages     699.355306\n",
      "10_month_messages    733.603401\n",
      "11_month_messages    708.726694\n",
      "12_month_messages    829.546601\n",
      "dtype: float64\n",
      "\n",
      "1_month_messages      655.959184\n",
      "2_month_messages      668.808594\n",
      "3_month_messages     1753.600000\n",
      "4_month_messages     1372.147272\n",
      "5_month_messages     1529.562130\n",
      "6_month_messages     1906.782357\n",
      "7_month_messages     2160.720961\n",
      "8_month_messages     1999.978177\n",
      "9_month_messages     1886.692078\n",
      "10_month_messages    2403.047224\n",
      "11_month_messages    2229.390555\n",
      "12_month_messages    2342.675141\n",
      "dtype: float64\n",
      "\n",
      "усредненная дисперсия для smart = 638.0\n",
      "\n",
      "усредненная дисперсия для ultra = 1742.0\n"
     ]
    }
   ],
   "source": [
    "print (np.var(messages_smart)) #дисперсия для smart\n",
    "print()\n",
    "print (np.var(messages_ultra)) #дисперсия для ultra\n",
    "\n",
    "print()\n",
    "print ('усредненная дисперсия для smart =',round(np.var(messages_smart).mean())) \n",
    "print()\n",
    "print ('усредненная дисперсия для ultra =',round(np.var(messages_ultra).mean())) "
   ]
  },
  {
   "cell_type": "code",
   "execution_count": 42,
   "id": "c8d203c6",
   "metadata": {},
   "outputs": [
    {
     "name": "stdout",
     "output_type": "stream",
     "text": [
      "1_month_messages     15.620499\n",
      "2_month_messages     20.776342\n",
      "3_month_messages     25.691896\n",
      "4_month_messages     22.637828\n",
      "5_month_messages     25.170219\n",
      "6_month_messages     26.953357\n",
      "7_month_messages     26.743565\n",
      "8_month_messages     27.630639\n",
      "9_month_messages     26.445327\n",
      "10_month_messages    27.085114\n",
      "11_month_messages    26.621921\n",
      "12_month_messages    28.801851\n",
      "dtype: float64\n",
      "\n",
      "1_month_messages     25.611700\n",
      "2_month_messages     25.861334\n",
      "3_month_messages     41.876007\n",
      "4_month_messages     37.042506\n",
      "5_month_messages     39.109617\n",
      "6_month_messages     43.666719\n",
      "7_month_messages     46.483556\n",
      "8_month_messages     44.721116\n",
      "9_month_messages     43.436069\n",
      "10_month_messages    49.020886\n",
      "11_month_messages    47.216423\n",
      "12_month_messages    48.401189\n",
      "dtype: float64\n",
      "\n",
      "усредненное стандартное отклонение по месяцам smart = 25.0\n",
      "\n",
      "усредненное стандартное отклонение по месяцам ultra = 41.0\n"
     ]
    }
   ],
   "source": [
    "print (np.std(round(messages_smart))) # стандартное отклонение по месяцам smart\n",
    "print()\n",
    "print (np.std(round(messages_ultra))) # стандартное отклонение по месяцам ultra\n",
    "\n",
    "print()\n",
    "print ('усредненное стандартное отклонение по месяцам smart =',round(np.std(round(messages_smart)).mean()))\n",
    "print()\n",
    "print ('усредненное стандартное отклонение по месяцам ultra =',round(np.std(round(messages_ultra)).mean()))"
   ]
  },
  {
   "cell_type": "code",
   "execution_count": 43,
   "id": "45441a73",
   "metadata": {
    "scrolled": true
   },
   "outputs": [
    {
     "data": {
      "image/png": "[encoded data removed]",
      "text/plain": [
       "<Figure size 1080x1080 with 12 Axes>"
      ]
     },
     "metadata": {
      "needs_background": "light"
     },
     "output_type": "display_data"
    }
   ],
   "source": [
    "ax = messages_smart.hist(bins=30,figsize=(15, 15)) #сренее по месяцам smart\n",
    "\n",
    "messages_ultra.hist(bins=30,figsize=(15, 15), ax=ax) #сренее по месяцам ultra\n",
    "\n",
    "plt.show()"
   ]
  },
  {
   "cell_type": "markdown",
   "id": "c46e501d",
   "metadata": {},
   "source": [
    "<div style=\"border:solid blue 2px; padding: 20px\">\n",
    "    \n",
    "на гистограммах видны очертания распределения Пуассона, что по всей вероятности связано с меньшим количеством значений"
   ]
  },
  {
   "cell_type": "markdown",
   "id": "c785cb61",
   "metadata": {},
   "source": [
    "### Объём интернет-трафика в разрезе тарифов"
   ]
  },
  {
   "cell_type": "code",
   "execution_count": 44,
   "id": "1faf8d16",
   "metadata": {},
   "outputs": [
    {
     "name": "stdout",
     "output_type": "stream",
     "text": [
      "1_month_mb_used      8514.0\n",
      "2_month_mb_used     11597.0\n",
      "3_month_mb_used     15104.0\n",
      "4_month_mb_used     13462.0\n",
      "5_month_mb_used     15805.0\n",
      "6_month_mb_used     15795.0\n",
      "7_month_mb_used     15743.0\n",
      "8_month_mb_used     16682.0\n",
      "9_month_mb_used     16304.0\n",
      "10_month_mb_used    16814.0\n",
      "11_month_mb_used    16896.0\n",
      "12_month_mb_used    18114.0\n",
      "dtype: float64\n",
      "\n",
      "1_month_mb_used     13141.0\n",
      "2_month_mb_used     12846.0\n",
      "3_month_mb_used     17536.0\n",
      "4_month_mb_used     16828.0\n",
      "5_month_mb_used     19959.0\n",
      "6_month_mb_used     19153.0\n",
      "7_month_mb_used     20723.0\n",
      "8_month_mb_used     19761.0\n",
      "9_month_mb_used     19373.0\n",
      "10_month_mb_used    20210.0\n",
      "11_month_mb_used    19936.0\n",
      "12_month_mb_used    21951.0\n",
      "dtype: float64\n"
     ]
    }
   ],
   "source": [
    "internet_smart = df_users[df_users['tariff'] == 'smart'].loc[:,'1_month_mb_used':'12_month_mb_used'][df_users.loc[:,'1_month_mb_used':'12_month_mb_used'] != False]\n",
    "internet_ultra = df_users[df_users['tariff'] == 'ultra'].loc[:,'1_month_mb_used':'12_month_mb_used'][df_users.loc[:,'1_month_mb_used':'12_month_mb_used'] != False]\n",
    "#заменим 0 на NaN для расчета среднего\n",
    "\n",
    "print(round(internet_smart.mean())) #сренее по месяцам smart\n",
    "print()\n",
    "print(round(internet_ultra.mean())) #сренее по месяцам ultra"
   ]
  },
  {
   "cell_type": "code",
   "execution_count": 45,
   "id": "e170568e",
   "metadata": {},
   "outputs": [
    {
     "name": "stdout",
     "output_type": "stream",
     "text": [
      "15069.0\n",
      "18451.0\n"
     ]
    }
   ],
   "source": [
    "print(round(internet_smart.mean().mean())) #сренее по году smart\n",
    "print(round(internet_ultra.mean().mean())) #сренее по году ultra"
   ]
  },
  {
   "cell_type": "code",
   "execution_count": 46,
   "id": "fe4ad941",
   "metadata": {},
   "outputs": [
    {
     "name": "stdout",
     "output_type": "stream",
     "text": [
      "15.0\n",
      "18.0\n"
     ]
    }
   ],
   "source": [
    "print(round(internet_smart.mean().mean()/1024)) #сренее по году smart в Гб\n",
    "print(round(internet_ultra.mean().mean()/1024)) #сренее по году ultra в Гб"
   ]
  },
  {
   "cell_type": "code",
   "execution_count": 47,
   "id": "c72c25c1",
   "metadata": {},
   "outputs": [
    {
     "name": "stdout",
     "output_type": "stream",
     "text": [
      "1_month_mb_used     4.031233e+07\n",
      "2_month_mb_used     3.835651e+07\n",
      "3_month_mb_used     3.352721e+07\n",
      "4_month_mb_used     3.218013e+07\n",
      "5_month_mb_used     3.548578e+07\n",
      "6_month_mb_used     3.333299e+07\n",
      "7_month_mb_used     3.460341e+07\n",
      "8_month_mb_used     3.010307e+07\n",
      "9_month_mb_used     2.689577e+07\n",
      "10_month_mb_used    3.337075e+07\n",
      "11_month_mb_used    2.842827e+07\n",
      "12_month_mb_used    3.097375e+07\n",
      "dtype: float64\n",
      "\n",
      "1_month_mb_used     4.189599e+07\n",
      "2_month_mb_used     1.047062e+08\n",
      "3_month_mb_used     1.166999e+08\n",
      "4_month_mb_used     9.273484e+07\n",
      "5_month_mb_used     9.058569e+07\n",
      "6_month_mb_used     8.199048e+07\n",
      "7_month_mb_used     9.658886e+07\n",
      "8_month_mb_used     1.061088e+08\n",
      "9_month_mb_used     8.672237e+07\n",
      "10_month_mb_used    9.278043e+07\n",
      "11_month_mb_used    9.519306e+07\n",
      "12_month_mb_used    1.042444e+08\n",
      "dtype: float64\n",
      "\n",
      "усредненная дисперсия для smart = 33130831.0\n",
      "\n",
      "усредненная дисперсия для ultra = 92520918.0\n"
     ]
    }
   ],
   "source": [
    "print (np.var(internet_smart)) #дисперсия для smart\n",
    "print()\n",
    "print (np.var(internet_ultra)) #дисперсия для ultra\n",
    "\n",
    "print()\n",
    "print ('усредненная дисперсия для smart =',round(np.var(internet_smart).mean())) \n",
    "print()\n",
    "print ('усредненная дисперсия для ultra =',round(np.var(internet_ultra).mean())) "
   ]
  },
  {
   "cell_type": "code",
   "execution_count": 48,
   "id": "35e13593",
   "metadata": {},
   "outputs": [
    {
     "name": "stdout",
     "output_type": "stream",
     "text": [
      "1_month_mb_used     6349.230118\n",
      "2_month_mb_used     6193.269661\n",
      "3_month_mb_used     5790.260750\n",
      "4_month_mb_used     5672.789221\n",
      "5_month_mb_used     5956.952286\n",
      "6_month_mb_used     5773.518350\n",
      "7_month_mb_used     5882.445751\n",
      "8_month_mb_used     5486.594845\n",
      "9_month_mb_used     5186.102676\n",
      "10_month_mb_used    5776.764391\n",
      "11_month_mb_used    5331.817957\n",
      "12_month_mb_used    5565.416981\n",
      "dtype: float64\n",
      "\n",
      "1_month_mb_used      6472.586757\n",
      "2_month_mb_used     10232.494567\n",
      "3_month_mb_used     10802.677014\n",
      "4_month_mb_used      9629.904041\n",
      "5_month_mb_used      9517.720310\n",
      "6_month_mb_used      9054.921847\n",
      "7_month_mb_used      9827.965525\n",
      "8_month_mb_used     10300.925596\n",
      "9_month_mb_used      9312.491532\n",
      "10_month_mb_used     9632.274922\n",
      "11_month_mb_used     9756.709712\n",
      "12_month_mb_used    10209.974610\n",
      "dtype: float64\n",
      "\n",
      "усредненное стандартное отклонение по месяцам smart = 5747.0\n",
      "\n",
      "усредненное стандартное отклонение по месяцам ultra = 9563.0\n"
     ]
    }
   ],
   "source": [
    "print (np.std(round(internet_smart))) # стандартное отклонение по месяцам smart\n",
    "print()\n",
    "print (np.std(round(internet_ultra))) # стандартное отклонение по месяцам ultra\n",
    "\n",
    "print()\n",
    "print ('усредненное стандартное отклонение по месяцам smart =',round(np.std(round(internet_smart)).mean()))\n",
    "print()\n",
    "print ('усредненное стандартное отклонение по месяцам ultra =',round(np.std(round(internet_ultra)).mean()))"
   ]
  },
  {
   "cell_type": "code",
   "execution_count": 49,
   "id": "c0d80b46",
   "metadata": {},
   "outputs": [
    {
     "data": {
      "image/png": "[encoded data removed]",
      "text/plain": [
       "<Figure size 1080x1080 with 12 Axes>"
      ]
     },
     "metadata": {
      "needs_background": "light"
     },
     "output_type": "display_data"
    }
   ],
   "source": [
    "ax = internet_smart.hist(bins=30,figsize=(15, 15)) #сренее по месяцам smart\n",
    "\n",
    "internet_ultra.hist(bins=30,figsize=(15, 15), ax=ax) #сренее по месяцам ultra\n",
    "\n",
    "plt.show()"
   ]
  },
  {
   "cell_type": "markdown",
   "id": "cedb1371",
   "metadata": {},
   "source": [
    "<div style=\"border:solid blue 2px; padding: 20px\">\n",
    "    \n",
    "на гистограммах видны очертания нормального распределения вокруг средних значений"
   ]
  },
  {
   "cell_type": "markdown",
   "id": "73efe651",
   "metadata": {},
   "source": [
    "## Проверка гипотез"
   ]
  },
  {
   "cell_type": "markdown",
   "id": "fec592c4",
   "metadata": {},
   "source": [
    "### Отличие средней выручки пользователей тарифов «Ультра» и «Смарт»\n"
   ]
  },
  {
   "cell_type": "markdown",
   "id": "631f0ebf",
   "metadata": {},
   "source": [
    "Н0: Средняя выручка пользователей тарифов «Ультра» и «Смарт» отличаются не существенно (Уровень значимости - 1%)\n",
    "\n",
    "Н1: Средняя выручка пользователей тарифов «Ультра» и «Смарт» существенно отличаются (Уровень значимости - 1%)"
   ]
  },
  {
   "cell_type": "code",
   "execution_count": 50,
   "id": "ff25cced",
   "metadata": {},
   "outputs": [
    {
     "name": "stdout",
     "output_type": "stream",
     "text": [
      "p-значение:  2.5164848377415587e-12\n",
      "Отвергаем нулевую гипотезу\n"
     ]
    }
   ],
   "source": [
    "revenue_smart = df_users[df_users['tariff'] == 'smart'].loc[:,'1_month_revenue':'12_month_revenue'][df_users.loc[:,'1_month_revenue':'12_month_revenue'] != False]\n",
    "revenue_ultra = df_users[df_users['tariff'] == 'ultra'].loc[:,'1_month_revenue':'12_month_revenue'][df_users.loc[:,'1_month_revenue':'12_month_revenue'] != False]\n",
    "\n",
    "\n",
    "alpha = .01 # критический уровень статистической значимости\n",
    "\n",
    "results = st.ttest_ind(\n",
    "    revenue_smart.mean(), \n",
    "    revenue_ultra.mean())\n",
    "\n",
    "print('p-значение: ', results.pvalue)\n",
    "\n",
    "if results.pvalue < alpha:\n",
    "    print(\"Отвергаем нулевую гипотезу\")\n",
    "else:\n",
    "    print(\"Не получилось отвергнуть нулевую гипотезу\") "
   ]
  },
  {
   "cell_type": "code",
   "execution_count": 51,
   "id": "c410900f",
   "metadata": {},
   "outputs": [
    {
     "name": "stdout",
     "output_type": "stream",
     "text": [
      "1128.0\n",
      "2040.0\n"
     ]
    }
   ],
   "source": [
    "print (round(revenue_smart.mean().mean()))\n",
    "print(round(revenue_ultra.mean().mean()))"
   ]
  },
  {
   "cell_type": "markdown",
   "id": "b621cbf6",
   "metadata": {},
   "source": [
    "<div style=\"border:solid blue 2px; padding: 20px\">\n",
    "    \n",
    "средняя выручка пользователей тарифов «Ультра» и «Смарт» отличается, пользователи тарифа «Ультра» в среднем платят больше"
   ]
  },
  {
   "cell_type": "markdown",
   "id": "09f4dd28",
   "metadata": {},
   "source": [
    "### Отличие средней выручки пользователей из Москвы от выручки пользователей из других регионов."
   ]
  },
  {
   "cell_type": "markdown",
   "id": "ab99fbda",
   "metadata": {},
   "source": [
    "Н0: Средняя выручка пользователей из Москвы и пользователей из других регионов отличаются не существенно (Уровень значимости - 1%)\n",
    "\n",
    "Н1: Средняя выручка пользователей из Москвы и пользователей из других регионов существенно отличаются (Уровень значимости - 1%)"
   ]
  },
  {
   "cell_type": "code",
   "execution_count": 52,
   "id": "8262ae70",
   "metadata": {},
   "outputs": [
    {
     "name": "stdout",
     "output_type": "stream",
     "text": [
      "p-значение:  0.2195180914964465\n",
      "Не получилось отвергнуть нулевую гипотезу\n"
     ]
    }
   ],
   "source": [
    "revenue_moscow = df_users[df_users['city'] == 'Москва'].loc[:,'1_month_revenue':'12_month_revenue'][df_users.loc[:,'1_month_revenue':'12_month_revenue'] != False]\n",
    "revenue_regions = df_users[df_users['city'] != 'Москва'].loc[:,'1_month_revenue':'12_month_revenue'][df_users.loc[:,'1_month_revenue':'12_month_revenue'] != False]\n",
    "\n",
    "\n",
    "alpha = .01 # критический уровень статистической значимости\n",
    "\n",
    "results = st.ttest_ind(\n",
    "    revenue_moscow.mean(), \n",
    "    revenue_regions.mean())\n",
    "\n",
    "print('p-значение: ', results.pvalue)\n",
    "\n",
    "if results.pvalue < alpha:\n",
    "    print(\"Отвергаем нулевую гипотезу\")\n",
    "else:\n",
    "    print(\"Не получилось отвергнуть нулевую гипотезу\") "
   ]
  },
  {
   "cell_type": "code",
   "execution_count": 53,
   "id": "70cae90e",
   "metadata": {},
   "outputs": [
    {
     "name": "stdout",
     "output_type": "stream",
     "text": [
      "1470.0\n",
      "1380.0\n"
     ]
    }
   ],
   "source": [
    "print (round(revenue_moscow.mean().mean()))\n",
    "print(round(revenue_regions.mean().mean()))"
   ]
  },
  {
   "cell_type": "markdown",
   "id": "0e6ca3ea",
   "metadata": {},
   "source": [
    "<div style=\"border:solid blue 2px; padding: 20px\">\n",
    "    \n",
    "средняя выручка пользователей из Москвы и пользователей из других регионов существенно не отличаются"
   ]
  },
  {
   "cell_type": "code",
   "execution_count": null,
   "id": "5c2077d4",
   "metadata": {},
   "outputs": [],
   "source": []
  },
  {
   "cell_type": "code",
   "execution_count": 54,
   "id": "d18a35fc",
   "metadata": {},
   "outputs": [
    {
     "data": {
      "text/html": [
       "<div>\n",
       "<style scoped>\n",
       "    .dataframe tbody tr th:only-of-type {\n",
       "        vertical-align: middle;\n",
       "    }\n",
       "\n",
       "    .dataframe tbody tr th {\n",
       "        vertical-align: top;\n",
       "    }\n",
       "\n",
       "    .dataframe thead th {\n",
       "        text-align: right;\n",
       "    }\n",
       "</style>\n",
       "<table border=\"1\" class=\"dataframe\">\n",
       "  <thead>\n",
       "    <tr style=\"text-align: right;\">\n",
       "      <th></th>\n",
       "      <th>messages_included</th>\n",
       "      <th>mb_per_month_included</th>\n",
       "      <th>minutes_included</th>\n",
       "      <th>rub_monthly_fee</th>\n",
       "      <th>rub_per_gb</th>\n",
       "      <th>rub_per_message</th>\n",
       "      <th>rub_per_minute</th>\n",
       "      <th>tariff_name</th>\n",
       "    </tr>\n",
       "  </thead>\n",
       "  <tbody>\n",
       "    <tr>\n",
       "      <td>0</td>\n",
       "      <td>50</td>\n",
       "      <td>15360</td>\n",
       "      <td>500</td>\n",
       "      <td>550</td>\n",
       "      <td>200</td>\n",
       "      <td>3</td>\n",
       "      <td>3</td>\n",
       "      <td>smart</td>\n",
       "    </tr>\n",
       "    <tr>\n",
       "      <td>1</td>\n",
       "      <td>1000</td>\n",
       "      <td>30720</td>\n",
       "      <td>3000</td>\n",
       "      <td>1950</td>\n",
       "      <td>150</td>\n",
       "      <td>1</td>\n",
       "      <td>1</td>\n",
       "      <td>ultra</td>\n",
       "    </tr>\n",
       "  </tbody>\n",
       "</table>\n",
       "</div>"
      ],
      "text/plain": [
       "   messages_included  mb_per_month_included  minutes_included  \\\n",
       "0                 50                  15360               500   \n",
       "1               1000                  30720              3000   \n",
       "\n",
       "   rub_monthly_fee  rub_per_gb  rub_per_message  rub_per_minute tariff_name  \n",
       "0              550         200                3               3       smart  \n",
       "1             1950         150                1               1       ultra  "
      ]
     },
     "execution_count": 54,
     "metadata": {},
     "output_type": "execute_result"
    }
   ],
   "source": [
    "df_tariffs"
   ]
  },
  {
   "cell_type": "code",
   "execution_count": null,
   "id": "9a4f01bc",
   "metadata": {},
   "outputs": [],
   "source": []
  }
 ],
 "metadata": {
  "kernelspec": {
   "display_name": "Python 3",
   "language": "python",
   "name": "python3"
  },
  "language_info": {
   "codemirror_mode": {
    "name": "ipython",
    "version": 3
   },
   "file_extension": ".py",
   "mimetype": "text/x-python",
   "name": "python",
   "nbconvert_exporter": "python",
   "pygments_lexer": "ipython3",
   "version": "3.7.12"
  },
  "toc": {
   "base_numbering": 1,
   "nav_menu": {},
   "number_sections": true,
   "sideBar": true,
   "skip_h1_title": true,
   "title_cell": "Содержание",
   "title_sidebar": "Содержание",
   "toc_cell": true,
   "toc_position": {
    "height": "calc(100% - 180px)",
    "left": "10px",
    "top": "150px",
    "width": "384px"
   },
   "toc_section_display": true,
   "toc_window_display": true
  }
 },
 "nbformat": 4,
 "nbformat_minor": 5
}
