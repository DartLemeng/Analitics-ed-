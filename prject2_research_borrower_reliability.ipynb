{
 "cells": [
  {
   "cell_type": "markdown",
   "id": "368c0fb4",
   "metadata": {},
   "source": [
    "# Исследование надёжности заёмщиков"
   ]
  },
  {
   "cell_type": "markdown",
   "id": "042b8b9e",
   "metadata": {
    "toc": true
   },
   "source": [
    "<h1>Содержание<span class=\"tocSkip\"></span></h1>\n",
    "<div class=\"toc\"><ul class=\"toc-item\"><li><span><a href=\"#Объявленные-функции\" data-toc-modified-id=\"Объявленные-функции-1\"><span class=\"toc-item-num\">1&nbsp;&nbsp;</span>Объявленные функции</a></span></li><li><span><a href=\"#Обзор-данных\" data-toc-modified-id=\"Обзор-данных-2\"><span class=\"toc-item-num\">2&nbsp;&nbsp;</span>Обзор данных</a></span><ul class=\"toc-item\"><li><span><a href=\"#Обзор-столбцов\" data-toc-modified-id=\"Обзор-столбцов-2.1\"><span class=\"toc-item-num\">2.1&nbsp;&nbsp;</span>Обзор столбцов</a></span></li><li><span><a href=\"#Пропущенные-значения\" data-toc-modified-id=\"Пропущенные-значения-2.2\"><span class=\"toc-item-num\">2.2&nbsp;&nbsp;</span>Пропущенные значения</a></span></li><li><span><a href=\"#Уникальные-значения-в-столбцах\" data-toc-modified-id=\"Уникальные-значения-в-столбцах-2.3\"><span class=\"toc-item-num\">2.3&nbsp;&nbsp;</span>Уникальные значения в столбцах</a></span></li><li><span><a href=\"#Дубликаты\" data-toc-modified-id=\"Дубликаты-2.4\"><span class=\"toc-item-num\">2.4&nbsp;&nbsp;</span>Дубликаты</a></span></li><li><span><a href=\"#Заключение\" data-toc-modified-id=\"Заключение-2.5\"><span class=\"toc-item-num\">2.5&nbsp;&nbsp;</span>Заключение</a></span></li></ul></li><li><span><a href=\"#Предобработка-данных\" data-toc-modified-id=\"Предобработка-данных-3\"><span class=\"toc-item-num\">3&nbsp;&nbsp;</span>Предобработка данных</a></span><ul class=\"toc-item\"><li><span><a href=\"#Отрицательные-значения\" data-toc-modified-id=\"Отрицательные-значения-3.1\"><span class=\"toc-item-num\">3.1&nbsp;&nbsp;</span>Отрицательные значения</a></span></li><li><span><a href=\"#Пропуски-значений\" data-toc-modified-id=\"Пропуски-значений-3.2\"><span class=\"toc-item-num\">3.2&nbsp;&nbsp;</span>Пропуски значений</a></span></li><li><span><a href=\"#Аномально-большие-значения\" data-toc-modified-id=\"Аномально-большие-значения-3.3\"><span class=\"toc-item-num\">3.3&nbsp;&nbsp;</span>Аномально большие значения</a></span></li><li><span><a href=\"#Дубликаты\" data-toc-modified-id=\"Дубликаты-3.4\"><span class=\"toc-item-num\">3.4&nbsp;&nbsp;</span>Дубликаты</a></span><ul class=\"toc-item\"><li><span><a href=\"#явные-дубликаты\" data-toc-modified-id=\"явные-дубликаты-3.4.1\"><span class=\"toc-item-num\">3.4.1&nbsp;&nbsp;</span>явные дубликаты</a></span></li><li><span><a href=\"#неявные-дубликаты\" data-toc-modified-id=\"неявные-дубликаты-3.4.2\"><span class=\"toc-item-num\">3.4.2&nbsp;&nbsp;</span>неявные дубликаты</a></span><ul class=\"toc-item\"><li><span><a href=\"#верхние-и-нижние-регистры\" data-toc-modified-id=\"верхние-и-нижние-регистры-3.4.2.1\"><span class=\"toc-item-num\">3.4.2.1&nbsp;&nbsp;</span>верхние и нижние регистры</a></span></li><li><span><a href=\"#некорректные-данные-в-столбце-gender\" data-toc-modified-id=\"некорректные-данные-в-столбце-gender-3.4.2.2\"><span class=\"toc-item-num\">3.4.2.2&nbsp;&nbsp;</span>некорректные данные в столбце gender</a></span></li><li><span><a href=\"#цели-получения-кредита\" data-toc-modified-id=\"цели-получения-кредита-3.4.2.3\"><span class=\"toc-item-num\">3.4.2.3&nbsp;&nbsp;</span>цели получения кредита</a></span></li><li><span><a href=\"#удаление-неявных-дубликатов\" data-toc-modified-id=\"удаление-неявных-дубликатов-3.4.2.4\"><span class=\"toc-item-num\">3.4.2.4&nbsp;&nbsp;</span>удаление неявных дубликатов</a></span></li></ul></li></ul></li><li><span><a href=\"#Дробные-значения-целочисленных-переменных\" data-toc-modified-id=\"Дробные-значения-целочисленных-переменных-3.5\"><span class=\"toc-item-num\">3.5&nbsp;&nbsp;</span>Дробные значения целочисленных переменных</a></span></li><li><span><a href=\"#Категорирование-заемщиков\" data-toc-modified-id=\"Категорирование-заемщиков-3.6\"><span class=\"toc-item-num\">3.6&nbsp;&nbsp;</span>Категорирование заемщиков</a></span><ul class=\"toc-item\"><li><span><a href=\"#категорирование-по-цели-получения-кредита\" data-toc-modified-id=\"категорирование-по-цели-получения-кредита-3.6.1\"><span class=\"toc-item-num\">3.6.1&nbsp;&nbsp;</span>категорирование по цели получения кредита</a></span></li><li><span><a href=\"#создание-словарей\" data-toc-modified-id=\"создание-словарей-3.6.2\"><span class=\"toc-item-num\">3.6.2&nbsp;&nbsp;</span>создание словарей</a></span></li><li><span><a href=\"#категорирование-по-ежемесячному-доходу\" data-toc-modified-id=\"категорирование-по-ежемесячному-доходу-3.6.3\"><span class=\"toc-item-num\">3.6.3&nbsp;&nbsp;</span>категорирование по ежемесячному доходу</a></span></li><li><span><a href=\"#категорирование-по-возрасту\" data-toc-modified-id=\"категорирование-по-возрасту-3.6.4\"><span class=\"toc-item-num\">3.6.4&nbsp;&nbsp;</span>категорирование по возрасту</a></span></li></ul></li><li><span><a href=\"#Результаты-предобработки-данных\" data-toc-modified-id=\"Результаты-предобработки-данных-3.7\"><span class=\"toc-item-num\">3.7&nbsp;&nbsp;</span>Результаты предобработки данных</a></span></li></ul></li><li><span><a href=\"#Проверка-гипотез\" data-toc-modified-id=\"Проверка-гипотез-4\"><span class=\"toc-item-num\">4&nbsp;&nbsp;</span>Проверка гипотез</a></span><ul class=\"toc-item\"><li><span><a href=\"#Зависимость-между-количеством-детей-и-возвратом-кредита-в-срок\" data-toc-modified-id=\"Зависимость-между-количеством-детей-и-возвратом-кредита-в-срок-4.1\"><span class=\"toc-item-num\">4.1&nbsp;&nbsp;</span>Зависимость между количеством детей и возвратом кредита в срок</a></span></li><li><span><a href=\"#Зависимость-между-семейным-положением-и-возвратом-кредита-в-срок\" data-toc-modified-id=\"Зависимость-между-семейным-положением-и-возвратом-кредита-в-срок-4.2\"><span class=\"toc-item-num\">4.2&nbsp;&nbsp;</span>Зависимость между семейным положением и возвратом кредита в срок</a></span></li><li><span><a href=\"#Зависимость-между-уровнем-дохода-и-возвратом-кредита-в-срок\" data-toc-modified-id=\"Зависимость-между-уровнем-дохода-и-возвратом-кредита-в-срок-4.3\"><span class=\"toc-item-num\">4.3&nbsp;&nbsp;</span>Зависимость между уровнем дохода и возвратом кредита в срок</a></span></li><li><span><a href=\"#Влияние-цели-кредита-на-его-возврат-в-срок\" data-toc-modified-id=\"Влияние-цели-кредита-на-его-возврат-в-срок-4.4\"><span class=\"toc-item-num\">4.4&nbsp;&nbsp;</span>Влияние цели кредита на его возврат в срок</a></span></li></ul></li></ul></div>"
   ]
  },
  {
   "cell_type": "markdown",
   "id": "c17e19a3",
   "metadata": {},
   "source": [
    "**Заказчик** — кредитный отдел банка. \n",
    "\n",
    "**Исполнитель** — Бондарцов Валерий Валентинович\n",
    "\n",
    "**Входные данные** — статистика о платёжеспособности клиентов.\n",
    "\n",
    "**Дальнейшее использование результатов исследования** — результаты исследования будут учтены при построении модели кредитного скоринга.\n",
    "\n",
    "**Цель исследования** — проверка следующих гипотез:\n",
    "1. Есть ли зависимость между количеством детей и возвратом кредита в срок?\n",
    "2. Есть ли зависимость между семейным положением и возвратом кредита в срок?\n",
    "3. Есть ли зависимость между уровнем дохода и возвратом кредита в срок?\n",
    "4. Как разные цели кредита влияют на его возврат в срок?\n",
    "\n",
    "**Требования к представлению результатов исследования** - не установлено, по умолчанию ______.\n",
    "\n"
   ]
  },
  {
   "cell_type": "markdown",
   "id": "fed2b9f1",
   "metadata": {},
   "source": [
    "## Объявленные функции"
   ]
  },
  {
   "cell_type": "code",
   "execution_count": 1,
   "id": "3ce10e65",
   "metadata": {},
   "outputs": [],
   "source": [
    "# функция search_similar_words\n",
    "#назначение - поиск в одном списке элементов из другого списка\n",
    "#принимаемые данные:\n",
    "# - список в котором будет производиться поиск (list_for_check), тип данных - list\n",
    "# - список элементов или строка, поиск которых осуществляет функция (searched_elements), тип данных - list или str\n",
    "#возвращаемые данные:\n",
    "# - список в котором каждому элементу списка соответствует вложенный список, содержащий все элементы из (list_for_check) в \n",
    "# которых содержится соответствующий элемент списка (searched_elements), тип данных - list\n",
    "\n",
    "def search_similar_words (list_for_check, searched_elements):\n",
    "    if (type(list_for_check) == list) and ( #проверка передаваемого списка list_for_check на соответствие типа данных (list)\n",
    "        (type(searched_elements) == list) #проверка передаваемого списка searched_elements на соответствие типа данных (list)\n",
    "        or                                #или\n",
    "        (type(searched_elements) == str) #проверка передаваемого списка searched_elements на соответствие типа данных (str)\n",
    "    ):\n",
    "        \n",
    "        list_result = [] #объявление пустого списка для агрегации и вываода результата работы функции\n",
    "        \n",
    "        for i in searched_elements: #цикл, проходящий все значения поиск которых осуществляется в списке list_for_check\n",
    "            list_word = [] #объявление пустого списка для наполнения списка list_result\n",
    "            \n",
    "            for _ in range(len(list_for_check)): #цикл, проходящий все значения от 0 до длинны списка в котором осуществляется поиск\n",
    "                \n",
    "                if i in list_for_check[_]: #условие выполняющееся если искомый элемент из списка searched_elements есть в элементе списка list_for_check\n",
    "                    list_word.append(list_for_check[_]) #добавление элемента, для которого выполняется условие, в промежуточный список\n",
    "                                        \n",
    "            list_result.append (list_word) #добавление промежуточного списка, соответствующего всем элементам (для которых выполняется условие), к списку выводящему результат работы функции\n",
    "            \n",
    "        return list_result #вывод результата работы функции\n",
    "    \n",
    "    else:\n",
    "        print ('ошибка в типах передаваемых функции данных:',\n",
    "               '\\n', \n",
    "               'типы данных list_for_check -', type(list_for_check), 'вместо list',\n",
    "               '\\n',\n",
    "              'типы данных searched_elements -', type(searched_elements),'вместо list или str') #сообщение о неверных передаваемых функции типах данных"
   ]
  },
  {
   "cell_type": "code",
   "execution_count": 2,
   "id": "128a011c",
   "metadata": {},
   "outputs": [],
   "source": [
    "# функция replace_values\n",
    "#назначение - замена в заданном столбце датафрейма df одних значений на другие \n",
    "#принимаемые данные:\n",
    "# - название столбца датафрейма в котором будет производиться замена значений (column)\n",
    "# - элемент/список элементов которые необходимо заменить (wrong_values)\n",
    "# - элемент на который необходимо произвести замену (correct_values)\n",
    "\n",
    "def replace_values (column, wrong_values, correct_values): \n",
    "    for _ in wrong_values: #цикл проходит все значения которые необходимо заменить\n",
    "        df[column] = df[column].replace(_, correct_values) #замена значения из числа wrong_values на correct_values"
   ]
  },
  {
   "cell_type": "code",
   "execution_count": 3,
   "id": "c8ff1bbf",
   "metadata": {},
   "outputs": [],
   "source": [
    "#функция income_category\n",
    "#назначение - возвращение рейтинга на основании ежемесячного дохода \n",
    "#принимаемые данные:\n",
    "# - доход (income), тип данных - int, float\n",
    "#возвращаемые данные:\n",
    "# - категория (E,D,C,B,A),зависящая от дохода клиента, где:\n",
    "#0 – 30 000 — 'E';\n",
    "#30 001 – 50 000 — 'D';\n",
    "#50 001 – 200 000 — 'C';\n",
    "#200 001 – 1 000 000 — 'B';\n",
    "#1 000 001 и выше — 'A'.\n",
    "\n",
    "def income_category (income):\n",
    "    try: #конструкция позволяющая избежать ошибок (например с типами данных или с отрицательными значениями) \n",
    "        if 0 < income <= 30000: #диапазон соответствующий категории 'E'\n",
    "            return 'E'\n",
    "        elif 30000 < income <= 50000: #диапазон соответствующий категории 'D'\n",
    "            return 'D'\n",
    "        elif 50000 < income <= 200000: #диапазон соответствующий категории 'C'\n",
    "            return 'C'\n",
    "        elif 200000 < income <= 1000000: #диапазон соответствующий категории 'B'\n",
    "            return 'B'\n",
    "        elif income >1000000: #диапазон соответствующий категории 'A'\n",
    "            return 'A'\n",
    "    except:\n",
    "        return f'Ошибка входных данных, тип данных {type(income)} вместо int, float' #сообщение о неверных передаваемых функции типах данных"
   ]
  },
  {
   "cell_type": "code",
   "execution_count": 4,
   "id": "be951f74",
   "metadata": {},
   "outputs": [],
   "source": [
    "#функция age_category\n",
    "#назначение - возвращение классификации на основании возраста \n",
    "#принимаемые данные:\n",
    "# - возраст (age), тип данных - int, float\n",
    "#возвращаемые данные:\n",
    "# - категория,зависящая от возраста клиента, где:\n",
    "#18 - 44 — 'молодой возраст';\n",
    "#45 - 59 — 'средний возраст';\n",
    "#60 - 74 — 'пожилой возраст';\n",
    "#75 - 90 — 'старческий возраст';\n",
    "#90 и выше — 'долгожители'.\n",
    "\n",
    "def age_category (age):\n",
    "    try: #конструкция позволяющая избежать ошибок (например с типами данных) \n",
    "        if 18 <= age <= 44: #диапазон соответствующий категории 'молодой возраст'\n",
    "            return 'молодой возраст'\n",
    "        elif 45 <= age <= 59: #диапазон соответствующий категории 'средний возраст'\n",
    "            return 'средний возраст'\n",
    "        elif 60 <= age <= 74: #диапазон соответствующий категории 'пожилой возраст'\n",
    "            return 'пожилой возраст'\n",
    "        elif 75 <= age <= 90: #диапазон соответствующий категории 'старческий возраст'\n",
    "            return 'старческий возраст'\n",
    "        elif age > 90: #диапазон соответствующий категории 'долгожители'\n",
    "            return 'долгожители'\n",
    "        else:\n",
    "            return 'Возраст не соответствует классификации ВОЗ'\n",
    "    except:\n",
    "        return f'Ошибка входных данных, тип данных {type(age)} вместо int, float' #сообщение о неверных передаваемых функции типах данных"
   ]
  },
  {
   "cell_type": "code",
   "execution_count": 5,
   "id": "d7f79748",
   "metadata": {},
   "outputs": [],
   "source": [
    "# функция engine_of_progress\n",
    "#назначение - автоматизация построение сводных таблиц при исследовании гипотез в кейсе с учетом минимально необходимого количества результатов для проведения исследования\n",
    "#принимаемые данные:\n",
    "# - название столбца датафрейма для которого исследуется зависимость от столбца debt (column_dep)\n",
    "# - критерий для определения стобцов в которых недостаточно данных для исследования, тип данных - int, float\n",
    "#возвращаемые данные:\n",
    "# - сводная таблица отражающая динамику показателей в передаваемом столбце с количеством должников по кредитам\n",
    "# - сводная таблица отражающая динамику показателей в передаваемом столбце с количеством должников по кредитам, сгруппированая \n",
    "#по типам занятости\n",
    "# - сводная таблица отражающая динамику показателей в передаваемом столбце с количеством должников по кредитам, сгруппированая \n",
    "#по типам занятости, выраженная в процентных значениях\n",
    "#\n",
    "#ограничения:\n",
    "#- не стоит передавать столбец purpose\n",
    "\n",
    "\n",
    "def engine_of_progress (column_dep, statistic_criterion=1000):\n",
    "    try:\n",
    "        pivot = df.pivot_table(index=[column_dep], columns='debt', values='purpose', aggfunc='count')\n",
    "        pivot ['total_customer'] = pivot [0] + pivot [1] #введем колонку с общим числом клиентов в данной группе\n",
    "        pivot ['proportion'] = round(pivot[0]/pivot[1]) #отношение числа не имевших задолженность к числу имевших\n",
    "        pivot ['percent_overdue_loan'] = round(pivot[1]*100/(pivot['total_customer'])) #процент имевших задолженность клиентов от общего числа заемщиков имеющих столько же детей\n",
    "        pivot = pivot.drop(columns = [0], axis = 1) #нас интересуют должники, удалим лишний стобец\n",
    "        pivot = pivot.rename(columns={\n",
    "            1 :'number_debetors'} #переименуем столбец для большей наглядности\n",
    "                                            ).fillna(0) #заполняем пропуски\n",
    "        total_cust = pivot ['total_customer'] #сохраним столбец total_customer\n",
    "        display (pivot)  #\n",
    "        print (f'сводная таблица отражающая связь показателей в столбце {column_dep} с количеством должников по кредитам')\n",
    "          \n",
    "      \n",
    "        pivot_by_income_type = df.pivot_table(index=[column_dep], columns= 'income_type', values='debt', aggfunc='sum') #пересоздадим сводную таблицу\n",
    "        pivot_by_income_type ['total_customer'] = total_cust #заполняем стобец ранее рассчитаными значениями\n",
    "        \n",
    "        list_not_enough_data = [] #создаем промежуточный список для определения стобцов в которых недостаточно данных для исследования\n",
    "        for _ in pivot_by_income_type.columns[pivot_by_income_type.columns != 'total_customer']: #цикл проходящий по всем названиям столбцов в pivot_by_income_type\n",
    "            if pivot_by_income_type[_].sum() <= statistic_criterion: #проверка условия недостаточности данных\n",
    "                list_not_enough_data.append(_) #наполнение списка\n",
    "        \n",
    "        pivot_by_income_type = pivot_by_income_type.drop(columns = list_not_enough_data, axis = 1).fillna(0)\n",
    "        # для иследования данных групп заемщиков недостаточно данных\n",
    "        display (pivot_by_income_type)\n",
    "        print (f'сводная таблица отражающая связь показателей в столбце {column_dep} с количеством должников по кредитам, сгруппированая по типам занятости')\n",
    "    \n",
    "    \n",
    "        for _ in pivot_by_income_type.columns[pivot_by_income_type.columns != 'total_customer']: #цикл проходит по всем названиям столбцов кроме total_customer \n",
    "            pivot_by_income_type[_] = round(pivot_by_income_type[_]*100/pivot_by_income_type['total_customer'],4) #замещение значений в столбце процентами данного значения от значения в столбце 'total_customer'\n",
    "        \n",
    "        pivot_by_income_type = pivot_by_income_type.fillna(0) #заполняем пропуски\n",
    "        display (pivot_by_income_type) #из предыдущей таблицы видно что данных не достаточно для анализа заемщиков с 3 и более детьми\n",
    "        \n",
    "        print (f'сводная таблица отражающая связь показателей в столбце {column_dep} с количеством должников по кредитам, сгруппированая по типам занятости, выраженная в процентных значениях')\n",
    "        \n",
    "    except: \n",
    "        return 'Ошибка'"
   ]
  },
  {
   "cell_type": "markdown",
   "id": "2dd39ef7",
   "metadata": {},
   "source": [
    "## Обзор данных"
   ]
  },
  {
   "cell_type": "markdown",
   "id": "0487d853",
   "metadata": {},
   "source": [
    "В качестве начальных данных получена статистика о платёжеспособности клиентов (файл **data.csv**), а так же описание содержащихся в нем данных: \n",
    "\n",
    "- children — количество детей в семье\n",
    "- days_employed — общий трудовой стаж в днях\n",
    "- dob_years — возраст клиента в годах\n",
    "- education — уровень образования клиента\n",
    "- education_id — идентификатор уровня образования\n",
    "- family_status — семейное положение\n",
    "- family_status_id — идентификатор семейного положения\n",
    "- gender — пол клиента\n",
    "- income_type — тип занятости\n",
    "- debt — имел ли задолженность по возврату кредитов\n",
    "- total_income — ежемесячный доход\n",
    "- purpose — цель получения кредита\n"
   ]
  },
  {
   "cell_type": "code",
   "execution_count": 6,
   "id": "4db51b3a",
   "metadata": {},
   "outputs": [],
   "source": [
    "import pandas as pd\n",
    "\n",
    "df = pd.read_csv ('D:\\Data for projects\\data.csv')"
   ]
  },
  {
   "cell_type": "code",
   "execution_count": 7,
   "id": "99bf1e9c",
   "metadata": {},
   "outputs": [
    {
     "name": "stdout",
     "output_type": "stream",
     "text": [
      "<class 'pandas.core.frame.DataFrame'>\n",
      "RangeIndex: 21525 entries, 0 to 21524\n",
      "Data columns (total 12 columns):\n",
      "children            21525 non-null int64\n",
      "days_employed       19351 non-null float64\n",
      "dob_years           21525 non-null int64\n",
      "education           21525 non-null object\n",
      "education_id        21525 non-null int64\n",
      "family_status       21525 non-null object\n",
      "family_status_id    21525 non-null int64\n",
      "gender              21525 non-null object\n",
      "income_type         21525 non-null object\n",
      "debt                21525 non-null int64\n",
      "total_income        19351 non-null float64\n",
      "purpose             21525 non-null object\n",
      "dtypes: float64(2), int64(5), object(5)\n",
      "memory usage: 2.0+ MB\n"
     ]
    }
   ],
   "source": [
    "df.info()"
   ]
  },
  {
   "cell_type": "markdown",
   "id": "7a096c5d",
   "metadata": {},
   "source": [
    "### Обзор столбцов"
   ]
  },
  {
   "cell_type": "code",
   "execution_count": 8,
   "id": "244211a0",
   "metadata": {
    "scrolled": false
   },
   "outputs": [
    {
     "name": "stdout",
     "output_type": "stream",
     "text": [
      "Index(['children', 'days_employed', 'dob_years', 'education', 'education_id',\n",
      "       'family_status', 'family_status_id', 'gender', 'income_type', 'debt',\n",
      "       'total_income', 'purpose'],\n",
      "      dtype='object')\n"
     ]
    }
   ],
   "source": [
    "print (df.columns)"
   ]
  },
  {
   "cell_type": "markdown",
   "id": "43b1eee6",
   "metadata": {},
   "source": [
    "<div style=\"border:solid blue 2px; padding: 20px\">\n",
    "    \n",
    "**Обзор наименований столбцов** показал корректность их наименования, так в названиях:\n",
    "- используется английский язык\n",
    "- используется змеиный стиль\n",
    "- отсутствуют пробелы"
   ]
  },
  {
   "cell_type": "code",
   "execution_count": 9,
   "id": "dbc7aaff",
   "metadata": {},
   "outputs": [
    {
     "data": {
      "text/html": [
       "<div>\n",
       "<style scoped>\n",
       "    .dataframe tbody tr th:only-of-type {\n",
       "        vertical-align: middle;\n",
       "    }\n",
       "\n",
       "    .dataframe tbody tr th {\n",
       "        vertical-align: top;\n",
       "    }\n",
       "\n",
       "    .dataframe thead th {\n",
       "        text-align: right;\n",
       "    }\n",
       "</style>\n",
       "<table border=\"1\" class=\"dataframe\">\n",
       "  <thead>\n",
       "    <tr style=\"text-align: right;\">\n",
       "      <th></th>\n",
       "      <th>children</th>\n",
       "      <th>days_employed</th>\n",
       "      <th>dob_years</th>\n",
       "      <th>education</th>\n",
       "      <th>education_id</th>\n",
       "      <th>family_status</th>\n",
       "      <th>family_status_id</th>\n",
       "      <th>gender</th>\n",
       "      <th>income_type</th>\n",
       "      <th>debt</th>\n",
       "      <th>total_income</th>\n",
       "      <th>purpose</th>\n",
       "    </tr>\n",
       "  </thead>\n",
       "  <tbody>\n",
       "    <tr>\n",
       "      <td>0</td>\n",
       "      <td>1</td>\n",
       "      <td>-8437.673028</td>\n",
       "      <td>42</td>\n",
       "      <td>высшее</td>\n",
       "      <td>0</td>\n",
       "      <td>женат / замужем</td>\n",
       "      <td>0</td>\n",
       "      <td>F</td>\n",
       "      <td>сотрудник</td>\n",
       "      <td>0</td>\n",
       "      <td>253875.639453</td>\n",
       "      <td>покупка жилья</td>\n",
       "    </tr>\n",
       "    <tr>\n",
       "      <td>1</td>\n",
       "      <td>1</td>\n",
       "      <td>-4024.803754</td>\n",
       "      <td>36</td>\n",
       "      <td>среднее</td>\n",
       "      <td>1</td>\n",
       "      <td>женат / замужем</td>\n",
       "      <td>0</td>\n",
       "      <td>F</td>\n",
       "      <td>сотрудник</td>\n",
       "      <td>0</td>\n",
       "      <td>112080.014102</td>\n",
       "      <td>приобретение автомобиля</td>\n",
       "    </tr>\n",
       "    <tr>\n",
       "      <td>2</td>\n",
       "      <td>0</td>\n",
       "      <td>-5623.422610</td>\n",
       "      <td>33</td>\n",
       "      <td>Среднее</td>\n",
       "      <td>1</td>\n",
       "      <td>женат / замужем</td>\n",
       "      <td>0</td>\n",
       "      <td>M</td>\n",
       "      <td>сотрудник</td>\n",
       "      <td>0</td>\n",
       "      <td>145885.952297</td>\n",
       "      <td>покупка жилья</td>\n",
       "    </tr>\n",
       "    <tr>\n",
       "      <td>3</td>\n",
       "      <td>3</td>\n",
       "      <td>-4124.747207</td>\n",
       "      <td>32</td>\n",
       "      <td>среднее</td>\n",
       "      <td>1</td>\n",
       "      <td>женат / замужем</td>\n",
       "      <td>0</td>\n",
       "      <td>M</td>\n",
       "      <td>сотрудник</td>\n",
       "      <td>0</td>\n",
       "      <td>267628.550329</td>\n",
       "      <td>дополнительное образование</td>\n",
       "    </tr>\n",
       "    <tr>\n",
       "      <td>4</td>\n",
       "      <td>0</td>\n",
       "      <td>340266.072047</td>\n",
       "      <td>53</td>\n",
       "      <td>среднее</td>\n",
       "      <td>1</td>\n",
       "      <td>гражданский брак</td>\n",
       "      <td>1</td>\n",
       "      <td>F</td>\n",
       "      <td>пенсионер</td>\n",
       "      <td>0</td>\n",
       "      <td>158616.077870</td>\n",
       "      <td>сыграть свадьбу</td>\n",
       "    </tr>\n",
       "    <tr>\n",
       "      <td>5</td>\n",
       "      <td>0</td>\n",
       "      <td>-926.185831</td>\n",
       "      <td>27</td>\n",
       "      <td>высшее</td>\n",
       "      <td>0</td>\n",
       "      <td>гражданский брак</td>\n",
       "      <td>1</td>\n",
       "      <td>M</td>\n",
       "      <td>компаньон</td>\n",
       "      <td>0</td>\n",
       "      <td>255763.565419</td>\n",
       "      <td>покупка жилья</td>\n",
       "    </tr>\n",
       "    <tr>\n",
       "      <td>6</td>\n",
       "      <td>0</td>\n",
       "      <td>-2879.202052</td>\n",
       "      <td>43</td>\n",
       "      <td>высшее</td>\n",
       "      <td>0</td>\n",
       "      <td>женат / замужем</td>\n",
       "      <td>0</td>\n",
       "      <td>F</td>\n",
       "      <td>компаньон</td>\n",
       "      <td>0</td>\n",
       "      <td>240525.971920</td>\n",
       "      <td>операции с жильем</td>\n",
       "    </tr>\n",
       "    <tr>\n",
       "      <td>7</td>\n",
       "      <td>0</td>\n",
       "      <td>-152.779569</td>\n",
       "      <td>50</td>\n",
       "      <td>СРЕДНЕЕ</td>\n",
       "      <td>1</td>\n",
       "      <td>женат / замужем</td>\n",
       "      <td>0</td>\n",
       "      <td>M</td>\n",
       "      <td>сотрудник</td>\n",
       "      <td>0</td>\n",
       "      <td>135823.934197</td>\n",
       "      <td>образование</td>\n",
       "    </tr>\n",
       "    <tr>\n",
       "      <td>8</td>\n",
       "      <td>2</td>\n",
       "      <td>-6929.865299</td>\n",
       "      <td>35</td>\n",
       "      <td>ВЫСШЕЕ</td>\n",
       "      <td>0</td>\n",
       "      <td>гражданский брак</td>\n",
       "      <td>1</td>\n",
       "      <td>F</td>\n",
       "      <td>сотрудник</td>\n",
       "      <td>0</td>\n",
       "      <td>95856.832424</td>\n",
       "      <td>на проведение свадьбы</td>\n",
       "    </tr>\n",
       "    <tr>\n",
       "      <td>9</td>\n",
       "      <td>0</td>\n",
       "      <td>-2188.756445</td>\n",
       "      <td>41</td>\n",
       "      <td>среднее</td>\n",
       "      <td>1</td>\n",
       "      <td>женат / замужем</td>\n",
       "      <td>0</td>\n",
       "      <td>M</td>\n",
       "      <td>сотрудник</td>\n",
       "      <td>0</td>\n",
       "      <td>144425.938277</td>\n",
       "      <td>покупка жилья для семьи</td>\n",
       "    </tr>\n",
       "  </tbody>\n",
       "</table>\n",
       "</div>"
      ],
      "text/plain": [
       "   children  days_employed  dob_years education  education_id  \\\n",
       "0         1   -8437.673028         42    высшее             0   \n",
       "1         1   -4024.803754         36   среднее             1   \n",
       "2         0   -5623.422610         33   Среднее             1   \n",
       "3         3   -4124.747207         32   среднее             1   \n",
       "4         0  340266.072047         53   среднее             1   \n",
       "5         0    -926.185831         27    высшее             0   \n",
       "6         0   -2879.202052         43    высшее             0   \n",
       "7         0    -152.779569         50   СРЕДНЕЕ             1   \n",
       "8         2   -6929.865299         35    ВЫСШЕЕ             0   \n",
       "9         0   -2188.756445         41   среднее             1   \n",
       "\n",
       "      family_status  family_status_id gender income_type  debt   total_income  \\\n",
       "0   женат / замужем                 0      F   сотрудник     0  253875.639453   \n",
       "1   женат / замужем                 0      F   сотрудник     0  112080.014102   \n",
       "2   женат / замужем                 0      M   сотрудник     0  145885.952297   \n",
       "3   женат / замужем                 0      M   сотрудник     0  267628.550329   \n",
       "4  гражданский брак                 1      F   пенсионер     0  158616.077870   \n",
       "5  гражданский брак                 1      M   компаньон     0  255763.565419   \n",
       "6   женат / замужем                 0      F   компаньон     0  240525.971920   \n",
       "7   женат / замужем                 0      M   сотрудник     0  135823.934197   \n",
       "8  гражданский брак                 1      F   сотрудник     0   95856.832424   \n",
       "9   женат / замужем                 0      M   сотрудник     0  144425.938277   \n",
       "\n",
       "                      purpose  \n",
       "0               покупка жилья  \n",
       "1     приобретение автомобиля  \n",
       "2               покупка жилья  \n",
       "3  дополнительное образование  \n",
       "4             сыграть свадьбу  \n",
       "5               покупка жилья  \n",
       "6           операции с жильем  \n",
       "7                 образование  \n",
       "8       на проведение свадьбы  \n",
       "9     покупка жилья для семьи  "
      ]
     },
     "metadata": {},
     "output_type": "display_data"
    }
   ],
   "source": [
    "display (df.head(10))"
   ]
  },
  {
   "cell_type": "markdown",
   "id": "556aac90",
   "metadata": {},
   "source": [
    "<div style=\"border:solid blue 2px; padding: 20px\">\n",
    "    \n",
    "**Обзор первых 10 строк** показал:\n",
    "- наличие отрицательных значений в столбце days_employed\n",
    "- данные об общем трудовом стаже и ежемесячном доходе представлены в виде дробных значений (float)\n",
    "- наличие букв верхнего и нижнего регистра в ячейках (среднее - СРЕДНЕЕ)"
   ]
  },
  {
   "cell_type": "markdown",
   "id": "5287733c",
   "metadata": {},
   "source": [
    "### Пропущенные значения"
   ]
  },
  {
   "cell_type": "code",
   "execution_count": 10,
   "id": "a57b9379",
   "metadata": {
    "scrolled": true
   },
   "outputs": [
    {
     "data": {
      "text/plain": [
       "children               0\n",
       "days_employed       2174\n",
       "dob_years              0\n",
       "education              0\n",
       "education_id           0\n",
       "family_status          0\n",
       "family_status_id       0\n",
       "gender                 0\n",
       "income_type            0\n",
       "debt                   0\n",
       "total_income        2174\n",
       "purpose                0\n",
       "dtype: int64"
      ]
     },
     "execution_count": 10,
     "metadata": {},
     "output_type": "execute_result"
    }
   ],
   "source": [
    "df.isna().sum()"
   ]
  },
  {
   "cell_type": "markdown",
   "id": "206a07b6",
   "metadata": {},
   "source": [
    "<div style=\"border:solid blue 2px; padding: 20px\">\n",
    "    \n",
    "**Поиск пропущенных значений** показал:\n",
    "- наличие пропущенных значений в столбце days_employed\n",
    "- наличие пропущенных значений в столбце total_income"
   ]
  },
  {
   "cell_type": "code",
   "execution_count": 11,
   "id": "827ce9e0",
   "metadata": {},
   "outputs": [
    {
     "data": {
      "text/plain": [
       "0"
      ]
     },
     "execution_count": 11,
     "metadata": {},
     "output_type": "execute_result"
    }
   ],
   "source": [
    "df[df['days_employed'].isna() != True]['total_income'].isna().sum()"
   ]
  },
  {
   "cell_type": "markdown",
   "id": "41747707",
   "metadata": {},
   "source": [
    "<div style=\"border:solid blue 2px; padding: 20px\">\n",
    "    \n",
    "    Пропущенные значения в столце days_employed соответствуют пропущенным значениям в столбце total_income, что соотносится с действительностью, так как при отсутствии трудового стажа (отсутствие данных в days_employed) так же отсутствует ежемесячный доход (отсутствие данных в total_income)\n",
    "    \n",
    "    При этом возможно в исходном файле отсутствуют данные по социальным выплатам или иным доходам, не связанным с трудовой деятельностью, например:\n",
    "    - доход от использования принадлежащего владельцу имущества (например арендные платежи)\n",
    "    - дивиденды\n",
    "    - иное"
   ]
  },
  {
   "cell_type": "markdown",
   "id": "573ffb79",
   "metadata": {},
   "source": [
    "### Уникальные значения в столбцах"
   ]
  },
  {
   "cell_type": "code",
   "execution_count": 12,
   "id": "11cffb86",
   "metadata": {
    "scrolled": false
   },
   "outputs": [
    {
     "data": {
      "text/plain": [
       "children                8\n",
       "days_employed       19351\n",
       "dob_years              58\n",
       "education              15\n",
       "education_id            5\n",
       "family_status           5\n",
       "family_status_id        5\n",
       "gender                  3\n",
       "income_type             8\n",
       "debt                    2\n",
       "total_income        19351\n",
       "purpose                38\n",
       "dtype: int64"
      ]
     },
     "execution_count": 12,
     "metadata": {},
     "output_type": "execute_result"
    }
   ],
   "source": [
    "df.nunique()"
   ]
  },
  {
   "cell_type": "markdown",
   "id": "7b9ebacc",
   "metadata": {},
   "source": [
    "проведем предварительный осмотр некоторых категориальных переменных (значение в столбце debt нас пока не интересует ввиду того что оно принимает всего два значения, как и значения в столбце family_status_id, поскольку количество уникальных значений в нем соответсвует количеству уникальных значений в столбце family_status)"
   ]
  },
  {
   "cell_type": "code",
   "execution_count": 13,
   "id": "1838e6ee",
   "metadata": {
    "scrolled": true
   },
   "outputs": [
    {
     "name": "stdout",
     "output_type": "stream",
     "text": [
      "среднее                13750\n",
      "высшее                  4718\n",
      "СРЕДНЕЕ                  772\n",
      "Среднее                  711\n",
      "неоконченное высшее      668\n",
      "ВЫСШЕЕ                   274\n",
      "Высшее                   268\n",
      "начальное                250\n",
      "Неоконченное высшее       47\n",
      "НЕОКОНЧЕННОЕ ВЫСШЕЕ       29\n",
      "НАЧАЛЬНОЕ                 17\n",
      "Начальное                 15\n",
      "ученая степень             4\n",
      "Ученая степень             1\n",
      "УЧЕНАЯ СТЕПЕНЬ             1\n",
      "Name: education, dtype: int64 \n",
      "\n",
      "женат / замужем          12380\n",
      "гражданский брак          4177\n",
      "Не женат / не замужем     2813\n",
      "в разводе                 1195\n",
      "вдовец / вдова             960\n",
      "Name: family_status, dtype: int64 \n",
      "\n",
      "F      14236\n",
      "M       7288\n",
      "XNA        1\n",
      "Name: gender, dtype: int64 \n",
      "\n",
      "сотрудник          11119\n",
      "компаньон           5085\n",
      "пенсионер           3856\n",
      "госслужащий         1459\n",
      "предприниматель        2\n",
      "безработный            2\n",
      "в декрете              1\n",
      "студент                1\n",
      "Name: income_type, dtype: int64 \n",
      "\n",
      "свадьба                                   797\n",
      "на проведение свадьбы                     777\n",
      "сыграть свадьбу                           774\n",
      "операции с недвижимостью                  676\n",
      "покупка коммерческой недвижимости         664\n",
      "операции с жильем                         653\n",
      "покупка жилья для сдачи                   653\n",
      "операции с коммерческой недвижимостью     651\n",
      "покупка жилья                             647\n",
      "жилье                                     647\n",
      "покупка жилья для семьи                   641\n",
      "строительство собственной недвижимости    635\n",
      "недвижимость                              634\n",
      "операции со своей недвижимостью           630\n",
      "строительство жилой недвижимости          626\n",
      "покупка недвижимости                      624\n",
      "покупка своего жилья                      620\n",
      "строительство недвижимости                620\n",
      "ремонт жилью                              612\n",
      "покупка жилой недвижимости                607\n",
      "на покупку своего автомобиля              505\n",
      "заняться высшим образованием              496\n",
      "автомобиль                                495\n",
      "сделка с подержанным автомобилем          489\n",
      "свой автомобиль                           480\n",
      "на покупку подержанного автомобиля        479\n",
      "автомобили                                478\n",
      "на покупку автомобиля                     472\n",
      "дополнительное образование                462\n",
      "приобретение автомобиля                   462\n",
      "сделка с автомобилем                      455\n",
      "высшее образование                        453\n",
      "получение дополнительного образования     447\n",
      "образование                               447\n",
      "получение образования                     443\n",
      "профильное образование                    436\n",
      "получение высшего образования             426\n",
      "заняться образованием                     412\n",
      "Name: purpose, dtype: int64 \n",
      "\n",
      "1    15233\n",
      "0     5260\n",
      "2      744\n",
      "3      282\n",
      "4        6\n",
      "Name: education_id, dtype: int64 \n",
      "\n"
     ]
    }
   ],
   "source": [
    "for _ in df.columns[df.dtypes == object]: #цикл проходит по всем столбцам с типом object\n",
    "    print (df[_].value_counts(), '\\n')\n",
    "print (df['education_id'].value_counts(), '\\n') #выводим на экран интересующий нас столбец, не вошедший в цикл из-за другого типа данных"
   ]
  },
  {
   "cell_type": "code",
   "execution_count": 14,
   "id": "5a4b7351",
   "metadata": {},
   "outputs": [
    {
     "data": {
      "text/plain": [
       " 0     14149\n",
       " 1      4818\n",
       " 2      2055\n",
       " 3       330\n",
       " 20       76\n",
       "-1        47\n",
       " 4        41\n",
       " 5         9\n",
       "Name: children, dtype: int64"
      ]
     },
     "execution_count": 14,
     "metadata": {},
     "output_type": "execute_result"
    }
   ],
   "source": [
    "df['children'].value_counts()"
   ]
  },
  {
   "cell_type": "code",
   "execution_count": 15,
   "id": "571d1923",
   "metadata": {},
   "outputs": [
    {
     "name": "stdout",
     "output_type": "stream",
     "text": [
      "0\n",
      "75\n"
     ]
    }
   ],
   "source": [
    "print (df['dob_years'].min())\n",
    "print (df['dob_years'].max())"
   ]
  },
  {
   "cell_type": "code",
   "execution_count": null,
   "id": "059ec85f",
   "metadata": {},
   "outputs": [],
   "source": []
  },
  {
   "cell_type": "markdown",
   "id": "89a96a0a",
   "metadata": {},
   "source": [
    "<div style=\"border:solid blue 2px; padding: 20px\">\n",
    "    \n",
    "**Обзор уникальных значений** в столбцах показал необходимость их обработки, так:\n",
    "- в столбце education имеются одни и те же наименования с буквами в различных регистрах\n",
    "- в столбце family_status имеются не единообразные значения (из-за букв верхнего и нижнего регистров)\n",
    "- в столбце gender имеется пропуск данных\n",
    "- в столбце purpose имеются различные наименования одних и тех же операций (целей кредитования)\n",
    "- количество уникальных значений в столбце education_id не соотносится с количеством уникальных значений в столбце education\n",
    "- имеются отрицательные значения в столбце children\n",
    "- в столбце children имеются подозрительно высокие значения (20) \n",
    "- в столбце dob_years имеются нулевые значения"
   ]
  },
  {
   "cell_type": "markdown",
   "id": "4ecf4b4c",
   "metadata": {},
   "source": [
    "### Дубликаты"
   ]
  },
  {
   "cell_type": "code",
   "execution_count": 16,
   "id": "9d362a54",
   "metadata": {
    "scrolled": true
   },
   "outputs": [
    {
     "data": {
      "text/plain": [
       "54"
      ]
     },
     "execution_count": 16,
     "metadata": {},
     "output_type": "execute_result"
    }
   ],
   "source": [
    "df.duplicated().sum()"
   ]
  },
  {
   "cell_type": "markdown",
   "id": "7965b8f3",
   "metadata": {},
   "source": [
    "<div style=\"border:solid blue 2px; padding: 20px\">\n",
    "    \n",
    "Обзор покзал наличие дубликатов \n",
    "\n",
    "В полученных данных отсутствует переменная однозначно идентифицирующая заемщика, что на первый взгляд не позволяет считать данные строки дубликатами.\n",
    "    \n",
    "**Однако особенность заполнения столбцов days_employed и total_income, заключающаяся в том что в них данные переданы с точностью до 6 знака после запятой позволяет сделать обоснованное предположение, о том что речь идет об одних и тех же заемщиках и как следствие о том что данные строки являются дубликатами.**"
   ]
  },
  {
   "cell_type": "markdown",
   "id": "c577e4ae",
   "metadata": {},
   "source": [
    "### Заключение"
   ]
  },
  {
   "cell_type": "markdown",
   "id": "6e4a006e",
   "metadata": {},
   "source": [
    "Обзор данных показал их предварительную пригодность для проведения исследования.\n",
    "\n",
    "Вместе с тем, для проведения исследования требуется предобработка содержащихся в файле данных в том числе:\n",
    "- устранение отрицательных значений\n",
    "- устранение пропусков в данных\n",
    "- устранение дубликатов\n",
    "- приведение дробных значений к целым"
   ]
  },
  {
   "cell_type": "markdown",
   "id": "20d8b6b3",
   "metadata": {},
   "source": [
    "## Предобработка данных"
   ]
  },
  {
   "cell_type": "markdown",
   "id": "2b1d17f3",
   "metadata": {},
   "source": [
    "### Отрицательные значения"
   ]
  },
  {
   "cell_type": "markdown",
   "id": "8e970050",
   "metadata": {},
   "source": [
    "В рамках обзора данных обнаружены отрицательные значения в столбце days_employed, по скольку трудовой стаж не может быть отрицательным, устраним их до заполнения пропущенных значений\n",
    "\n",
    "(поскольку они могут повлиять на корректность расчетов при заполнении пропусков, как при вычислении средних значений, так и при вычислении медианных (особенно при наличии как положительных так и отрицательных значений в рамках одной группы))"
   ]
  },
  {
   "cell_type": "markdown",
   "id": "fc323c88",
   "metadata": {},
   "source": [
    "количество отрицательных значений в days_employed (с группировкой по типу занятости):"
   ]
  },
  {
   "cell_type": "code",
   "execution_count": 17,
   "id": "8fdffcd5",
   "metadata": {},
   "outputs": [
    {
     "data": {
      "text/plain": [
       "income_type\n",
       "в декрете              1\n",
       "госслужащий         1312\n",
       "компаньон           4577\n",
       "предприниматель        1\n",
       "сотрудник          10014\n",
       "студент                1\n",
       "Name: income_type, dtype: int64"
      ]
     },
     "execution_count": 17,
     "metadata": {},
     "output_type": "execute_result"
    }
   ],
   "source": [
    "df[df['days_employed'] < 0].groupby('income_type')['income_type'].count()"
   ]
  },
  {
   "cell_type": "markdown",
   "id": "b9c83c8e",
   "metadata": {},
   "source": [
    "количество положительных значений в days_employed (с группировкой по типу занятости):"
   ]
  },
  {
   "cell_type": "code",
   "execution_count": 18,
   "id": "911c6af9",
   "metadata": {},
   "outputs": [
    {
     "data": {
      "text/plain": [
       "income_type\n",
       "безработный       2\n",
       "пенсионер      3443\n",
       "Name: income_type, dtype: int64"
      ]
     },
     "execution_count": 18,
     "metadata": {},
     "output_type": "execute_result"
    }
   ],
   "source": [
    "df[df['days_employed'] > 0].groupby('income_type')['income_type'].count()"
   ]
  },
  {
   "cell_type": "markdown",
   "id": "aeed7f33",
   "metadata": {},
   "source": [
    "<div style=\"border:solid blue 2px; padding: 20px\">\n",
    "    \n",
    "в группах в которых присутствуют отрицательные значения в столбце days_employed отсутствуют положительные значения в данном столбце, что позволяет предположить что данные корректны, но взяты с обратным знаком"
   ]
  },
  {
   "cell_type": "markdown",
   "id": "afc28160",
   "metadata": {},
   "source": [
    "Рассчитаем медианные значения для отрицательных значений в рамках групп:"
   ]
  },
  {
   "cell_type": "code",
   "execution_count": 19,
   "id": "94e44086",
   "metadata": {},
   "outputs": [
    {
     "name": "stdout",
     "output_type": "stream",
     "text": [
      "медианное значение для группы сотрудник -  -1574.2028211070851\n",
      "медианное значение для группы компаньон -  -1547.3822226779334\n",
      "медианное значение для группы госслужащий -  -2689.3683533043886\n",
      "медианное значение для группы студент -  -578.7515535382181\n",
      "медианное значение для группы предприниматель -  -520.8480834953765\n",
      "медианное значение для группы в декрете -  -3296.7599620220594\n"
     ]
    }
   ],
   "source": [
    "for _ in df[df['days_employed'] < 0]['income_type'].unique(): #переменная _ проходит по наименованиям групп, где есть отрицательные значения в столбце days_employed\n",
    "    print (f'медианное значение для группы {_} - ', \n",
    "           df.loc[(df['income_type'] == _)]['days_employed']\n",
    "           .median())\n",
    "    # при расчете не учитывали строки с отсутствующими значениями, так как имеются признаки того что отсутствия значений вызвано потерей данных (этот вопрос рассмотрен ниже)\n",
    "    "
   ]
  },
  {
   "cell_type": "markdown",
   "id": "fe9ee079",
   "metadata": {},
   "source": [
    "  \n",
    "для дальнейшей работы с данными примем все значения в столбце days_employed как положительные"
   ]
  },
  {
   "cell_type": "code",
   "execution_count": 20,
   "id": "98dda2ac",
   "metadata": {},
   "outputs": [
    {
     "data": {
      "text/plain": [
       "children            0\n",
       "days_employed       0\n",
       "dob_years           0\n",
       "education           0\n",
       "education_id        0\n",
       "family_status       0\n",
       "family_status_id    0\n",
       "gender              0\n",
       "income_type         0\n",
       "debt                0\n",
       "total_income        0\n",
       "purpose             0\n",
       "dtype: int64"
      ]
     },
     "execution_count": 20,
     "metadata": {},
     "output_type": "execute_result"
    }
   ],
   "source": [
    "df['days_employed'] = df['days_employed'].apply(abs) #заменяем все значения в столбце days_employed на их модули\n",
    "\n",
    "df[df['days_employed'] < 0].count() #проверка замены отрицательных значений положительными\n"
   ]
  },
  {
   "cell_type": "markdown",
   "id": "4946b0d3",
   "metadata": {},
   "source": [
    "убедимся в том что медианные значения изменились только в части знака"
   ]
  },
  {
   "cell_type": "code",
   "execution_count": 21,
   "id": "50c974cb",
   "metadata": {},
   "outputs": [
    {
     "name": "stdout",
     "output_type": "stream",
     "text": [
      "медианное значение для группы заемщиков  сотрудник -  1574.2028211070851\n",
      "медианное значение для группы заемщиков  пенсионер -  365213.30626573117\n",
      "медианное значение для группы заемщиков  компаньон -  1547.3822226779334\n",
      "медианное значение для группы заемщиков  госслужащий -  2689.3683533043886\n",
      "медианное значение для группы заемщиков  безработный -  366413.65274420456\n",
      "медианное значение для группы заемщиков  предприниматель -  520.8480834953765\n",
      "медианное значение для группы заемщиков  студент -  578.7515535382181\n",
      "медианное значение для группы заемщиков  в декрете -  3296.7599620220594\n"
     ]
    }
   ],
   "source": [
    "for _ in df['income_type'].unique(): #переменная _ проходит по наименованиям групп\n",
    "    print (f'медианное значение для группы заемщиков  {_} - ', \n",
    "           df.loc[(df['income_type'] == _) & (df['days_employed'] > 0)]['days_employed']\n",
    "           .median())\n",
    "   "
   ]
  },
  {
   "cell_type": "markdown",
   "id": "b5ec7d3e",
   "metadata": {},
   "source": [
    "аналогичным образом устраняем отрицательные значения в столбце children на основании предположени о том что данные корректны, но взяты с обратным знаком"
   ]
  },
  {
   "cell_type": "code",
   "execution_count": 22,
   "id": "e198f58a",
   "metadata": {},
   "outputs": [
    {
     "data": {
      "text/plain": [
       "0"
      ]
     },
     "execution_count": 22,
     "metadata": {},
     "output_type": "execute_result"
    }
   ],
   "source": [
    "df['children'] = df['children'].apply(abs) #заменяем все значения в столбце days_employed на их модули\n",
    "\n",
    "df[df['children'] < 0]['children'].count() #проверка замены отрицательных значений положительными"
   ]
  },
  {
   "cell_type": "markdown",
   "id": "ecebc2ec",
   "metadata": {},
   "source": [
    "<div style=\"border:solid blue 2px; padding: 20px\">\n",
    "    \n",
    "проблема отрицательных значений в столбцах days_employed и children устранена"
   ]
  },
  {
   "cell_type": "markdown",
   "id": "1e63f8a3",
   "metadata": {},
   "source": [
    "### Пропуски значений"
   ]
  },
  {
   "cell_type": "markdown",
   "id": "9f871323",
   "metadata": {},
   "source": [
    "В рамках обзора данных обнаружены пропуски значений в столбцах:\n",
    "- days_employed\n",
    "- total_income\n",
    "\n",
    "Так же выявлено то, что пропуски в данных столбцах взаимосвязаны (пропуск в столбце days_employed соответствует пропуску в столбце total_income)\n",
    "\n",
    "Оценим потенциальную степень влияния этих данных на результаты исследования"
   ]
  },
  {
   "cell_type": "markdown",
   "id": "1d9e176f",
   "metadata": {},
   "source": [
    "процент пустых значений от обего числа строк"
   ]
  },
  {
   "cell_type": "code",
   "execution_count": 23,
   "id": "dad1c6d3",
   "metadata": {},
   "outputs": [
    {
     "name": "stdout",
     "output_type": "stream",
     "text": [
      "10.1 %\n"
     ]
    }
   ],
   "source": [
    "print (round(df['days_employed'].isna().sum()*100/df.shape[0], 1), '%')"
   ]
  },
  {
   "cell_type": "markdown",
   "id": "8b2235ce",
   "metadata": {},
   "source": [
    "<div style=\"border:solid blue 2px; padding: 20px\">\n",
    "    \n",
    "не корректный ввод 10% значений способен существенно повлиять на конечные результаты исследования"
   ]
  },
  {
   "cell_type": "markdown",
   "id": "5440c8db",
   "metadata": {},
   "source": [
    "проверим данные строки "
   ]
  },
  {
   "cell_type": "code",
   "execution_count": 24,
   "id": "23038f74",
   "metadata": {},
   "outputs": [
    {
     "data": {
      "text/html": [
       "<div>\n",
       "<style scoped>\n",
       "    .dataframe tbody tr th:only-of-type {\n",
       "        vertical-align: middle;\n",
       "    }\n",
       "\n",
       "    .dataframe tbody tr th {\n",
       "        vertical-align: top;\n",
       "    }\n",
       "\n",
       "    .dataframe thead th {\n",
       "        text-align: right;\n",
       "    }\n",
       "</style>\n",
       "<table border=\"1\" class=\"dataframe\">\n",
       "  <thead>\n",
       "    <tr style=\"text-align: right;\">\n",
       "      <th></th>\n",
       "      <th>children</th>\n",
       "      <th>days_employed</th>\n",
       "      <th>dob_years</th>\n",
       "      <th>education</th>\n",
       "      <th>education_id</th>\n",
       "      <th>family_status</th>\n",
       "      <th>family_status_id</th>\n",
       "      <th>gender</th>\n",
       "      <th>income_type</th>\n",
       "      <th>debt</th>\n",
       "      <th>total_income</th>\n",
       "      <th>purpose</th>\n",
       "    </tr>\n",
       "  </thead>\n",
       "  <tbody>\n",
       "    <tr>\n",
       "      <td>12</td>\n",
       "      <td>0</td>\n",
       "      <td>NaN</td>\n",
       "      <td>65</td>\n",
       "      <td>среднее</td>\n",
       "      <td>1</td>\n",
       "      <td>гражданский брак</td>\n",
       "      <td>1</td>\n",
       "      <td>M</td>\n",
       "      <td>пенсионер</td>\n",
       "      <td>0</td>\n",
       "      <td>NaN</td>\n",
       "      <td>сыграть свадьбу</td>\n",
       "    </tr>\n",
       "    <tr>\n",
       "      <td>26</td>\n",
       "      <td>0</td>\n",
       "      <td>NaN</td>\n",
       "      <td>41</td>\n",
       "      <td>среднее</td>\n",
       "      <td>1</td>\n",
       "      <td>женат / замужем</td>\n",
       "      <td>0</td>\n",
       "      <td>M</td>\n",
       "      <td>госслужащий</td>\n",
       "      <td>0</td>\n",
       "      <td>NaN</td>\n",
       "      <td>образование</td>\n",
       "    </tr>\n",
       "    <tr>\n",
       "      <td>29</td>\n",
       "      <td>0</td>\n",
       "      <td>NaN</td>\n",
       "      <td>63</td>\n",
       "      <td>среднее</td>\n",
       "      <td>1</td>\n",
       "      <td>Не женат / не замужем</td>\n",
       "      <td>4</td>\n",
       "      <td>F</td>\n",
       "      <td>пенсионер</td>\n",
       "      <td>0</td>\n",
       "      <td>NaN</td>\n",
       "      <td>строительство жилой недвижимости</td>\n",
       "    </tr>\n",
       "    <tr>\n",
       "      <td>41</td>\n",
       "      <td>0</td>\n",
       "      <td>NaN</td>\n",
       "      <td>50</td>\n",
       "      <td>среднее</td>\n",
       "      <td>1</td>\n",
       "      <td>женат / замужем</td>\n",
       "      <td>0</td>\n",
       "      <td>F</td>\n",
       "      <td>госслужащий</td>\n",
       "      <td>0</td>\n",
       "      <td>NaN</td>\n",
       "      <td>сделка с подержанным автомобилем</td>\n",
       "    </tr>\n",
       "    <tr>\n",
       "      <td>55</td>\n",
       "      <td>0</td>\n",
       "      <td>NaN</td>\n",
       "      <td>54</td>\n",
       "      <td>среднее</td>\n",
       "      <td>1</td>\n",
       "      <td>гражданский брак</td>\n",
       "      <td>1</td>\n",
       "      <td>F</td>\n",
       "      <td>пенсионер</td>\n",
       "      <td>1</td>\n",
       "      <td>NaN</td>\n",
       "      <td>сыграть свадьбу</td>\n",
       "    </tr>\n",
       "    <tr>\n",
       "      <td>65</td>\n",
       "      <td>0</td>\n",
       "      <td>NaN</td>\n",
       "      <td>21</td>\n",
       "      <td>среднее</td>\n",
       "      <td>1</td>\n",
       "      <td>Не женат / не замужем</td>\n",
       "      <td>4</td>\n",
       "      <td>M</td>\n",
       "      <td>компаньон</td>\n",
       "      <td>0</td>\n",
       "      <td>NaN</td>\n",
       "      <td>операции с коммерческой недвижимостью</td>\n",
       "    </tr>\n",
       "    <tr>\n",
       "      <td>67</td>\n",
       "      <td>0</td>\n",
       "      <td>NaN</td>\n",
       "      <td>52</td>\n",
       "      <td>высшее</td>\n",
       "      <td>0</td>\n",
       "      <td>женат / замужем</td>\n",
       "      <td>0</td>\n",
       "      <td>F</td>\n",
       "      <td>пенсионер</td>\n",
       "      <td>0</td>\n",
       "      <td>NaN</td>\n",
       "      <td>покупка жилья для семьи</td>\n",
       "    </tr>\n",
       "    <tr>\n",
       "      <td>72</td>\n",
       "      <td>1</td>\n",
       "      <td>NaN</td>\n",
       "      <td>32</td>\n",
       "      <td>высшее</td>\n",
       "      <td>0</td>\n",
       "      <td>женат / замужем</td>\n",
       "      <td>0</td>\n",
       "      <td>M</td>\n",
       "      <td>госслужащий</td>\n",
       "      <td>0</td>\n",
       "      <td>NaN</td>\n",
       "      <td>операции с коммерческой недвижимостью</td>\n",
       "    </tr>\n",
       "    <tr>\n",
       "      <td>82</td>\n",
       "      <td>2</td>\n",
       "      <td>NaN</td>\n",
       "      <td>50</td>\n",
       "      <td>высшее</td>\n",
       "      <td>0</td>\n",
       "      <td>женат / замужем</td>\n",
       "      <td>0</td>\n",
       "      <td>F</td>\n",
       "      <td>сотрудник</td>\n",
       "      <td>0</td>\n",
       "      <td>NaN</td>\n",
       "      <td>жилье</td>\n",
       "    </tr>\n",
       "    <tr>\n",
       "      <td>83</td>\n",
       "      <td>0</td>\n",
       "      <td>NaN</td>\n",
       "      <td>52</td>\n",
       "      <td>среднее</td>\n",
       "      <td>1</td>\n",
       "      <td>женат / замужем</td>\n",
       "      <td>0</td>\n",
       "      <td>M</td>\n",
       "      <td>сотрудник</td>\n",
       "      <td>0</td>\n",
       "      <td>NaN</td>\n",
       "      <td>жилье</td>\n",
       "    </tr>\n",
       "  </tbody>\n",
       "</table>\n",
       "</div>"
      ],
      "text/plain": [
       "    children  days_employed  dob_years education  education_id  \\\n",
       "12         0            NaN         65   среднее             1   \n",
       "26         0            NaN         41   среднее             1   \n",
       "29         0            NaN         63   среднее             1   \n",
       "41         0            NaN         50   среднее             1   \n",
       "55         0            NaN         54   среднее             1   \n",
       "65         0            NaN         21   среднее             1   \n",
       "67         0            NaN         52    высшее             0   \n",
       "72         1            NaN         32    высшее             0   \n",
       "82         2            NaN         50    высшее             0   \n",
       "83         0            NaN         52   среднее             1   \n",
       "\n",
       "            family_status  family_status_id gender  income_type  debt  \\\n",
       "12       гражданский брак                 1      M    пенсионер     0   \n",
       "26        женат / замужем                 0      M  госслужащий     0   \n",
       "29  Не женат / не замужем                 4      F    пенсионер     0   \n",
       "41        женат / замужем                 0      F  госслужащий     0   \n",
       "55       гражданский брак                 1      F    пенсионер     1   \n",
       "65  Не женат / не замужем                 4      M    компаньон     0   \n",
       "67        женат / замужем                 0      F    пенсионер     0   \n",
       "72        женат / замужем                 0      M  госслужащий     0   \n",
       "82        женат / замужем                 0      F    сотрудник     0   \n",
       "83        женат / замужем                 0      M    сотрудник     0   \n",
       "\n",
       "    total_income                                purpose  \n",
       "12           NaN                        сыграть свадьбу  \n",
       "26           NaN                            образование  \n",
       "29           NaN       строительство жилой недвижимости  \n",
       "41           NaN       сделка с подержанным автомобилем  \n",
       "55           NaN                        сыграть свадьбу  \n",
       "65           NaN  операции с коммерческой недвижимостью  \n",
       "67           NaN                покупка жилья для семьи  \n",
       "72           NaN  операции с коммерческой недвижимостью  \n",
       "82           NaN                                  жилье  \n",
       "83           NaN                                  жилье  "
      ]
     },
     "metadata": {},
     "output_type": "display_data"
    }
   ],
   "source": [
    "display (df[df['days_employed'].isna() == True].head(10)) #используем метод .head для оптимизации вычислительных ресурсов"
   ]
  },
  {
   "cell_type": "markdown",
   "id": "502b9fd6",
   "metadata": {},
   "source": [
    "типы занятости в данных строках:"
   ]
  },
  {
   "cell_type": "code",
   "execution_count": 25,
   "id": "7f7628a5",
   "metadata": {},
   "outputs": [
    {
     "data": {
      "text/plain": [
       "array(['пенсионер', 'госслужащий', 'компаньон', 'сотрудник',\n",
       "       'предприниматель'], dtype=object)"
      ]
     },
     "execution_count": 25,
     "metadata": {},
     "output_type": "execute_result"
    }
   ],
   "source": [
    "df[df['days_employed'].isna() == True]['income_type'].unique()"
   ]
  },
  {
   "cell_type": "markdown",
   "id": "d74a456b",
   "metadata": {},
   "source": [
    "видно что типы занятости не однородны, а учитывая что пропуски в столбцах total_income и days_employed совпадают, можно предположить что речь идет о потери части данных или их не предоставлении (госсужащий или пенсионер не может иметь нулевой доход, так же госслужащий не может не иметь трудовой стаж)"
   ]
  },
  {
   "cell_type": "markdown",
   "id": "0069317c",
   "metadata": {},
   "source": [
    "для определния возможности заполнения пропущенных значений медианными значениями посчитаем долю пропущенных значений по категориям "
   ]
  },
  {
   "cell_type": "code",
   "execution_count": 26,
   "id": "f53ebb28",
   "metadata": {},
   "outputs": [
    {
     "name": "stdout",
     "output_type": "stream",
     "text": [
      "доля имеющих статус \"пенсионер\" с пропущенными данными - 10.7 %, кол-во строк - 3856, количество пропусков - 413\n",
      "доля имеющих статус \"госслужащий\" с пропущенными данными - 10.1 %, кол-во строк - 1459, количество пропусков - 147\n",
      "доля имеющих статус \"компаньон\" с пропущенными данными - 10.0 %, кол-во строк - 5085, количество пропусков - 508\n",
      "доля имеющих статус \"сотрудник\" с пропущенными данными - 9.9 %, кол-во строк - 11119, количество пропусков - 1105\n",
      "доля имеющих статус \"предприниматель\" с пропущенными данными - 50.0 %, кол-во строк - 2, количество пропусков - 1\n"
     ]
    }
   ],
   "source": [
    "for _ in df[df['days_employed'].isna() == True]['income_type'].unique(): #переменная _ проходит по наименованиям групп, где есть пропуски данных\n",
    "    i = round(\n",
    "        df.loc[(df['days_employed'].isna() == True) & (df['income_type'] == _)]['income_type'].count() #количество строк группы с пропущенными значениями \n",
    "              *100/\n",
    "           df[df['income_type'] == _]['income_type'].count(), #общее количество строк данной группы\n",
    "              1)\n",
    "    ii = df[df['income_type'] == _]['income_type'].count() #количество представителей группы\n",
    "    iii = df[(df['income_type'] == _) & (df['days_employed'].isna() == True)]['income_type'].count() #количество пропусков в рамках группы\n",
    "    print (f'доля имеющих статус \"{_}\" с пропущенными данными - {i} %, кол-во строк - {ii}, количество пропусков - {iii}')\n",
    "\n"
   ]
  },
  {
   "cell_type": "code",
   "execution_count": 27,
   "id": "e852a6e7",
   "metadata": {},
   "outputs": [
    {
     "name": "stdout",
     "output_type": "stream",
     "text": [
      "income_type\n",
      "госслужащий         147\n",
      "компаньон           508\n",
      "пенсионер           413\n",
      "предприниматель       1\n",
      "сотрудник          1105\n",
      "Name: income_type, dtype: int64\n",
      "income_type\n",
      "госслужащий         147\n",
      "компаньон           508\n",
      "пенсионер           413\n",
      "предприниматель       1\n",
      "сотрудник          1105\n",
      "Name: income_type, dtype: int64\n"
     ]
    }
   ],
   "source": [
    "print (df[df['days_employed'].isna() == True].groupby('income_type')['income_type'].count()) #альтернативный более компактный подсчет количества пропущеных значений\n",
    "print (df[df['total_income'].isna() == True].groupby('income_type')['income_type'].count()) #альтернативный более компактный подсчет количества пропущеных значений"
   ]
  },
  {
   "cell_type": "markdown",
   "id": "c96d338c",
   "metadata": {},
   "source": [
    "<div style=\"border:solid blue 2px; padding: 20px\">\n",
    "    \n",
    "для всех групп, кроме группы \"предприниматель\" возможно заполнить значения медианными в рамках группы заемщиков\n",
    "    \n",
    "последняя статистически не значима в рамках исследования и может быть исключена, поскольку двух значений недостаточно для проверки гипотез в рамках данной группы заемщиков\n",
    "    \n",
    "следует **обратить внимание заказчика, что данное иследование не применимо к данной группе заемщиков (предприниматель)**"
   ]
  },
  {
   "cell_type": "markdown",
   "id": "85203161",
   "metadata": {},
   "source": [
    "Заполним пропущенные значения медианными в рамках группы заемщиков"
   ]
  },
  {
   "cell_type": "code",
   "execution_count": 28,
   "id": "ecd04617",
   "metadata": {},
   "outputs": [],
   "source": [
    "for _ in df[df['days_employed'].isna() == True]['income_type'].unique(): #переменная _ проходит по наименованиям групп заемщиков, где есть пропуски данных\n",
    "    i = df.loc[df['income_type'] == _]['days_employed'].median() #расчет медианного значения трудового стажа в рамках группы заемщиков\n",
    "    ii = df.loc[df['income_type'] == _]['total_income'].median() #расчет медианного значения ежемесячного дохода в рамках группы заемщиков\n",
    "    \n",
    "    df.loc[df['income_type'] == _,'days_employed'] = df.loc[df['income_type'] == _]['days_employed'].fillna(i) #заполнение пропусков в столбце days_employed медианными значениями для данной группы заемщиков\n",
    "    \n",
    "    df.loc[df['income_type'] == _,'total_income'] = df.loc[df['income_type'] == _]['total_income'].fillna(ii) #заполнение пропусков в столбце total_income медианными значениями для данной группы заемщиков\n",
    "    \n",
    "    # расчет медианных значений вне fillna произведен в целях того чтобы сделать конструкцию менее нагруженной,\n",
    "    #так же я не уверен в механизме работы метода, расчитывается ли медианное значение один раз для группы или расчет идет для каждой ячейки (в этом случае возможно искажение данных)"
   ]
  },
  {
   "cell_type": "markdown",
   "id": "7f44934b",
   "metadata": {},
   "source": [
    "проверим то что пропуски удалены и медианные значения не изменились (медианные значения в столбце days_employed сравниваются с расчитанными ранее, сравнение для столбца total_income не проводится ввиду однотипности примененных инструментов)"
   ]
  },
  {
   "cell_type": "code",
   "execution_count": 29,
   "id": "c660e1dd",
   "metadata": {
    "scrolled": true
   },
   "outputs": [
    {
     "name": "stdout",
     "output_type": "stream",
     "text": [
      "children            0\n",
      "days_employed       0\n",
      "dob_years           0\n",
      "education           0\n",
      "education_id        0\n",
      "family_status       0\n",
      "family_status_id    0\n",
      "gender              0\n",
      "income_type         0\n",
      "debt                0\n",
      "total_income        0\n",
      "purpose             0\n",
      "dtype: int64\n",
      "медианное значение для группы сотрудник -  1574.2028211070851\n",
      "медианное значение для группы пенсионер -  365213.30626573117\n",
      "медианное значение для группы компаньон -  1547.3822226779334\n",
      "медианное значение для группы госслужащий -  2689.3683533043886\n",
      "медианное значение для группы безработный -  366413.65274420456\n",
      "медианное значение для группы предприниматель -  520.8480834953765\n",
      "медианное значение для группы студент -  578.7515535382181\n",
      "медианное значение для группы в декрете -  3296.7599620220594\n"
     ]
    }
   ],
   "source": [
    "print (df.isna().sum()) #проверяем то что пропуски удалены\n",
    "\n",
    "for _ in df['income_type'].unique(): #переменная _ проходит по наименованиям групп\n",
    "    print (f'медианное значение для группы {_} - ', \n",
    "           df.loc[(df['income_type'] == _) & (df['days_employed'] > 0)]['days_employed']\n",
    "           .median())"
   ]
  },
  {
   "cell_type": "markdown",
   "id": "4ca5f0ee",
   "metadata": {},
   "source": [
    "<div style=\"border:solid blue 2px; padding: 20px\">\n",
    "    \n",
    "Пропуски данных в столбцах days_employed и total_income устранены"
   ]
  },
  {
   "cell_type": "markdown",
   "id": "aa468894",
   "metadata": {},
   "source": [
    "Так же в ходе обзора данных обнаружены нулевые значения в столбце dob_years (что соответствует нулевому возрасту клиента) \n",
    "Сделаем обоснованное предположение о том что нулевые значения в данном столбце являются пропущенными значениями\n",
    "\n",
    "Заполним пропущенные значения медианными в рамках группы заемщиков"
   ]
  },
  {
   "cell_type": "code",
   "execution_count": 30,
   "id": "00f1cecd",
   "metadata": {},
   "outputs": [],
   "source": [
    "for _ in df[df['dob_years'] == 0]['income_type'].unique(): #переменная _ проходит по наименованиям групп заемщиков, где есть пропуски данных\n",
    "    i = df.loc[df['income_type'] == _]['dob_years'].median() #расчет медианного возраста в рамках группы заемщиков\n",
    "    df.loc[(df['income_type'] == _) & (df['dob_years'] == 0),'dob_years'] = i #заполнение пропусков в столбце dob_years медианными значениями для данной группы заемщиков\n",
    "        "
   ]
  },
  {
   "cell_type": "code",
   "execution_count": 31,
   "id": "7eb473e2",
   "metadata": {},
   "outputs": [
    {
     "data": {
      "text/plain": [
       "19.0"
      ]
     },
     "execution_count": 31,
     "metadata": {},
     "output_type": "execute_result"
    }
   ],
   "source": [
    "df['dob_years'].min() #проверка"
   ]
  },
  {
   "cell_type": "markdown",
   "id": "35008227",
   "metadata": {},
   "source": [
    "<div style=\"border:solid blue 2px; padding: 20px\">\n",
    "    \n",
    "Пропуски данных в столбце dob_years устранены"
   ]
  },
  {
   "cell_type": "markdown",
   "id": "01bf4035",
   "metadata": {},
   "source": [
    "### Аномально большие значения"
   ]
  },
  {
   "cell_type": "markdown",
   "id": "378c800e",
   "metadata": {},
   "source": [
    "Обзор данных показал наличие аномально высоких знакчений в столбце children, рассмотрим их"
   ]
  },
  {
   "cell_type": "code",
   "execution_count": 32,
   "id": "f76ca957",
   "metadata": {},
   "outputs": [
    {
     "data": {
      "text/plain": [
       "income_type\n",
       "госслужащий     2\n",
       "компаньон      22\n",
       "пенсионер       9\n",
       "сотрудник      43\n",
       "Name: children, dtype: int64"
      ]
     },
     "execution_count": 32,
     "metadata": {},
     "output_type": "execute_result"
    }
   ],
   "source": [
    "df[df['children'] ==20].groupby('income_type')['children'].count()"
   ]
  },
  {
   "cell_type": "code",
   "execution_count": 33,
   "id": "257f65b5",
   "metadata": {
    "scrolled": true
   },
   "outputs": [
    {
     "data": {
      "text/html": [
       "<div>\n",
       "<style scoped>\n",
       "    .dataframe tbody tr th:only-of-type {\n",
       "        vertical-align: middle;\n",
       "    }\n",
       "\n",
       "    .dataframe tbody tr th {\n",
       "        vertical-align: top;\n",
       "    }\n",
       "\n",
       "    .dataframe thead th {\n",
       "        text-align: right;\n",
       "    }\n",
       "</style>\n",
       "<table border=\"1\" class=\"dataframe\">\n",
       "  <thead>\n",
       "    <tr style=\"text-align: right;\">\n",
       "      <th></th>\n",
       "      <th>children</th>\n",
       "      <th>days_employed</th>\n",
       "      <th>dob_years</th>\n",
       "      <th>education</th>\n",
       "      <th>education_id</th>\n",
       "      <th>family_status</th>\n",
       "      <th>family_status_id</th>\n",
       "      <th>gender</th>\n",
       "      <th>income_type</th>\n",
       "      <th>debt</th>\n",
       "      <th>total_income</th>\n",
       "      <th>purpose</th>\n",
       "    </tr>\n",
       "  </thead>\n",
       "  <tbody>\n",
       "    <tr>\n",
       "      <td>606</td>\n",
       "      <td>20</td>\n",
       "      <td>880.221113</td>\n",
       "      <td>21.0</td>\n",
       "      <td>среднее</td>\n",
       "      <td>1</td>\n",
       "      <td>женат / замужем</td>\n",
       "      <td>0</td>\n",
       "      <td>M</td>\n",
       "      <td>компаньон</td>\n",
       "      <td>0</td>\n",
       "      <td>145334.865002</td>\n",
       "      <td>покупка жилья</td>\n",
       "    </tr>\n",
       "    <tr>\n",
       "      <td>720</td>\n",
       "      <td>20</td>\n",
       "      <td>855.595512</td>\n",
       "      <td>44.0</td>\n",
       "      <td>среднее</td>\n",
       "      <td>1</td>\n",
       "      <td>женат / замужем</td>\n",
       "      <td>0</td>\n",
       "      <td>F</td>\n",
       "      <td>компаньон</td>\n",
       "      <td>0</td>\n",
       "      <td>112998.738649</td>\n",
       "      <td>покупка недвижимости</td>\n",
       "    </tr>\n",
       "    <tr>\n",
       "      <td>1074</td>\n",
       "      <td>20</td>\n",
       "      <td>3310.411598</td>\n",
       "      <td>56.0</td>\n",
       "      <td>среднее</td>\n",
       "      <td>1</td>\n",
       "      <td>женат / замужем</td>\n",
       "      <td>0</td>\n",
       "      <td>F</td>\n",
       "      <td>сотрудник</td>\n",
       "      <td>1</td>\n",
       "      <td>229518.537004</td>\n",
       "      <td>получение образования</td>\n",
       "    </tr>\n",
       "    <tr>\n",
       "      <td>2510</td>\n",
       "      <td>20</td>\n",
       "      <td>2714.161249</td>\n",
       "      <td>59.0</td>\n",
       "      <td>высшее</td>\n",
       "      <td>0</td>\n",
       "      <td>вдовец / вдова</td>\n",
       "      <td>2</td>\n",
       "      <td>F</td>\n",
       "      <td>сотрудник</td>\n",
       "      <td>0</td>\n",
       "      <td>264474.835577</td>\n",
       "      <td>операции с коммерческой недвижимостью</td>\n",
       "    </tr>\n",
       "    <tr>\n",
       "      <td>2941</td>\n",
       "      <td>20</td>\n",
       "      <td>2161.591519</td>\n",
       "      <td>39.0</td>\n",
       "      <td>среднее</td>\n",
       "      <td>1</td>\n",
       "      <td>женат / замужем</td>\n",
       "      <td>0</td>\n",
       "      <td>F</td>\n",
       "      <td>сотрудник</td>\n",
       "      <td>0</td>\n",
       "      <td>199739.941398</td>\n",
       "      <td>на покупку автомобиля</td>\n",
       "    </tr>\n",
       "  </tbody>\n",
       "</table>\n",
       "</div>"
      ],
      "text/plain": [
       "      children  days_employed  dob_years education  education_id  \\\n",
       "606         20     880.221113       21.0   среднее             1   \n",
       "720         20     855.595512       44.0   среднее             1   \n",
       "1074        20    3310.411598       56.0   среднее             1   \n",
       "2510        20    2714.161249       59.0    высшее             0   \n",
       "2941        20    2161.591519       39.0   среднее             1   \n",
       "\n",
       "        family_status  family_status_id gender income_type  debt  \\\n",
       "606   женат / замужем                 0      M   компаньон     0   \n",
       "720   женат / замужем                 0      F   компаньон     0   \n",
       "1074  женат / замужем                 0      F   сотрудник     1   \n",
       "2510   вдовец / вдова                 2      F   сотрудник     0   \n",
       "2941  женат / замужем                 0      F   сотрудник     0   \n",
       "\n",
       "       total_income                                purpose  \n",
       "606   145334.865002                          покупка жилья  \n",
       "720   112998.738649                   покупка недвижимости  \n",
       "1074  229518.537004                  получение образования  \n",
       "2510  264474.835577  операции с коммерческой недвижимостью  \n",
       "2941  199739.941398                  на покупку автомобиля  "
      ]
     },
     "execution_count": 33,
     "metadata": {},
     "output_type": "execute_result"
    }
   ],
   "source": [
    "df[df['children'] ==20].head()"
   ]
  },
  {
   "cell_type": "markdown",
   "id": "bea6897f",
   "metadata": {},
   "source": [
    "Сделаем предположение о том что значение 20 в столбце является аномальным и связано с добавлением 0 к 2\n",
    "\n",
    "Устраним аномальные значения"
   ]
  },
  {
   "cell_type": "code",
   "execution_count": 34,
   "id": "212859ba",
   "metadata": {},
   "outputs": [
    {
     "data": {
      "text/plain": [
       "0    14149\n",
       "1     4865\n",
       "2     2131\n",
       "3      330\n",
       "4       41\n",
       "5        9\n",
       "Name: children, dtype: int64"
      ]
     },
     "execution_count": 34,
     "metadata": {},
     "output_type": "execute_result"
    }
   ],
   "source": [
    "df.loc[df['children'] ==20, 'children'] = 2 #замена аномальных значений\n",
    "\n",
    "df['children'].value_counts() #проверка"
   ]
  },
  {
   "cell_type": "markdown",
   "id": "a8a0c4d1",
   "metadata": {},
   "source": [
    "### Дубликаты"
   ]
  },
  {
   "cell_type": "markdown",
   "id": "5fa01bc5",
   "metadata": {},
   "source": [
    "#### явные дубликаты"
   ]
  },
  {
   "cell_type": "markdown",
   "id": "c727c9a3",
   "metadata": {},
   "source": [
    "Обзор данных показал наличие дубликатов"
   ]
  },
  {
   "cell_type": "code",
   "execution_count": 35,
   "id": "e9728bb3",
   "metadata": {},
   "outputs": [
    {
     "data": {
      "text/plain": [
       "0"
      ]
     },
     "execution_count": 35,
     "metadata": {},
     "output_type": "execute_result"
    }
   ],
   "source": [
    "df = df.drop_duplicates().reset_index(drop=True) #удаляем явные дубликаты\n",
    "\n",
    "df.duplicated().sum() #проверка удаления явных дубликатов"
   ]
  },
  {
   "cell_type": "markdown",
   "id": "1d4f6e77",
   "metadata": {},
   "source": [
    "<div style=\"border:solid blue 2px; padding: 20px\">\n",
    "    \n",
    "Явные дубликаты устранены"
   ]
  },
  {
   "cell_type": "markdown",
   "id": "efae0a04",
   "metadata": {},
   "source": [
    "#### неявные дубликаты"
   ]
  },
  {
   "cell_type": "markdown",
   "id": "609963a3",
   "metadata": {},
   "source": [
    "##### верхние и нижние регистры "
   ]
  },
  {
   "cell_type": "markdown",
   "id": "d44abf02",
   "metadata": {},
   "source": [
    "При обзоре данных в столбце education выявлены схожие наименования с буквами разных регистров, устраним данную проблему"
   ]
  },
  {
   "cell_type": "code",
   "execution_count": 36,
   "id": "afc09e95",
   "metadata": {},
   "outputs": [
    {
     "name": "stdout",
     "output_type": "stream",
     "text": [
      "['высшее' 'среднее' 'неоконченное высшее' 'начальное' 'ученая степень']\n",
      "['женат / замужем' 'гражданский брак' 'вдовец / вдова' 'в разводе'\n",
      " 'не женат / не замужем']\n"
     ]
    }
   ],
   "source": [
    "df['education'] = df['education'].str.lower() #переводим все значения в столбце education в нижний регистр, \n",
    "df['family_status'] = df['family_status'].str.lower()\n",
    "#метод .str.lower() применяем к одному столбцам education и family_status для оптимизации вычислительных ресурсов, \n",
    "#по скольку в других столбцах значений с верхним регистром не обнаружено\n",
    "\n",
    "print (df['education'].unique()) #проверяем корректность перевода в нижний регистр\n",
    "print (df['family_status'].unique()) #проверяем корректность перевода в нижний регистр"
   ]
  },
  {
   "cell_type": "markdown",
   "id": "50361e81",
   "metadata": {},
   "source": [
    "<div style=\"border:solid blue 2px; padding: 20px\">\n",
    "    \n",
    "Значения в столбцах education и family_status приведены в нижний регистр"
   ]
  },
  {
   "cell_type": "markdown",
   "id": "b26e948d",
   "metadata": {},
   "source": [
    "Проверим соответствие значений в столбцах education и education_id"
   ]
  },
  {
   "cell_type": "code",
   "execution_count": 37,
   "id": "3c9e478f",
   "metadata": {
    "scrolled": true
   },
   "outputs": [
    {
     "data": {
      "text/plain": [
       "True"
      ]
     },
     "execution_count": 37,
     "metadata": {},
     "output_type": "execute_result"
    }
   ],
   "source": [
    "df['education'].nunique() == df['education_id'].nunique() #сравним количество уникальных значений в столбцах"
   ]
  },
  {
   "cell_type": "code",
   "execution_count": 38,
   "id": "ac08870c",
   "metadata": {},
   "outputs": [
    {
     "name": "stdout",
     "output_type": "stream",
     "text": [
      "['высшее' 'среднее' 'неоконченное высшее' 'начальное' 'ученая степень']\n",
      "[0 1 2 3 4]\n"
     ]
    }
   ],
   "source": [
    "print (df['education'].unique())\n",
    "print (df['education_id'].unique())"
   ]
  },
  {
   "cell_type": "markdown",
   "id": "57a0bacc",
   "metadata": {},
   "source": [
    "Выясним как соотносится уровень образования и идентификатор уровня образования"
   ]
  },
  {
   "cell_type": "code",
   "execution_count": 39,
   "id": "fba0e4bb",
   "metadata": {},
   "outputs": [
    {
     "name": "stdout",
     "output_type": "stream",
     "text": [
      "уровень образования \u001b[1mвысшее \u001b[0;0m соответствует идентификатору - 0    5251\n",
      "Name: education_id, dtype: int64 \n",
      "\n",
      "уровень образования \u001b[1mсреднее \u001b[0;0m соответствует идентификатору - 1    15188\n",
      "Name: education_id, dtype: int64 \n",
      "\n",
      "уровень образования \u001b[1mнеоконченное высшее \u001b[0;0m соответствует идентификатору - 2    744\n",
      "Name: education_id, dtype: int64 \n",
      "\n",
      "уровень образования \u001b[1mначальное \u001b[0;0m соответствует идентификатору - 3    282\n",
      "Name: education_id, dtype: int64 \n",
      "\n",
      "уровень образования \u001b[1mученая степень \u001b[0;0m соответствует идентификатору - 4    6\n",
      "Name: education_id, dtype: int64 \n",
      "\n"
     ]
    }
   ],
   "source": [
    "for _ in df['education'].unique(): #цикл проходит по уникальным значениям столбца education\n",
    "    print ('уровень образования',\n",
    "           '\\033[1m' + _, '\\033[0;0m', #делаем шрифт более читаемым\n",
    "           'соответствует идентификатору -', \n",
    "           df[df['education'] == _]['education_id'] #отбираем идентификаторы уровня образования соответствующие данному уровню образования\n",
    "           .value_counts(), #считаем количество уникальных значений в столбце и их количество\n",
    "           '\\n')"
   ]
  },
  {
   "cell_type": "markdown",
   "id": "55b90c3a",
   "metadata": {},
   "source": [
    "Убедились в том что каждому типу образования соответсвует всего один идентификатор"
   ]
  },
  {
   "cell_type": "markdown",
   "id": "fb034eef",
   "metadata": {},
   "source": [
    "##### некорректные данные в столбце gender"
   ]
  },
  {
   "cell_type": "markdown",
   "id": "b36ccfbe",
   "metadata": {},
   "source": [
    "При обзоре данных выявлен \"третий\" пол \"XNA\", рассмотрим соответствующие данные"
   ]
  },
  {
   "cell_type": "code",
   "execution_count": 40,
   "id": "8262ea47",
   "metadata": {},
   "outputs": [
    {
     "data": {
      "text/html": [
       "<div>\n",
       "<style scoped>\n",
       "    .dataframe tbody tr th:only-of-type {\n",
       "        vertical-align: middle;\n",
       "    }\n",
       "\n",
       "    .dataframe tbody tr th {\n",
       "        vertical-align: top;\n",
       "    }\n",
       "\n",
       "    .dataframe thead th {\n",
       "        text-align: right;\n",
       "    }\n",
       "</style>\n",
       "<table border=\"1\" class=\"dataframe\">\n",
       "  <thead>\n",
       "    <tr style=\"text-align: right;\">\n",
       "      <th></th>\n",
       "      <th>children</th>\n",
       "      <th>days_employed</th>\n",
       "      <th>dob_years</th>\n",
       "      <th>education</th>\n",
       "      <th>education_id</th>\n",
       "      <th>family_status</th>\n",
       "      <th>family_status_id</th>\n",
       "      <th>gender</th>\n",
       "      <th>income_type</th>\n",
       "      <th>debt</th>\n",
       "      <th>total_income</th>\n",
       "      <th>purpose</th>\n",
       "    </tr>\n",
       "  </thead>\n",
       "  <tbody>\n",
       "    <tr>\n",
       "      <td>10690</td>\n",
       "      <td>0</td>\n",
       "      <td>2358.600502</td>\n",
       "      <td>24.0</td>\n",
       "      <td>неоконченное высшее</td>\n",
       "      <td>2</td>\n",
       "      <td>гражданский брак</td>\n",
       "      <td>1</td>\n",
       "      <td>XNA</td>\n",
       "      <td>компаньон</td>\n",
       "      <td>0</td>\n",
       "      <td>203905.157261</td>\n",
       "      <td>покупка недвижимости</td>\n",
       "    </tr>\n",
       "  </tbody>\n",
       "</table>\n",
       "</div>"
      ],
      "text/plain": [
       "       children  days_employed  dob_years            education  education_id  \\\n",
       "10690         0    2358.600502       24.0  неоконченное высшее             2   \n",
       "\n",
       "          family_status  family_status_id gender income_type  debt  \\\n",
       "10690  гражданский брак                 1    XNA   компаньон     0   \n",
       "\n",
       "        total_income               purpose  \n",
       "10690  203905.157261  покупка недвижимости  "
      ]
     },
     "execution_count": 40,
     "metadata": {},
     "output_type": "execute_result"
    }
   ],
   "source": [
    "df[df['gender'] == 'XNA']"
   ]
  },
  {
   "cell_type": "markdown",
   "id": "60c5d9dc",
   "metadata": {},
   "source": [
    "количество строк с некачествнными данными в столбце gender статстически не значимо, при этом значение ежемесячного дохода значительно превышает медианные значения \n",
    "\n",
    "восстановить корректное значение пола не представляется возможным по этому предлагается исключить данную строку из исследования"
   ]
  },
  {
   "cell_type": "code",
   "execution_count": 41,
   "id": "6ba7a2ac",
   "metadata": {},
   "outputs": [
    {
     "data": {
      "text/plain": [
       "array(['F', 'M'], dtype=object)"
      ]
     },
     "execution_count": 41,
     "metadata": {},
     "output_type": "execute_result"
    }
   ],
   "source": [
    "df = df[df['gender'] != 'XNA'].reset_index(drop=True) #исключаем строку с некачественными данными из общего массива данных\n",
    "# восстанавливаем последовательную индексацию\n",
    "df['gender'].unique() #проверяем корректность удаления"
   ]
  },
  {
   "cell_type": "markdown",
   "id": "39058845",
   "metadata": {},
   "source": [
    "<div style=\"border:solid blue 2px; padding: 20px\">\n",
    "    \n",
    "Из общего массива данных удалена строка с некоректным значением в столбце gender"
   ]
  },
  {
   "cell_type": "markdown",
   "id": "3f44be3f",
   "metadata": {},
   "source": [
    "Проведем проверку на количество дубликатов в данных"
   ]
  },
  {
   "cell_type": "code",
   "execution_count": 42,
   "id": "c8252fcd",
   "metadata": {},
   "outputs": [
    {
     "data": {
      "text/plain": [
       "17"
      ]
     },
     "execution_count": 42,
     "metadata": {},
     "output_type": "execute_result"
    }
   ],
   "source": [
    "df.duplicated().sum()"
   ]
  },
  {
   "cell_type": "markdown",
   "id": "184e5736",
   "metadata": {},
   "source": [
    "##### цели получения кредита"
   ]
  },
  {
   "cell_type": "markdown",
   "id": "b6ec836b",
   "metadata": {},
   "source": [
    "При обзоре данных выявлено различное наименование одних и тех же целей получения кредита"
   ]
  },
  {
   "cell_type": "code",
   "execution_count": 43,
   "id": "f2382659",
   "metadata": {},
   "outputs": [
    {
     "data": {
      "text/plain": [
       "array(['покупка жилья', 'приобретение автомобиля',\n",
       "       'дополнительное образование', 'сыграть свадьбу',\n",
       "       'операции с жильем', 'образование', 'на проведение свадьбы',\n",
       "       'покупка жилья для семьи', 'покупка недвижимости',\n",
       "       'покупка коммерческой недвижимости', 'покупка жилой недвижимости',\n",
       "       'строительство собственной недвижимости', 'недвижимость',\n",
       "       'строительство недвижимости', 'на покупку подержанного автомобиля',\n",
       "       'на покупку своего автомобиля',\n",
       "       'операции с коммерческой недвижимостью',\n",
       "       'строительство жилой недвижимости', 'жилье',\n",
       "       'операции со своей недвижимостью', 'автомобили',\n",
       "       'заняться образованием', 'сделка с подержанным автомобилем',\n",
       "       'получение образования', 'автомобиль', 'свадьба',\n",
       "       'получение дополнительного образования', 'покупка своего жилья',\n",
       "       'операции с недвижимостью', 'получение высшего образования',\n",
       "       'свой автомобиль', 'сделка с автомобилем',\n",
       "       'профильное образование', 'высшее образование',\n",
       "       'покупка жилья для сдачи', 'на покупку автомобиля', 'ремонт жилью',\n",
       "       'заняться высшим образованием'], dtype=object)"
      ]
     },
     "execution_count": 43,
     "metadata": {},
     "output_type": "execute_result"
    }
   ],
   "source": [
    "df['purpose'].unique()"
   ]
  },
  {
   "cell_type": "markdown",
   "id": "95308cd2",
   "metadata": {},
   "source": [
    "<div style=\"border:solid blue 2px; padding: 20px\">\n",
    "    \n",
    "Рассматривются следующие способы предобработки данных в столбце purpose:\n",
    "- введение дополнительного столбца - purpose_category, формирование списка уникальных целей получения займа и его сопоставление с данными в столбце purpose\n",
    "- приведение данных в столбце purpose к единым наименованиям (формирование списка уникальных целей получения займа и заполнение столбца purpose значениями из данного списка)"
   ]
  },
  {
   "cell_type": "markdown",
   "id": "e401d270",
   "metadata": {},
   "source": [
    "Произведем поиск во всем перечне уникальных значений столбца purpose на соответствие следующим целям кредитования:\n",
    "- образование\n",
    "- операции с недвижимостью/жильем\n",
    "- операции с авто\n",
    "- свадьба"
   ]
  },
  {
   "cell_type": "markdown",
   "id": "604db299",
   "metadata": {},
   "source": [
    "<div style=\"border:solid blue 2px; padding: 20px\">\n",
    "    \n",
    "Ввиду возможных опечаток/различных окончаний слов поиск будем проводить по элементам корней слов"
   ]
  },
  {
   "cell_type": "markdown",
   "id": "0d8f4ea4",
   "metadata": {},
   "source": [
    "<div style=\"border:solid blue 2px; padding: 20px\">\n",
    "    \n",
    "По условиям кейса требуется ввести новый столбец \"purpose_category\" а не приводить к единым наименованиям значения в столбце purpose, однако мы произведем данную операцию, поскольку это потенциально нам позволит выявить неявные дубликаты, сохраним purpose для его последующей вставки в датафрейм"
   ]
  },
  {
   "cell_type": "code",
   "execution_count": 44,
   "id": "2298f3e9",
   "metadata": {},
   "outputs": [],
   "source": [
    "column_purpose_old = pd.DataFrame() #объявление нового датафрейма не целесообразно, но почему то не удается сохранить значения \n",
    "#в отдельном стобце\n",
    "column_purpose_old ['purpose'] = df['purpose'] #сохраним столбец purpose"
   ]
  },
  {
   "cell_type": "code",
   "execution_count": 45,
   "id": "42a32999",
   "metadata": {},
   "outputs": [
    {
     "data": {
      "text/plain": [
       "<bound method Series.unique of 0                       покупка жилья\n",
       "1             приобретение автомобиля\n",
       "2                       покупка жилья\n",
       "3          дополнительное образование\n",
       "4                     сыграть свадьбу\n",
       "                     ...             \n",
       "21465               операции с жильем\n",
       "21466            сделка с автомобилем\n",
       "21467                    недвижимость\n",
       "21468    на покупку своего автомобиля\n",
       "21469           на покупку автомобиля\n",
       "Name: purpose, Length: 21470, dtype: object>"
      ]
     },
     "execution_count": 45,
     "metadata": {},
     "output_type": "execute_result"
    }
   ],
   "source": [
    "column_purpose_old['purpose'].unique"
   ]
  },
  {
   "cell_type": "markdown",
   "id": "e336bc7d",
   "metadata": {},
   "source": [
    "Вызовем объявленную ранее функцию для поиска элементов одного списка в другом (search_similar_words)"
   ]
  },
  {
   "cell_type": "code",
   "execution_count": 46,
   "id": "7b30177e",
   "metadata": {},
   "outputs": [],
   "source": [
    "list_purpose = list (df['purpose'].unique()) #список всех уникальных значений столбца purpose\n",
    "list_check = ['образ', 'жил', 'недв', 'авто','свадь'] #список проверяемых целей кредитования\n",
    "\n",
    "wrong_values = search_similar_words(list_purpose, list_check) #создаем список значенй, которые мы хотим заменить"
   ]
  },
  {
   "cell_type": "markdown",
   "id": "7aad18f7",
   "metadata": {},
   "source": [
    "проведем замену значений в столбце purpose на следующие:\n",
    "- получение образования\n",
    "- операции с недвижимостью\n",
    "- операции с автомобилем\n",
    "- проведение свадьбы"
   ]
  },
  {
   "cell_type": "markdown",
   "id": "6e07504b",
   "metadata": {},
   "source": [
    "<div style=\"border:solid blue 2px; padding: 20px\">\n",
    "    \n",
    "Стоит обратить внимание на то что в 'операции с недвижимостью' входят как наименования операций с жильем так и с недвижимостью"
   ]
  },
  {
   "cell_type": "markdown",
   "id": "09798aef",
   "metadata": {},
   "source": [
    "Вызовем объявленную ранее функцию для замены значений (replace_values)"
   ]
  },
  {
   "cell_type": "code",
   "execution_count": 47,
   "id": "e25667b8",
   "metadata": {},
   "outputs": [
    {
     "data": {
      "text/plain": [
       "операции с недвижимостью    10813\n",
       "операции с автомобилем       4308\n",
       "получение образования        4014\n",
       "проведение свадьбы           2335\n",
       "Name: purpose, dtype: int64"
      ]
     },
     "execution_count": 47,
     "metadata": {},
     "output_type": "execute_result"
    }
   ],
   "source": [
    "correct_values = ['получение образования','операции с недвижимостью','операции с недвижимостью','операции с автомобилем','проведение свадьбы'] #создаем список \n",
    "# значений на которые мы хотим заменить найденные ранее некорректные значения (wrong_values)\n",
    "list_correct = [] #создаем список для сборки заменяемых значений и значений на которые мы хотим их заменить\n",
    "\n",
    "for _ in range(len(correct_values)): #цикл проходит по количеству корректных значений и осуществляет сборку списка list_correct\n",
    "    list_secondary = [] #создаем вспомогательный список для сборки list_correct\n",
    "    \n",
    "    list_secondary.append(wrong_values[_]) #добавляем к вспомагательному списку набор значений которые мы хотим заменить\n",
    "    list_secondary.append(correct_values[_]) #добавляем к вспомагательному списку значение на которое мы хотим заменить переданный ранее набор значений\n",
    "    \n",
    "    list_correct.append(list_secondary) #собираем список list_correct\n",
    "\n",
    "    \n",
    "for wrong_val, correct_val in list_correct: #цикл проходит по всем парам \"набор заменяемых значений\" - \"заменяещее значение\"\n",
    "    replace_values ('purpose', wrong_val, correct_val) #функция замены значений в столбце purpose \n",
    "\n",
    "df['purpose'].value_counts() #проверка корректности проведенной замены значений в столбце purpose"
   ]
  },
  {
   "cell_type": "markdown",
   "id": "4a26f98b",
   "metadata": {},
   "source": [
    "<div style=\"border:solid blue 2px; padding: 20px\">\n",
    "    \n",
    "Значения в столбце purpose приведены в соответствие"
   ]
  },
  {
   "cell_type": "markdown",
   "id": "68559208",
   "metadata": {},
   "source": [
    "##### удаление неявных дубликатов"
   ]
  },
  {
   "cell_type": "markdown",
   "id": "767560f2",
   "metadata": {},
   "source": [
    "**Текущий раздел предобработки данных допустим только в случае если предположение о том, что точность передаваемых значений в столбцах days_employed и total_income может выступать в роли идентификации заемщика**\n",
    "\n",
    "В противном случае необходимо исключить операции произведенные в данном разделе "
   ]
  },
  {
   "cell_type": "markdown",
   "id": "c4e398f5",
   "metadata": {},
   "source": [
    "Определим количество дубликатов после проведенных операций с данными"
   ]
  },
  {
   "cell_type": "code",
   "execution_count": 48,
   "id": "c8d253ca",
   "metadata": {},
   "outputs": [
    {
     "data": {
      "text/plain": [
       "353"
      ]
     },
     "execution_count": 48,
     "metadata": {},
     "output_type": "execute_result"
    }
   ],
   "source": [
    "df.duplicated().sum()"
   ]
  },
  {
   "cell_type": "markdown",
   "id": "2e7ec9ec",
   "metadata": {},
   "source": [
    "Количество дубликатов на порядок превышает их количество до приведения в соответствие целей кредитования (351 против 17)\n",
    "\n",
    "Устраним найденные дубликаты"
   ]
  },
  {
   "cell_type": "code",
   "execution_count": 49,
   "id": "11664afb",
   "metadata": {},
   "outputs": [
    {
     "data": {
      "text/plain": [
       "0"
      ]
     },
     "execution_count": 49,
     "metadata": {},
     "output_type": "execute_result"
    }
   ],
   "source": [
    "df = df.drop_duplicates() #удаление дубликатов (без реиндексации для последующего восстановления данных в столбце purpose)\n",
    "\n",
    "df.duplicated().sum() #проверка удаления дубликатов"
   ]
  },
  {
   "cell_type": "markdown",
   "id": "f4070ab0",
   "metadata": {},
   "source": [
    "<div style=\"border:solid blue 2px; padding: 20px\">\n",
    "    \n",
    "Данные очищены от неявных дубликатов"
   ]
  },
  {
   "cell_type": "markdown",
   "id": "43cea5e8",
   "metadata": {},
   "source": [
    "### Дробные значения целочисленных переменных"
   ]
  },
  {
   "cell_type": "markdown",
   "id": "2ab0d5c7",
   "metadata": {},
   "source": [
    "Обзор данных показал наличие дробных значений в столбцах:\n",
    "- days_employed\n",
    "- total_income\n",
    "\n",
    "Принимая во внимание то что сбор данных с такой точностью маловероятен (рассчет трудового стажа с учетом отработанных часов на момент дня сбора информации, так же максимальная точность учета доходов определяется вторым знаком и соответсвует копейкам) предлагается округлить значения в данных столбцах до целочисленных значений"
   ]
  },
  {
   "cell_type": "code",
   "execution_count": 50,
   "id": "af520ce4",
   "metadata": {},
   "outputs": [
    {
     "data": {
      "text/html": [
       "<div>\n",
       "<style scoped>\n",
       "    .dataframe tbody tr th:only-of-type {\n",
       "        vertical-align: middle;\n",
       "    }\n",
       "\n",
       "    .dataframe tbody tr th {\n",
       "        vertical-align: top;\n",
       "    }\n",
       "\n",
       "    .dataframe thead th {\n",
       "        text-align: right;\n",
       "    }\n",
       "</style>\n",
       "<table border=\"1\" class=\"dataframe\">\n",
       "  <thead>\n",
       "    <tr style=\"text-align: right;\">\n",
       "      <th></th>\n",
       "      <th>children</th>\n",
       "      <th>days_employed</th>\n",
       "      <th>dob_years</th>\n",
       "      <th>education</th>\n",
       "      <th>education_id</th>\n",
       "      <th>family_status</th>\n",
       "      <th>family_status_id</th>\n",
       "      <th>gender</th>\n",
       "      <th>income_type</th>\n",
       "      <th>debt</th>\n",
       "      <th>total_income</th>\n",
       "      <th>purpose</th>\n",
       "    </tr>\n",
       "  </thead>\n",
       "  <tbody>\n",
       "    <tr>\n",
       "      <td>0</td>\n",
       "      <td>1</td>\n",
       "      <td>8438</td>\n",
       "      <td>42.0</td>\n",
       "      <td>высшее</td>\n",
       "      <td>0</td>\n",
       "      <td>женат / замужем</td>\n",
       "      <td>0</td>\n",
       "      <td>F</td>\n",
       "      <td>сотрудник</td>\n",
       "      <td>0</td>\n",
       "      <td>253876</td>\n",
       "      <td>операции с недвижимостью</td>\n",
       "    </tr>\n",
       "    <tr>\n",
       "      <td>1</td>\n",
       "      <td>1</td>\n",
       "      <td>4025</td>\n",
       "      <td>36.0</td>\n",
       "      <td>среднее</td>\n",
       "      <td>1</td>\n",
       "      <td>женат / замужем</td>\n",
       "      <td>0</td>\n",
       "      <td>F</td>\n",
       "      <td>сотрудник</td>\n",
       "      <td>0</td>\n",
       "      <td>112080</td>\n",
       "      <td>операции с автомобилем</td>\n",
       "    </tr>\n",
       "    <tr>\n",
       "      <td>2</td>\n",
       "      <td>0</td>\n",
       "      <td>5623</td>\n",
       "      <td>33.0</td>\n",
       "      <td>среднее</td>\n",
       "      <td>1</td>\n",
       "      <td>женат / замужем</td>\n",
       "      <td>0</td>\n",
       "      <td>M</td>\n",
       "      <td>сотрудник</td>\n",
       "      <td>0</td>\n",
       "      <td>145886</td>\n",
       "      <td>операции с недвижимостью</td>\n",
       "    </tr>\n",
       "    <tr>\n",
       "      <td>3</td>\n",
       "      <td>3</td>\n",
       "      <td>4125</td>\n",
       "      <td>32.0</td>\n",
       "      <td>среднее</td>\n",
       "      <td>1</td>\n",
       "      <td>женат / замужем</td>\n",
       "      <td>0</td>\n",
       "      <td>M</td>\n",
       "      <td>сотрудник</td>\n",
       "      <td>0</td>\n",
       "      <td>267629</td>\n",
       "      <td>получение образования</td>\n",
       "    </tr>\n",
       "    <tr>\n",
       "      <td>4</td>\n",
       "      <td>0</td>\n",
       "      <td>340266</td>\n",
       "      <td>53.0</td>\n",
       "      <td>среднее</td>\n",
       "      <td>1</td>\n",
       "      <td>гражданский брак</td>\n",
       "      <td>1</td>\n",
       "      <td>F</td>\n",
       "      <td>пенсионер</td>\n",
       "      <td>0</td>\n",
       "      <td>158616</td>\n",
       "      <td>проведение свадьбы</td>\n",
       "    </tr>\n",
       "    <tr>\n",
       "      <td>5</td>\n",
       "      <td>0</td>\n",
       "      <td>926</td>\n",
       "      <td>27.0</td>\n",
       "      <td>высшее</td>\n",
       "      <td>0</td>\n",
       "      <td>гражданский брак</td>\n",
       "      <td>1</td>\n",
       "      <td>M</td>\n",
       "      <td>компаньон</td>\n",
       "      <td>0</td>\n",
       "      <td>255764</td>\n",
       "      <td>операции с недвижимостью</td>\n",
       "    </tr>\n",
       "    <tr>\n",
       "      <td>6</td>\n",
       "      <td>0</td>\n",
       "      <td>2879</td>\n",
       "      <td>43.0</td>\n",
       "      <td>высшее</td>\n",
       "      <td>0</td>\n",
       "      <td>женат / замужем</td>\n",
       "      <td>0</td>\n",
       "      <td>F</td>\n",
       "      <td>компаньон</td>\n",
       "      <td>0</td>\n",
       "      <td>240526</td>\n",
       "      <td>операции с недвижимостью</td>\n",
       "    </tr>\n",
       "    <tr>\n",
       "      <td>7</td>\n",
       "      <td>0</td>\n",
       "      <td>153</td>\n",
       "      <td>50.0</td>\n",
       "      <td>среднее</td>\n",
       "      <td>1</td>\n",
       "      <td>женат / замужем</td>\n",
       "      <td>0</td>\n",
       "      <td>M</td>\n",
       "      <td>сотрудник</td>\n",
       "      <td>0</td>\n",
       "      <td>135824</td>\n",
       "      <td>получение образования</td>\n",
       "    </tr>\n",
       "    <tr>\n",
       "      <td>8</td>\n",
       "      <td>2</td>\n",
       "      <td>6930</td>\n",
       "      <td>35.0</td>\n",
       "      <td>высшее</td>\n",
       "      <td>0</td>\n",
       "      <td>гражданский брак</td>\n",
       "      <td>1</td>\n",
       "      <td>F</td>\n",
       "      <td>сотрудник</td>\n",
       "      <td>0</td>\n",
       "      <td>95857</td>\n",
       "      <td>проведение свадьбы</td>\n",
       "    </tr>\n",
       "    <tr>\n",
       "      <td>9</td>\n",
       "      <td>0</td>\n",
       "      <td>2189</td>\n",
       "      <td>41.0</td>\n",
       "      <td>среднее</td>\n",
       "      <td>1</td>\n",
       "      <td>женат / замужем</td>\n",
       "      <td>0</td>\n",
       "      <td>M</td>\n",
       "      <td>сотрудник</td>\n",
       "      <td>0</td>\n",
       "      <td>144426</td>\n",
       "      <td>операции с недвижимостью</td>\n",
       "    </tr>\n",
       "  </tbody>\n",
       "</table>\n",
       "</div>"
      ],
      "text/plain": [
       "   children  days_employed  dob_years education  education_id  \\\n",
       "0         1           8438       42.0    высшее             0   \n",
       "1         1           4025       36.0   среднее             1   \n",
       "2         0           5623       33.0   среднее             1   \n",
       "3         3           4125       32.0   среднее             1   \n",
       "4         0         340266       53.0   среднее             1   \n",
       "5         0            926       27.0    высшее             0   \n",
       "6         0           2879       43.0    высшее             0   \n",
       "7         0            153       50.0   среднее             1   \n",
       "8         2           6930       35.0    высшее             0   \n",
       "9         0           2189       41.0   среднее             1   \n",
       "\n",
       "      family_status  family_status_id gender income_type  debt  total_income  \\\n",
       "0   женат / замужем                 0      F   сотрудник     0        253876   \n",
       "1   женат / замужем                 0      F   сотрудник     0        112080   \n",
       "2   женат / замужем                 0      M   сотрудник     0        145886   \n",
       "3   женат / замужем                 0      M   сотрудник     0        267629   \n",
       "4  гражданский брак                 1      F   пенсионер     0        158616   \n",
       "5  гражданский брак                 1      M   компаньон     0        255764   \n",
       "6   женат / замужем                 0      F   компаньон     0        240526   \n",
       "7   женат / замужем                 0      M   сотрудник     0        135824   \n",
       "8  гражданский брак                 1      F   сотрудник     0         95857   \n",
       "9   женат / замужем                 0      M   сотрудник     0        144426   \n",
       "\n",
       "                    purpose  \n",
       "0  операции с недвижимостью  \n",
       "1    операции с автомобилем  \n",
       "2  операции с недвижимостью  \n",
       "3     получение образования  \n",
       "4        проведение свадьбы  \n",
       "5  операции с недвижимостью  \n",
       "6  операции с недвижимостью  \n",
       "7     получение образования  \n",
       "8        проведение свадьбы  \n",
       "9  операции с недвижимостью  "
      ]
     },
     "metadata": {},
     "output_type": "display_data"
    }
   ],
   "source": [
    "df['days_employed'] = df['days_employed'].apply(round) #округляем все значения в столбце days_employed\n",
    "df['total_income'] = df['total_income'].apply(round) #округляем все значения в столбце total_income\n",
    "\n",
    "display (df.head(10)) #проверка округления"
   ]
  },
  {
   "cell_type": "markdown",
   "id": "a54f41c7",
   "metadata": {},
   "source": [
    "<div style=\"border:solid blue 2px; padding: 20px\">\n",
    "    \n",
    "Значения в столбцах days_employed и total_income приведены к целочисленным"
   ]
  },
  {
   "cell_type": "markdown",
   "id": "2003ea56",
   "metadata": {},
   "source": [
    "### Категорирование заемщиков"
   ]
  },
  {
   "cell_type": "markdown",
   "id": "7246a7df",
   "metadata": {},
   "source": [
    "#### категорирование по цели получения кредита"
   ]
  },
  {
   "cell_type": "markdown",
   "id": "4a1dfc7e",
   "metadata": {},
   "source": [
    "Введем столбец purpose_category и вернем исходные значения в столбец purpose"
   ]
  },
  {
   "cell_type": "code",
   "execution_count": 51,
   "id": "da70f292",
   "metadata": {},
   "outputs": [],
   "source": [
    "df['purpose_category'] = df['purpose'] #данные нами приведены к нужным категориям ранее"
   ]
  },
  {
   "cell_type": "code",
   "execution_count": 52,
   "id": "67e9c455",
   "metadata": {},
   "outputs": [
    {
     "data": {
      "text/plain": [
       "array(['покупка жилья', 'приобретение автомобиля',\n",
       "       'дополнительное образование', 'сыграть свадьбу',\n",
       "       'операции с жильем', 'образование', 'на проведение свадьбы',\n",
       "       'покупка жилья для семьи', 'покупка недвижимости',\n",
       "       'покупка коммерческой недвижимости', 'покупка жилой недвижимости',\n",
       "       'строительство собственной недвижимости', 'недвижимость',\n",
       "       'строительство недвижимости', 'на покупку подержанного автомобиля',\n",
       "       'на покупку своего автомобиля',\n",
       "       'операции с коммерческой недвижимостью',\n",
       "       'строительство жилой недвижимости', 'жилье',\n",
       "       'операции со своей недвижимостью', 'автомобили',\n",
       "       'заняться образованием', 'сделка с подержанным автомобилем',\n",
       "       'получение образования', 'автомобиль', 'свадьба',\n",
       "       'получение дополнительного образования', 'покупка своего жилья',\n",
       "       'операции с недвижимостью', 'получение высшего образования',\n",
       "       'свой автомобиль', 'сделка с автомобилем',\n",
       "       'профильное образование', 'высшее образование',\n",
       "       'покупка жилья для сдачи', 'на покупку автомобиля', 'ремонт жилью',\n",
       "       'заняться высшим образованием'], dtype=object)"
      ]
     },
     "execution_count": 52,
     "metadata": {},
     "output_type": "execute_result"
    }
   ],
   "source": [
    "column_purpose_old['purpose'].unique()"
   ]
  },
  {
   "cell_type": "code",
   "execution_count": 53,
   "id": "e91be394",
   "metadata": {},
   "outputs": [
    {
     "data": {
      "text/html": [
       "<div>\n",
       "<style scoped>\n",
       "    .dataframe tbody tr th:only-of-type {\n",
       "        vertical-align: middle;\n",
       "    }\n",
       "\n",
       "    .dataframe tbody tr th {\n",
       "        vertical-align: top;\n",
       "    }\n",
       "\n",
       "    .dataframe thead th {\n",
       "        text-align: right;\n",
       "    }\n",
       "</style>\n",
       "<table border=\"1\" class=\"dataframe\">\n",
       "  <thead>\n",
       "    <tr style=\"text-align: right;\">\n",
       "      <th></th>\n",
       "      <th>children</th>\n",
       "      <th>days_employed</th>\n",
       "      <th>dob_years</th>\n",
       "      <th>education</th>\n",
       "      <th>education_id</th>\n",
       "      <th>family_status</th>\n",
       "      <th>family_status_id</th>\n",
       "      <th>gender</th>\n",
       "      <th>income_type</th>\n",
       "      <th>debt</th>\n",
       "      <th>total_income</th>\n",
       "      <th>purpose</th>\n",
       "      <th>purpose_category</th>\n",
       "    </tr>\n",
       "  </thead>\n",
       "  <tbody>\n",
       "    <tr>\n",
       "      <td>0</td>\n",
       "      <td>1</td>\n",
       "      <td>8438</td>\n",
       "      <td>42.0</td>\n",
       "      <td>высшее</td>\n",
       "      <td>0</td>\n",
       "      <td>женат / замужем</td>\n",
       "      <td>0</td>\n",
       "      <td>F</td>\n",
       "      <td>сотрудник</td>\n",
       "      <td>0</td>\n",
       "      <td>253876</td>\n",
       "      <td>покупка жилья</td>\n",
       "      <td>операции с недвижимостью</td>\n",
       "    </tr>\n",
       "    <tr>\n",
       "      <td>1</td>\n",
       "      <td>1</td>\n",
       "      <td>4025</td>\n",
       "      <td>36.0</td>\n",
       "      <td>среднее</td>\n",
       "      <td>1</td>\n",
       "      <td>женат / замужем</td>\n",
       "      <td>0</td>\n",
       "      <td>F</td>\n",
       "      <td>сотрудник</td>\n",
       "      <td>0</td>\n",
       "      <td>112080</td>\n",
       "      <td>приобретение автомобиля</td>\n",
       "      <td>операции с автомобилем</td>\n",
       "    </tr>\n",
       "    <tr>\n",
       "      <td>2</td>\n",
       "      <td>0</td>\n",
       "      <td>5623</td>\n",
       "      <td>33.0</td>\n",
       "      <td>среднее</td>\n",
       "      <td>1</td>\n",
       "      <td>женат / замужем</td>\n",
       "      <td>0</td>\n",
       "      <td>M</td>\n",
       "      <td>сотрудник</td>\n",
       "      <td>0</td>\n",
       "      <td>145886</td>\n",
       "      <td>покупка жилья</td>\n",
       "      <td>операции с недвижимостью</td>\n",
       "    </tr>\n",
       "    <tr>\n",
       "      <td>3</td>\n",
       "      <td>3</td>\n",
       "      <td>4125</td>\n",
       "      <td>32.0</td>\n",
       "      <td>среднее</td>\n",
       "      <td>1</td>\n",
       "      <td>женат / замужем</td>\n",
       "      <td>0</td>\n",
       "      <td>M</td>\n",
       "      <td>сотрудник</td>\n",
       "      <td>0</td>\n",
       "      <td>267629</td>\n",
       "      <td>дополнительное образование</td>\n",
       "      <td>получение образования</td>\n",
       "    </tr>\n",
       "    <tr>\n",
       "      <td>4</td>\n",
       "      <td>0</td>\n",
       "      <td>340266</td>\n",
       "      <td>53.0</td>\n",
       "      <td>среднее</td>\n",
       "      <td>1</td>\n",
       "      <td>гражданский брак</td>\n",
       "      <td>1</td>\n",
       "      <td>F</td>\n",
       "      <td>пенсионер</td>\n",
       "      <td>0</td>\n",
       "      <td>158616</td>\n",
       "      <td>сыграть свадьбу</td>\n",
       "      <td>проведение свадьбы</td>\n",
       "    </tr>\n",
       "    <tr>\n",
       "      <td>...</td>\n",
       "      <td>...</td>\n",
       "      <td>...</td>\n",
       "      <td>...</td>\n",
       "      <td>...</td>\n",
       "      <td>...</td>\n",
       "      <td>...</td>\n",
       "      <td>...</td>\n",
       "      <td>...</td>\n",
       "      <td>...</td>\n",
       "      <td>...</td>\n",
       "      <td>...</td>\n",
       "      <td>...</td>\n",
       "      <td>...</td>\n",
       "    </tr>\n",
       "    <tr>\n",
       "      <td>21112</td>\n",
       "      <td>1</td>\n",
       "      <td>4529</td>\n",
       "      <td>43.0</td>\n",
       "      <td>среднее</td>\n",
       "      <td>1</td>\n",
       "      <td>гражданский брак</td>\n",
       "      <td>1</td>\n",
       "      <td>F</td>\n",
       "      <td>компаньон</td>\n",
       "      <td>0</td>\n",
       "      <td>224792</td>\n",
       "      <td>операции с жильем</td>\n",
       "      <td>операции с недвижимостью</td>\n",
       "    </tr>\n",
       "    <tr>\n",
       "      <td>21113</td>\n",
       "      <td>0</td>\n",
       "      <td>343937</td>\n",
       "      <td>67.0</td>\n",
       "      <td>среднее</td>\n",
       "      <td>1</td>\n",
       "      <td>женат / замужем</td>\n",
       "      <td>0</td>\n",
       "      <td>F</td>\n",
       "      <td>пенсионер</td>\n",
       "      <td>0</td>\n",
       "      <td>156000</td>\n",
       "      <td>сделка с автомобилем</td>\n",
       "      <td>операции с автомобилем</td>\n",
       "    </tr>\n",
       "    <tr>\n",
       "      <td>21114</td>\n",
       "      <td>1</td>\n",
       "      <td>2113</td>\n",
       "      <td>38.0</td>\n",
       "      <td>среднее</td>\n",
       "      <td>1</td>\n",
       "      <td>гражданский брак</td>\n",
       "      <td>1</td>\n",
       "      <td>M</td>\n",
       "      <td>сотрудник</td>\n",
       "      <td>1</td>\n",
       "      <td>89673</td>\n",
       "      <td>недвижимость</td>\n",
       "      <td>операции с недвижимостью</td>\n",
       "    </tr>\n",
       "    <tr>\n",
       "      <td>21115</td>\n",
       "      <td>3</td>\n",
       "      <td>3112</td>\n",
       "      <td>38.0</td>\n",
       "      <td>среднее</td>\n",
       "      <td>1</td>\n",
       "      <td>женат / замужем</td>\n",
       "      <td>0</td>\n",
       "      <td>M</td>\n",
       "      <td>сотрудник</td>\n",
       "      <td>1</td>\n",
       "      <td>244093</td>\n",
       "      <td>на покупку своего автомобиля</td>\n",
       "      <td>операции с автомобилем</td>\n",
       "    </tr>\n",
       "    <tr>\n",
       "      <td>21116</td>\n",
       "      <td>2</td>\n",
       "      <td>1985</td>\n",
       "      <td>40.0</td>\n",
       "      <td>среднее</td>\n",
       "      <td>1</td>\n",
       "      <td>женат / замужем</td>\n",
       "      <td>0</td>\n",
       "      <td>F</td>\n",
       "      <td>сотрудник</td>\n",
       "      <td>0</td>\n",
       "      <td>82047</td>\n",
       "      <td>на покупку автомобиля</td>\n",
       "      <td>операции с автомобилем</td>\n",
       "    </tr>\n",
       "  </tbody>\n",
       "</table>\n",
       "<p>21117 rows × 13 columns</p>\n",
       "</div>"
      ],
      "text/plain": [
       "       children  days_employed  dob_years education  education_id  \\\n",
       "0             1           8438       42.0    высшее             0   \n",
       "1             1           4025       36.0   среднее             1   \n",
       "2             0           5623       33.0   среднее             1   \n",
       "3             3           4125       32.0   среднее             1   \n",
       "4             0         340266       53.0   среднее             1   \n",
       "...         ...            ...        ...       ...           ...   \n",
       "21112         1           4529       43.0   среднее             1   \n",
       "21113         0         343937       67.0   среднее             1   \n",
       "21114         1           2113       38.0   среднее             1   \n",
       "21115         3           3112       38.0   среднее             1   \n",
       "21116         2           1985       40.0   среднее             1   \n",
       "\n",
       "          family_status  family_status_id gender income_type  debt  \\\n",
       "0       женат / замужем                 0      F   сотрудник     0   \n",
       "1       женат / замужем                 0      F   сотрудник     0   \n",
       "2       женат / замужем                 0      M   сотрудник     0   \n",
       "3       женат / замужем                 0      M   сотрудник     0   \n",
       "4      гражданский брак                 1      F   пенсионер     0   \n",
       "...                 ...               ...    ...         ...   ...   \n",
       "21112  гражданский брак                 1      F   компаньон     0   \n",
       "21113   женат / замужем                 0      F   пенсионер     0   \n",
       "21114  гражданский брак                 1      M   сотрудник     1   \n",
       "21115   женат / замужем                 0      M   сотрудник     1   \n",
       "21116   женат / замужем                 0      F   сотрудник     0   \n",
       "\n",
       "       total_income                       purpose          purpose_category  \n",
       "0            253876                 покупка жилья  операции с недвижимостью  \n",
       "1            112080       приобретение автомобиля    операции с автомобилем  \n",
       "2            145886                 покупка жилья  операции с недвижимостью  \n",
       "3            267629    дополнительное образование     получение образования  \n",
       "4            158616               сыграть свадьбу        проведение свадьбы  \n",
       "...             ...                           ...                       ...  \n",
       "21112        224792             операции с жильем  операции с недвижимостью  \n",
       "21113        156000          сделка с автомобилем    операции с автомобилем  \n",
       "21114         89673                  недвижимость  операции с недвижимостью  \n",
       "21115        244093  на покупку своего автомобиля    операции с автомобилем  \n",
       "21116         82047         на покупку автомобиля    операции с автомобилем  \n",
       "\n",
       "[21117 rows x 13 columns]"
      ]
     },
     "execution_count": 53,
     "metadata": {},
     "output_type": "execute_result"
    }
   ],
   "source": [
    "for _ in df['purpose'].index: #цикл проходит по индексам датафрейма, при удалении дубликатов реиндексация не проводилась для того\n",
    "    #чтобы имелась возможность восстановить значения в столбце\n",
    "    df.loc[_, 'purpose'] = column_purpose_old.loc[_,'purpose'] #возвращение изначальных значений в столбец purpose\n",
    "# операция требует вычислительных ресурсов и если нет необходимости в востановлении данных в столбце, может быть закомментирована\n",
    "    \n",
    "    \n",
    "df.reset_index(drop=True) #восстановление последовательной индексации"
   ]
  },
  {
   "cell_type": "code",
   "execution_count": 54,
   "id": "ad4d54ac",
   "metadata": {},
   "outputs": [
    {
     "data": {
      "text/html": [
       "<div>\n",
       "<style scoped>\n",
       "    .dataframe tbody tr th:only-of-type {\n",
       "        vertical-align: middle;\n",
       "    }\n",
       "\n",
       "    .dataframe tbody tr th {\n",
       "        vertical-align: top;\n",
       "    }\n",
       "\n",
       "    .dataframe thead th {\n",
       "        text-align: right;\n",
       "    }\n",
       "</style>\n",
       "<table border=\"1\" class=\"dataframe\">\n",
       "  <thead>\n",
       "    <tr style=\"text-align: right;\">\n",
       "      <th></th>\n",
       "      <th>children</th>\n",
       "      <th>days_employed</th>\n",
       "      <th>dob_years</th>\n",
       "      <th>education</th>\n",
       "      <th>education_id</th>\n",
       "      <th>family_status</th>\n",
       "      <th>family_status_id</th>\n",
       "      <th>gender</th>\n",
       "      <th>income_type</th>\n",
       "      <th>debt</th>\n",
       "      <th>total_income</th>\n",
       "      <th>purpose</th>\n",
       "      <th>purpose_category</th>\n",
       "    </tr>\n",
       "  </thead>\n",
       "  <tbody>\n",
       "    <tr>\n",
       "      <td>0</td>\n",
       "      <td>1</td>\n",
       "      <td>8438</td>\n",
       "      <td>42.0</td>\n",
       "      <td>высшее</td>\n",
       "      <td>0</td>\n",
       "      <td>женат / замужем</td>\n",
       "      <td>0</td>\n",
       "      <td>F</td>\n",
       "      <td>сотрудник</td>\n",
       "      <td>0</td>\n",
       "      <td>253876</td>\n",
       "      <td>покупка жилья</td>\n",
       "      <td>операции с недвижимостью</td>\n",
       "    </tr>\n",
       "    <tr>\n",
       "      <td>1</td>\n",
       "      <td>1</td>\n",
       "      <td>4025</td>\n",
       "      <td>36.0</td>\n",
       "      <td>среднее</td>\n",
       "      <td>1</td>\n",
       "      <td>женат / замужем</td>\n",
       "      <td>0</td>\n",
       "      <td>F</td>\n",
       "      <td>сотрудник</td>\n",
       "      <td>0</td>\n",
       "      <td>112080</td>\n",
       "      <td>приобретение автомобиля</td>\n",
       "      <td>операции с автомобилем</td>\n",
       "    </tr>\n",
       "    <tr>\n",
       "      <td>2</td>\n",
       "      <td>0</td>\n",
       "      <td>5623</td>\n",
       "      <td>33.0</td>\n",
       "      <td>среднее</td>\n",
       "      <td>1</td>\n",
       "      <td>женат / замужем</td>\n",
       "      <td>0</td>\n",
       "      <td>M</td>\n",
       "      <td>сотрудник</td>\n",
       "      <td>0</td>\n",
       "      <td>145886</td>\n",
       "      <td>покупка жилья</td>\n",
       "      <td>операции с недвижимостью</td>\n",
       "    </tr>\n",
       "    <tr>\n",
       "      <td>3</td>\n",
       "      <td>3</td>\n",
       "      <td>4125</td>\n",
       "      <td>32.0</td>\n",
       "      <td>среднее</td>\n",
       "      <td>1</td>\n",
       "      <td>женат / замужем</td>\n",
       "      <td>0</td>\n",
       "      <td>M</td>\n",
       "      <td>сотрудник</td>\n",
       "      <td>0</td>\n",
       "      <td>267629</td>\n",
       "      <td>дополнительное образование</td>\n",
       "      <td>получение образования</td>\n",
       "    </tr>\n",
       "    <tr>\n",
       "      <td>4</td>\n",
       "      <td>0</td>\n",
       "      <td>340266</td>\n",
       "      <td>53.0</td>\n",
       "      <td>среднее</td>\n",
       "      <td>1</td>\n",
       "      <td>гражданский брак</td>\n",
       "      <td>1</td>\n",
       "      <td>F</td>\n",
       "      <td>пенсионер</td>\n",
       "      <td>0</td>\n",
       "      <td>158616</td>\n",
       "      <td>сыграть свадьбу</td>\n",
       "      <td>проведение свадьбы</td>\n",
       "    </tr>\n",
       "  </tbody>\n",
       "</table>\n",
       "</div>"
      ],
      "text/plain": [
       "   children  days_employed  dob_years education  education_id  \\\n",
       "0         1           8438       42.0    высшее             0   \n",
       "1         1           4025       36.0   среднее             1   \n",
       "2         0           5623       33.0   среднее             1   \n",
       "3         3           4125       32.0   среднее             1   \n",
       "4         0         340266       53.0   среднее             1   \n",
       "\n",
       "      family_status  family_status_id gender income_type  debt  total_income  \\\n",
       "0   женат / замужем                 0      F   сотрудник     0        253876   \n",
       "1   женат / замужем                 0      F   сотрудник     0        112080   \n",
       "2   женат / замужем                 0      M   сотрудник     0        145886   \n",
       "3   женат / замужем                 0      M   сотрудник     0        267629   \n",
       "4  гражданский брак                 1      F   пенсионер     0        158616   \n",
       "\n",
       "                      purpose          purpose_category  \n",
       "0               покупка жилья  операции с недвижимостью  \n",
       "1     приобретение автомобиля    операции с автомобилем  \n",
       "2               покупка жилья  операции с недвижимостью  \n",
       "3  дополнительное образование     получение образования  \n",
       "4             сыграть свадьбу        проведение свадьбы  "
      ]
     },
     "execution_count": 54,
     "metadata": {},
     "output_type": "execute_result"
    }
   ],
   "source": [
    "df.head() #проверка востановления данных в столбце purpose"
   ]
  },
  {
   "cell_type": "markdown",
   "id": "4955c3f0",
   "metadata": {},
   "source": [
    "#### создание словарей"
   ]
  },
  {
   "cell_type": "markdown",
   "id": "c0fc0ba8",
   "metadata": {},
   "source": [
    "Создадим два датафрейма и поместим в них данные о:\n",
    "- идентификаторе уровня образования (education_id) и уровне образования клиента (education);\n",
    "- идентификаторе семейного положения (family_status_id) и семейном положении (family_status)."
   ]
  },
  {
   "cell_type": "code",
   "execution_count": 55,
   "id": "64d2efb9",
   "metadata": {},
   "outputs": [
    {
     "data": {
      "text/html": [
       "<div>\n",
       "<style scoped>\n",
       "    .dataframe tbody tr th:only-of-type {\n",
       "        vertical-align: middle;\n",
       "    }\n",
       "\n",
       "    .dataframe tbody tr th {\n",
       "        vertical-align: top;\n",
       "    }\n",
       "\n",
       "    .dataframe thead th {\n",
       "        text-align: right;\n",
       "    }\n",
       "</style>\n",
       "<table border=\"1\" class=\"dataframe\">\n",
       "  <thead>\n",
       "    <tr style=\"text-align: right;\">\n",
       "      <th></th>\n",
       "      <th>education_id</th>\n",
       "      <th>education</th>\n",
       "    </tr>\n",
       "  </thead>\n",
       "  <tbody>\n",
       "    <tr>\n",
       "      <td>0</td>\n",
       "      <td>0</td>\n",
       "      <td>высшее</td>\n",
       "    </tr>\n",
       "    <tr>\n",
       "      <td>1</td>\n",
       "      <td>1</td>\n",
       "      <td>среднее</td>\n",
       "    </tr>\n",
       "    <tr>\n",
       "      <td>2</td>\n",
       "      <td>2</td>\n",
       "      <td>неоконченное высшее</td>\n",
       "    </tr>\n",
       "    <tr>\n",
       "      <td>3</td>\n",
       "      <td>3</td>\n",
       "      <td>начальное</td>\n",
       "    </tr>\n",
       "    <tr>\n",
       "      <td>4</td>\n",
       "      <td>4</td>\n",
       "      <td>ученая степень</td>\n",
       "    </tr>\n",
       "  </tbody>\n",
       "</table>\n",
       "</div>"
      ],
      "text/plain": [
       "   education_id            education\n",
       "0             0               высшее\n",
       "1             1              среднее\n",
       "2             2  неоконченное высшее\n",
       "3             3            начальное\n",
       "4             4       ученая степень"
      ]
     },
     "execution_count": 55,
     "metadata": {},
     "output_type": "execute_result"
    }
   ],
   "source": [
    "education_dict = df[['education_id','education']] #создаем словарь для уровня образования\n",
    "\n",
    "education_dict = education_dict.drop_duplicates().reset_index(drop=True) \n",
    "education_dict.head() #проверка "
   ]
  },
  {
   "cell_type": "code",
   "execution_count": 56,
   "id": "93af129b",
   "metadata": {},
   "outputs": [
    {
     "data": {
      "text/html": [
       "<div>\n",
       "<style scoped>\n",
       "    .dataframe tbody tr th:only-of-type {\n",
       "        vertical-align: middle;\n",
       "    }\n",
       "\n",
       "    .dataframe tbody tr th {\n",
       "        vertical-align: top;\n",
       "    }\n",
       "\n",
       "    .dataframe thead th {\n",
       "        text-align: right;\n",
       "    }\n",
       "</style>\n",
       "<table border=\"1\" class=\"dataframe\">\n",
       "  <thead>\n",
       "    <tr style=\"text-align: right;\">\n",
       "      <th></th>\n",
       "      <th>family_status_id</th>\n",
       "      <th>family_status</th>\n",
       "    </tr>\n",
       "  </thead>\n",
       "  <tbody>\n",
       "    <tr>\n",
       "      <td>0</td>\n",
       "      <td>0</td>\n",
       "      <td>женат / замужем</td>\n",
       "    </tr>\n",
       "    <tr>\n",
       "      <td>1</td>\n",
       "      <td>1</td>\n",
       "      <td>гражданский брак</td>\n",
       "    </tr>\n",
       "    <tr>\n",
       "      <td>2</td>\n",
       "      <td>2</td>\n",
       "      <td>вдовец / вдова</td>\n",
       "    </tr>\n",
       "    <tr>\n",
       "      <td>3</td>\n",
       "      <td>3</td>\n",
       "      <td>в разводе</td>\n",
       "    </tr>\n",
       "    <tr>\n",
       "      <td>4</td>\n",
       "      <td>4</td>\n",
       "      <td>не женат / не замужем</td>\n",
       "    </tr>\n",
       "  </tbody>\n",
       "</table>\n",
       "</div>"
      ],
      "text/plain": [
       "   family_status_id          family_status\n",
       "0                 0        женат / замужем\n",
       "1                 1       гражданский брак\n",
       "2                 2         вдовец / вдова\n",
       "3                 3              в разводе\n",
       "4                 4  не женат / не замужем"
      ]
     },
     "execution_count": 56,
     "metadata": {},
     "output_type": "execute_result"
    }
   ],
   "source": [
    "family_status_dict = df[['family_status_id','family_status']] #создаем словарь для семейного положения\n",
    "\n",
    "family_status_dict = family_status_dict.drop_duplicates().reset_index(drop=True)\n",
    "family_status_dict.head() #проверка "
   ]
  },
  {
   "cell_type": "markdown",
   "id": "5f70ad4b",
   "metadata": {},
   "source": [
    "Удалим из исходного датафрейма столбцы family_status и education"
   ]
  },
  {
   "cell_type": "code",
   "execution_count": 57,
   "id": "b6dbd37e",
   "metadata": {},
   "outputs": [
    {
     "data": {
      "text/html": [
       "<div>\n",
       "<style scoped>\n",
       "    .dataframe tbody tr th:only-of-type {\n",
       "        vertical-align: middle;\n",
       "    }\n",
       "\n",
       "    .dataframe tbody tr th {\n",
       "        vertical-align: top;\n",
       "    }\n",
       "\n",
       "    .dataframe thead th {\n",
       "        text-align: right;\n",
       "    }\n",
       "</style>\n",
       "<table border=\"1\" class=\"dataframe\">\n",
       "  <thead>\n",
       "    <tr style=\"text-align: right;\">\n",
       "      <th></th>\n",
       "      <th>children</th>\n",
       "      <th>days_employed</th>\n",
       "      <th>dob_years</th>\n",
       "      <th>education_id</th>\n",
       "      <th>family_status_id</th>\n",
       "      <th>gender</th>\n",
       "      <th>income_type</th>\n",
       "      <th>debt</th>\n",
       "      <th>total_income</th>\n",
       "      <th>purpose</th>\n",
       "      <th>purpose_category</th>\n",
       "    </tr>\n",
       "  </thead>\n",
       "  <tbody>\n",
       "    <tr>\n",
       "      <td>0</td>\n",
       "      <td>1</td>\n",
       "      <td>8438</td>\n",
       "      <td>42.0</td>\n",
       "      <td>0</td>\n",
       "      <td>0</td>\n",
       "      <td>F</td>\n",
       "      <td>сотрудник</td>\n",
       "      <td>0</td>\n",
       "      <td>253876</td>\n",
       "      <td>покупка жилья</td>\n",
       "      <td>операции с недвижимостью</td>\n",
       "    </tr>\n",
       "    <tr>\n",
       "      <td>1</td>\n",
       "      <td>1</td>\n",
       "      <td>4025</td>\n",
       "      <td>36.0</td>\n",
       "      <td>1</td>\n",
       "      <td>0</td>\n",
       "      <td>F</td>\n",
       "      <td>сотрудник</td>\n",
       "      <td>0</td>\n",
       "      <td>112080</td>\n",
       "      <td>приобретение автомобиля</td>\n",
       "      <td>операции с автомобилем</td>\n",
       "    </tr>\n",
       "    <tr>\n",
       "      <td>2</td>\n",
       "      <td>0</td>\n",
       "      <td>5623</td>\n",
       "      <td>33.0</td>\n",
       "      <td>1</td>\n",
       "      <td>0</td>\n",
       "      <td>M</td>\n",
       "      <td>сотрудник</td>\n",
       "      <td>0</td>\n",
       "      <td>145886</td>\n",
       "      <td>покупка жилья</td>\n",
       "      <td>операции с недвижимостью</td>\n",
       "    </tr>\n",
       "    <tr>\n",
       "      <td>3</td>\n",
       "      <td>3</td>\n",
       "      <td>4125</td>\n",
       "      <td>32.0</td>\n",
       "      <td>1</td>\n",
       "      <td>0</td>\n",
       "      <td>M</td>\n",
       "      <td>сотрудник</td>\n",
       "      <td>0</td>\n",
       "      <td>267629</td>\n",
       "      <td>дополнительное образование</td>\n",
       "      <td>получение образования</td>\n",
       "    </tr>\n",
       "    <tr>\n",
       "      <td>4</td>\n",
       "      <td>0</td>\n",
       "      <td>340266</td>\n",
       "      <td>53.0</td>\n",
       "      <td>1</td>\n",
       "      <td>1</td>\n",
       "      <td>F</td>\n",
       "      <td>пенсионер</td>\n",
       "      <td>0</td>\n",
       "      <td>158616</td>\n",
       "      <td>сыграть свадьбу</td>\n",
       "      <td>проведение свадьбы</td>\n",
       "    </tr>\n",
       "  </tbody>\n",
       "</table>\n",
       "</div>"
      ],
      "text/plain": [
       "   children  days_employed  dob_years  education_id  family_status_id gender  \\\n",
       "0         1           8438       42.0             0                 0      F   \n",
       "1         1           4025       36.0             1                 0      F   \n",
       "2         0           5623       33.0             1                 0      M   \n",
       "3         3           4125       32.0             1                 0      M   \n",
       "4         0         340266       53.0             1                 1      F   \n",
       "\n",
       "  income_type  debt  total_income                     purpose  \\\n",
       "0   сотрудник     0        253876               покупка жилья   \n",
       "1   сотрудник     0        112080     приобретение автомобиля   \n",
       "2   сотрудник     0        145886               покупка жилья   \n",
       "3   сотрудник     0        267629  дополнительное образование   \n",
       "4   пенсионер     0        158616             сыграть свадьбу   \n",
       "\n",
       "           purpose_category  \n",
       "0  операции с недвижимостью  \n",
       "1    операции с автомобилем  \n",
       "2  операции с недвижимостью  \n",
       "3     получение образования  \n",
       "4        проведение свадьбы  "
      ]
     },
     "execution_count": 57,
     "metadata": {},
     "output_type": "execute_result"
    }
   ],
   "source": [
    "df = df.drop(columns = ['education', 'family_status'], axis = 1) \n",
    "\n",
    "df.head()"
   ]
  },
  {
   "cell_type": "markdown",
   "id": "8723f774",
   "metadata": {},
   "source": [
    "<div style=\"border:solid blue 2px; padding: 20px\">\n",
    "    \n",
    "Созданы словари:\n",
    "- education_dict\n",
    "- family_status_dict\n",
    "    \n",
    "Из исходного датафрейма удалены столбцы education, family_status"
   ]
  },
  {
   "cell_type": "markdown",
   "id": "341b8892",
   "metadata": {},
   "source": [
    "#### категорирование по ежемесячному доходу"
   ]
  },
  {
   "cell_type": "markdown",
   "id": "4f99fd51",
   "metadata": {},
   "source": [
    "Проведем следующую категоризацию клиентов по ежемесячному доходу:\n",
    "- 0 – 30 000 — 'E';\n",
    "- 30 001 – 50 000 — 'D';\n",
    "- 50 001 – 200 000 — 'C';\n",
    "- 200 001 – 1 000 000 — 'B';\n",
    "- 1 000 001 и выше — 'A'."
   ]
  },
  {
   "cell_type": "markdown",
   "id": "8c86db11",
   "metadata": {},
   "source": [
    "Вызовем объявленную ранее функцию income_category:"
   ]
  },
  {
   "cell_type": "code",
   "execution_count": 58,
   "id": "9885a0e6",
   "metadata": {},
   "outputs": [
    {
     "data": {
      "text/plain": [
       "C    15679\n",
       "B     5041\n",
       "D      350\n",
       "A       25\n",
       "E       22\n",
       "Name: total_income_category, dtype: int64"
      ]
     },
     "execution_count": 58,
     "metadata": {},
     "output_type": "execute_result"
    }
   ],
   "source": [
    "df['total_income_category'] = df['total_income'].apply(income_category) #добавляем в df столбец total_income_category и заполняем его \n",
    "#рейтингами заемщиков\n",
    "\n",
    "df['total_income_category'].value_counts()  #проверка"
   ]
  },
  {
   "cell_type": "markdown",
   "id": "6ccb840c",
   "metadata": {},
   "source": [
    "#### категорирование по возрасту"
   ]
  },
  {
   "cell_type": "markdown",
   "id": "1e8b2453",
   "metadata": {},
   "source": [
    "Проведем следующую категоризацию клиентов по возрасту (классификация по возрастам, установленная ВОЗ*):\n",
    "- 18 - 44 — 'молодой возраст';\n",
    "- 45 - 59 — 'средний возраст';\n",
    "- 60 - 74 — 'пожилой возраст';\n",
    "- 75 - 90 — 'старческий возраст';\n",
    "- 90 и выше — 'долгожители'.\n",
    "\n",
    "Предлагается использовать данную классификацию как имеющую связь с уровнем активности человека в течении жизни\n",
    "*Всемирная организация здравоохранения"
   ]
  },
  {
   "cell_type": "code",
   "execution_count": 59,
   "id": "138f485b",
   "metadata": {},
   "outputs": [
    {
     "data": {
      "text/plain": [
       "молодой возраст       11656\n",
       "средний возраст        7000\n",
       "пожилой возраст        2460\n",
       "старческий возраст        1\n",
       "Name: total_age_category, dtype: int64"
      ]
     },
     "execution_count": 59,
     "metadata": {},
     "output_type": "execute_result"
    }
   ],
   "source": [
    "df['total_age_category'] = df['dob_years'].apply(age_category) #добавляем в df столбец total_age_category и заполняем его \n",
    "#классификацией по возрасту\n",
    "\n",
    "df['total_age_category'].value_counts()  #проверка"
   ]
  },
  {
   "cell_type": "markdown",
   "id": "7f89d0f6",
   "metadata": {},
   "source": [
    "### Результаты предобработки данных"
   ]
  },
  {
   "cell_type": "markdown",
   "id": "9df3292f",
   "metadata": {},
   "source": [
    "Произведена предобработка данных позволяющая использовать их для проверки гипотез.\n",
    "Цели получения кредита сгрупированы по следующим целям:\n",
    "- получение образования\n",
    "- операции с недвижимостью\n",
    "- операции с автомобилем\n",
    "- проведение свадьбы\n",
    "        \n",
    "Ежемесячный доход клиентов сгруппирован по следующим диапазонам:\n",
    "- 0 – 30 000 — 'E';\n",
    "- 30 001 – 50 000 — 'D';\n",
    "- 50 001 – 200 000 — 'C';\n",
    "- 200 001 – 1 000 000 — 'B';\n",
    "- 1 000 001 и выше — 'A'.\n",
    "\n",
    "\n",
    "Клиенты сгруппированы по следующим возрастным категориям:\n",
    "- 18 - 44 — 'молодой возраст';\n",
    "- 45 - 59 — 'средний возраст';\n",
    "- 60 - 74 — 'пожилой возраст';\n",
    "- 75 - 90 — 'старческий возраст';\n",
    "- 90 и выше — 'долгожители'.\n",
    "\n",
    "\n",
    "        \n",
    "Вместе с тем необходимо отметить, что:\n",
    "- в ходе предобаботки данных сделано предположение о том что точность данных, передаваемых в столбцах days_employed и total_income, позволяет идентифицировать замещика для целей исключения дублирования данных\n",
    "    \n",
    "    \n",
    "\n",
    "\n"
   ]
  },
  {
   "cell_type": "markdown",
   "id": "f1bed1d1",
   "metadata": {},
   "source": [
    "## Проверка гипотез"
   ]
  },
  {
   "cell_type": "markdown",
   "id": "f04e6675",
   "metadata": {},
   "source": [
    "### Зависимость между количеством детей и возвратом кредита в срок"
   ]
  },
  {
   "cell_type": "markdown",
   "id": "17572809",
   "metadata": {},
   "source": [
    "Создадим сводную таблицу для исследования данной зависимости"
   ]
  },
  {
   "cell_type": "code",
   "execution_count": 60,
   "id": "78196e40",
   "metadata": {},
   "outputs": [],
   "source": [
    "df_pivot_children = df.pivot_table(index=['children'], columns='debt', values='total_income_category', aggfunc='count')"
   ]
  },
  {
   "cell_type": "code",
   "execution_count": 61,
   "id": "896f69dd",
   "metadata": {},
   "outputs": [
    {
     "data": {
      "text/html": [
       "<div>\n",
       "<style scoped>\n",
       "    .dataframe tbody tr th:only-of-type {\n",
       "        vertical-align: middle;\n",
       "    }\n",
       "\n",
       "    .dataframe tbody tr th {\n",
       "        vertical-align: top;\n",
       "    }\n",
       "\n",
       "    .dataframe thead th {\n",
       "        text-align: right;\n",
       "    }\n",
       "</style>\n",
       "<table border=\"1\" class=\"dataframe\">\n",
       "  <thead>\n",
       "    <tr style=\"text-align: right;\">\n",
       "      <th>debt</th>\n",
       "      <th>number_debetors</th>\n",
       "      <th>total_customer</th>\n",
       "      <th>proportion</th>\n",
       "      <th>percent_overdue_loan</th>\n",
       "    </tr>\n",
       "    <tr>\n",
       "      <th>children</th>\n",
       "      <th></th>\n",
       "      <th></th>\n",
       "      <th></th>\n",
       "      <th></th>\n",
       "    </tr>\n",
       "  </thead>\n",
       "  <tbody>\n",
       "    <tr>\n",
       "      <td>0</td>\n",
       "      <td>1061.0</td>\n",
       "      <td>13826.0</td>\n",
       "      <td>12.0</td>\n",
       "      <td>8.0</td>\n",
       "    </tr>\n",
       "    <tr>\n",
       "      <td>1</td>\n",
       "      <td>445.0</td>\n",
       "      <td>4798.0</td>\n",
       "      <td>10.0</td>\n",
       "      <td>9.0</td>\n",
       "    </tr>\n",
       "    <tr>\n",
       "      <td>2</td>\n",
       "      <td>202.0</td>\n",
       "      <td>2115.0</td>\n",
       "      <td>9.0</td>\n",
       "      <td>10.0</td>\n",
       "    </tr>\n",
       "    <tr>\n",
       "      <td>3</td>\n",
       "      <td>27.0</td>\n",
       "      <td>329.0</td>\n",
       "      <td>11.0</td>\n",
       "      <td>8.0</td>\n",
       "    </tr>\n",
       "    <tr>\n",
       "      <td>4</td>\n",
       "      <td>4.0</td>\n",
       "      <td>40.0</td>\n",
       "      <td>9.0</td>\n",
       "      <td>10.0</td>\n",
       "    </tr>\n",
       "    <tr>\n",
       "      <td>5</td>\n",
       "      <td>0.0</td>\n",
       "      <td>0.0</td>\n",
       "      <td>0.0</td>\n",
       "      <td>0.0</td>\n",
       "    </tr>\n",
       "  </tbody>\n",
       "</table>\n",
       "</div>"
      ],
      "text/plain": [
       "debt      number_debetors  total_customer  proportion  percent_overdue_loan\n",
       "children                                                                   \n",
       "0                  1061.0         13826.0        12.0                   8.0\n",
       "1                   445.0          4798.0        10.0                   9.0\n",
       "2                   202.0          2115.0         9.0                  10.0\n",
       "3                    27.0           329.0        11.0                   8.0\n",
       "4                     4.0            40.0         9.0                  10.0\n",
       "5                     0.0             0.0         0.0                   0.0"
      ]
     },
     "execution_count": 61,
     "metadata": {},
     "output_type": "execute_result"
    }
   ],
   "source": [
    "df_pivot_children ['total_customer'] = df_pivot_children [0] + df_pivot_children [1] #введем колонку с общим числом клиентов в данной группе\n",
    "\n",
    "df_pivot_children ['proportion'] = round(df_pivot_children[0]/df_pivot_children[1]) #отношение числа не имевших задолженность к числу имевших\n",
    "\n",
    "df_pivot_children ['percent_overdue_loan'] = round(df_pivot_children[1]*100/(df_pivot_children['total_customer'])) #процент имевших задолженность клиентов от общего числа заемщиков имеющих столько же детей\n",
    "\n",
    "df_pivot_children = df_pivot_children.drop(columns = [0], axis = 1) #нас интересуют должники, удалим лишний стобец\n",
    "\n",
    "df_pivot_children = df_pivot_children.rename(columns={\n",
    "    1 :'number_debetors'} #переименуем столбец для большей наглядности\n",
    "                                            ).fillna(0) #заполним пропуски нулями\n",
    "total_cust = df_pivot_children ['total_customer'] #сохраним столбец total_customer\n",
    "\n",
    "df_pivot_children"
   ]
  },
  {
   "cell_type": "markdown",
   "id": "10e6d64d",
   "metadata": {},
   "source": [
    "**Существенного (кратного) влияния не обнаружено**, однако в данном исследовании не учтено влияние остальных параметров (возможно связь между количеством детей и возвратом кредита в срок есть для отдельных групп клиентов) "
   ]
  },
  {
   "cell_type": "code",
   "execution_count": 62,
   "id": "adce8eb7",
   "metadata": {
    "scrolled": true
   },
   "outputs": [
    {
     "data": {
      "text/html": [
       "<div>\n",
       "<style scoped>\n",
       "    .dataframe tbody tr th:only-of-type {\n",
       "        vertical-align: middle;\n",
       "    }\n",
       "\n",
       "    .dataframe tbody tr th {\n",
       "        vertical-align: top;\n",
       "    }\n",
       "\n",
       "    .dataframe thead th {\n",
       "        text-align: right;\n",
       "    }\n",
       "</style>\n",
       "<table border=\"1\" class=\"dataframe\">\n",
       "  <thead>\n",
       "    <tr style=\"text-align: right;\">\n",
       "      <th>income_type</th>\n",
       "      <th>госслужащий</th>\n",
       "      <th>компаньон</th>\n",
       "      <th>пенсионер</th>\n",
       "      <th>сотрудник</th>\n",
       "      <th>total_customer</th>\n",
       "    </tr>\n",
       "    <tr>\n",
       "      <th>children</th>\n",
       "      <th></th>\n",
       "      <th></th>\n",
       "      <th></th>\n",
       "      <th></th>\n",
       "      <th></th>\n",
       "    </tr>\n",
       "  </thead>\n",
       "  <tbody>\n",
       "    <tr>\n",
       "      <td>0</td>\n",
       "      <td>59.0</td>\n",
       "      <td>226.0</td>\n",
       "      <td>198.0</td>\n",
       "      <td>578.0</td>\n",
       "      <td>13826.0</td>\n",
       "    </tr>\n",
       "    <tr>\n",
       "      <td>1</td>\n",
       "      <td>19.0</td>\n",
       "      <td>106.0</td>\n",
       "      <td>14.0</td>\n",
       "      <td>305.0</td>\n",
       "      <td>4798.0</td>\n",
       "    </tr>\n",
       "    <tr>\n",
       "      <td>2</td>\n",
       "      <td>6.0</td>\n",
       "      <td>39.0</td>\n",
       "      <td>3.0</td>\n",
       "      <td>153.0</td>\n",
       "      <td>2115.0</td>\n",
       "    </tr>\n",
       "    <tr>\n",
       "      <td>3</td>\n",
       "      <td>2.0</td>\n",
       "      <td>5.0</td>\n",
       "      <td>1.0</td>\n",
       "      <td>19.0</td>\n",
       "      <td>329.0</td>\n",
       "    </tr>\n",
       "    <tr>\n",
       "      <td>4</td>\n",
       "      <td>0.0</td>\n",
       "      <td>0.0</td>\n",
       "      <td>0.0</td>\n",
       "      <td>4.0</td>\n",
       "      <td>40.0</td>\n",
       "    </tr>\n",
       "    <tr>\n",
       "      <td>5</td>\n",
       "      <td>0.0</td>\n",
       "      <td>0.0</td>\n",
       "      <td>0.0</td>\n",
       "      <td>0.0</td>\n",
       "      <td>0.0</td>\n",
       "    </tr>\n",
       "  </tbody>\n",
       "</table>\n",
       "</div>"
      ],
      "text/plain": [
       "income_type  госслужащий  компаньон  пенсионер  сотрудник  total_customer\n",
       "children                                                                 \n",
       "0                   59.0      226.0      198.0      578.0         13826.0\n",
       "1                   19.0      106.0       14.0      305.0          4798.0\n",
       "2                    6.0       39.0        3.0      153.0          2115.0\n",
       "3                    2.0        5.0        1.0       19.0           329.0\n",
       "4                    0.0        0.0        0.0        4.0            40.0\n",
       "5                    0.0        0.0        0.0        0.0             0.0"
      ]
     },
     "execution_count": 62,
     "metadata": {},
     "output_type": "execute_result"
    }
   ],
   "source": [
    "df_pivot_children = df.pivot_table(index=['children'], columns= 'income_type', values='debt', aggfunc='sum') #пересоздадим сводную таблицу\n",
    "\n",
    "df_pivot_children ['total_customer'] = total_cust #заполняем стобец ранее рассчитаными значениями\n",
    "\n",
    "df_pivot_children = df_pivot_children.drop(columns = ['безработный','предприниматель','в декрете', 'студент'], axis = 1).fillna(0)\n",
    "# для иследования данных групп заемщиков недостаточно данных\n",
    "\n",
    "df_pivot_children"
   ]
  },
  {
   "cell_type": "markdown",
   "id": "971170be",
   "metadata": {},
   "source": [
    "Переведем абсоютные значения в стобцах с группами заемщиков в процентные значения от общего числа заемщиков"
   ]
  },
  {
   "cell_type": "code",
   "execution_count": 63,
   "id": "afa6eb50",
   "metadata": {},
   "outputs": [
    {
     "data": {
      "text/html": [
       "<div>\n",
       "<style scoped>\n",
       "    .dataframe tbody tr th:only-of-type {\n",
       "        vertical-align: middle;\n",
       "    }\n",
       "\n",
       "    .dataframe tbody tr th {\n",
       "        vertical-align: top;\n",
       "    }\n",
       "\n",
       "    .dataframe thead th {\n",
       "        text-align: right;\n",
       "    }\n",
       "</style>\n",
       "<table border=\"1\" class=\"dataframe\">\n",
       "  <thead>\n",
       "    <tr style=\"text-align: right;\">\n",
       "      <th>income_type</th>\n",
       "      <th>госслужащий</th>\n",
       "      <th>компаньон</th>\n",
       "      <th>пенсионер</th>\n",
       "      <th>сотрудник</th>\n",
       "      <th>total_customer</th>\n",
       "    </tr>\n",
       "    <tr>\n",
       "      <th>children</th>\n",
       "      <th></th>\n",
       "      <th></th>\n",
       "      <th></th>\n",
       "      <th></th>\n",
       "      <th></th>\n",
       "    </tr>\n",
       "  </thead>\n",
       "  <tbody>\n",
       "    <tr>\n",
       "      <td>0</td>\n",
       "      <td>0.4267</td>\n",
       "      <td>1.6346</td>\n",
       "      <td>1.4321</td>\n",
       "      <td>4.1805</td>\n",
       "      <td>13826.0</td>\n",
       "    </tr>\n",
       "    <tr>\n",
       "      <td>1</td>\n",
       "      <td>0.3960</td>\n",
       "      <td>2.2093</td>\n",
       "      <td>0.2918</td>\n",
       "      <td>6.3568</td>\n",
       "      <td>4798.0</td>\n",
       "    </tr>\n",
       "    <tr>\n",
       "      <td>2</td>\n",
       "      <td>0.2837</td>\n",
       "      <td>1.8440</td>\n",
       "      <td>0.1418</td>\n",
       "      <td>7.2340</td>\n",
       "      <td>2115.0</td>\n",
       "    </tr>\n",
       "  </tbody>\n",
       "</table>\n",
       "</div>"
      ],
      "text/plain": [
       "income_type  госслужащий  компаньон  пенсионер  сотрудник  total_customer\n",
       "children                                                                 \n",
       "0                 0.4267     1.6346     1.4321     4.1805         13826.0\n",
       "1                 0.3960     2.2093     0.2918     6.3568          4798.0\n",
       "2                 0.2837     1.8440     0.1418     7.2340          2115.0"
      ]
     },
     "execution_count": 63,
     "metadata": {},
     "output_type": "execute_result"
    }
   ],
   "source": [
    "for _ in df_pivot_children.columns[df_pivot_children.columns != 'total_customer']: #цикл проходит по всем названиям столбцов кроме total_customer \n",
    "    df_pivot_children[_] = round(df_pivot_children[_]*100/df_pivot_children['total_customer'],4) #замещение значений в столбце процентами данного значения от общего количества клиентов в данной группе\n",
    "\n",
    "df_pivot_children = df_pivot_children.fillna(0) #заполняем пропуски\n",
    "    \n",
    "df_pivot_children[:3] #из предыдущей таблицы видно что данных не достаточно для анализа заемщиков с 3 и более детьми"
   ]
  },
  {
   "cell_type": "markdown",
   "id": "39e11cc7",
   "metadata": {},
   "source": [
    "<div style=\"border:solid blue 2px; padding: 20px\">\n",
    "    \n",
    "Полученные данные говорят нам о том, что в рамках разных групп заемщиков (по типу занятости) динамика изменения влияния количества детей на возврат займа отличается\n",
    "    \n",
    "При том что общая статистика говорит о увеличении риска по мере увеличения данного параметра, для отдельных категорий наблюдается обратная динамика (госслужащий, компаньон)"
   ]
  },
  {
   "cell_type": "markdown",
   "id": "c5cc18ec",
   "metadata": {},
   "source": [
    "### Зависимость между семейным положением и возвратом кредита в срок"
   ]
  },
  {
   "cell_type": "markdown",
   "id": "cfab87f4",
   "metadata": {},
   "source": [
    "Исследуем зависимость между семейным положением и возвратом кредита"
   ]
  },
  {
   "cell_type": "markdown",
   "id": "803a61a5",
   "metadata": {},
   "source": [
    "автоматизируем рутинные операции по формированию сводных таблиц и воспользуемся функцией engine_of_progress "
   ]
  },
  {
   "cell_type": "code",
   "execution_count": 64,
   "id": "2103696f",
   "metadata": {
    "scrolled": true
   },
   "outputs": [
    {
     "data": {
      "text/html": [
       "<div>\n",
       "<style scoped>\n",
       "    .dataframe tbody tr th:only-of-type {\n",
       "        vertical-align: middle;\n",
       "    }\n",
       "\n",
       "    .dataframe tbody tr th {\n",
       "        vertical-align: top;\n",
       "    }\n",
       "\n",
       "    .dataframe thead th {\n",
       "        text-align: right;\n",
       "    }\n",
       "</style>\n",
       "<table border=\"1\" class=\"dataframe\">\n",
       "  <thead>\n",
       "    <tr style=\"text-align: right;\">\n",
       "      <th>debt</th>\n",
       "      <th>number_debetors</th>\n",
       "      <th>total_customer</th>\n",
       "      <th>proportion</th>\n",
       "      <th>percent_overdue_loan</th>\n",
       "    </tr>\n",
       "    <tr>\n",
       "      <th>family_status_id</th>\n",
       "      <th></th>\n",
       "      <th></th>\n",
       "      <th></th>\n",
       "      <th></th>\n",
       "    </tr>\n",
       "  </thead>\n",
       "  <tbody>\n",
       "    <tr>\n",
       "      <td>0</td>\n",
       "      <td>929</td>\n",
       "      <td>12075</td>\n",
       "      <td>12.0</td>\n",
       "      <td>8.0</td>\n",
       "    </tr>\n",
       "    <tr>\n",
       "      <td>1</td>\n",
       "      <td>388</td>\n",
       "      <td>4123</td>\n",
       "      <td>10.0</td>\n",
       "      <td>9.0</td>\n",
       "    </tr>\n",
       "    <tr>\n",
       "      <td>2</td>\n",
       "      <td>63</td>\n",
       "      <td>942</td>\n",
       "      <td>14.0</td>\n",
       "      <td>7.0</td>\n",
       "    </tr>\n",
       "    <tr>\n",
       "      <td>3</td>\n",
       "      <td>85</td>\n",
       "      <td>1193</td>\n",
       "      <td>13.0</td>\n",
       "      <td>7.0</td>\n",
       "    </tr>\n",
       "    <tr>\n",
       "      <td>4</td>\n",
       "      <td>274</td>\n",
       "      <td>2784</td>\n",
       "      <td>9.0</td>\n",
       "      <td>10.0</td>\n",
       "    </tr>\n",
       "  </tbody>\n",
       "</table>\n",
       "</div>"
      ],
      "text/plain": [
       "debt              number_debetors  total_customer  proportion  \\\n",
       "family_status_id                                                \n",
       "0                             929           12075        12.0   \n",
       "1                             388            4123        10.0   \n",
       "2                              63             942        14.0   \n",
       "3                              85            1193        13.0   \n",
       "4                             274            2784         9.0   \n",
       "\n",
       "debt              percent_overdue_loan  \n",
       "family_status_id                        \n",
       "0                                  8.0  \n",
       "1                                  9.0  \n",
       "2                                  7.0  \n",
       "3                                  7.0  \n",
       "4                                 10.0  "
      ]
     },
     "metadata": {},
     "output_type": "display_data"
    },
    {
     "name": "stdout",
     "output_type": "stream",
     "text": [
      "сводная таблица отражающая связь показателей в столбце family_status_id с количеством должников по кредитам\n"
     ]
    },
    {
     "data": {
      "text/html": [
       "<div>\n",
       "<style scoped>\n",
       "    .dataframe tbody tr th:only-of-type {\n",
       "        vertical-align: middle;\n",
       "    }\n",
       "\n",
       "    .dataframe tbody tr th {\n",
       "        vertical-align: top;\n",
       "    }\n",
       "\n",
       "    .dataframe thead th {\n",
       "        text-align: right;\n",
       "    }\n",
       "</style>\n",
       "<table border=\"1\" class=\"dataframe\">\n",
       "  <thead>\n",
       "    <tr style=\"text-align: right;\">\n",
       "      <th>income_type</th>\n",
       "      <th>компаньон</th>\n",
       "      <th>пенсионер</th>\n",
       "      <th>сотрудник</th>\n",
       "      <th>total_customer</th>\n",
       "    </tr>\n",
       "    <tr>\n",
       "      <th>family_status_id</th>\n",
       "      <th></th>\n",
       "      <th></th>\n",
       "      <th></th>\n",
       "      <th></th>\n",
       "    </tr>\n",
       "  </thead>\n",
       "  <tbody>\n",
       "    <tr>\n",
       "      <td>0</td>\n",
       "      <td>192.0</td>\n",
       "      <td>114.0</td>\n",
       "      <td>571.0</td>\n",
       "      <td>12075</td>\n",
       "    </tr>\n",
       "    <tr>\n",
       "      <td>1</td>\n",
       "      <td>95.0</td>\n",
       "      <td>36.0</td>\n",
       "      <td>239.0</td>\n",
       "      <td>4123</td>\n",
       "    </tr>\n",
       "    <tr>\n",
       "      <td>2</td>\n",
       "      <td>9.0</td>\n",
       "      <td>37.0</td>\n",
       "      <td>15.0</td>\n",
       "      <td>942</td>\n",
       "    </tr>\n",
       "    <tr>\n",
       "      <td>3</td>\n",
       "      <td>8.0</td>\n",
       "      <td>13.0</td>\n",
       "      <td>60.0</td>\n",
       "      <td>1193</td>\n",
       "    </tr>\n",
       "    <tr>\n",
       "      <td>4</td>\n",
       "      <td>72.0</td>\n",
       "      <td>16.0</td>\n",
       "      <td>174.0</td>\n",
       "      <td>2784</td>\n",
       "    </tr>\n",
       "  </tbody>\n",
       "</table>\n",
       "</div>"
      ],
      "text/plain": [
       "income_type       компаньон  пенсионер  сотрудник  total_customer\n",
       "family_status_id                                                 \n",
       "0                     192.0      114.0      571.0           12075\n",
       "1                      95.0       36.0      239.0            4123\n",
       "2                       9.0       37.0       15.0             942\n",
       "3                       8.0       13.0       60.0            1193\n",
       "4                      72.0       16.0      174.0            2784"
      ]
     },
     "metadata": {},
     "output_type": "display_data"
    },
    {
     "name": "stdout",
     "output_type": "stream",
     "text": [
      "сводная таблица отражающая связь показателей в столбце family_status_id с количеством должников по кредитам, сгруппированая по типам занятости\n"
     ]
    },
    {
     "data": {
      "text/html": [
       "<div>\n",
       "<style scoped>\n",
       "    .dataframe tbody tr th:only-of-type {\n",
       "        vertical-align: middle;\n",
       "    }\n",
       "\n",
       "    .dataframe tbody tr th {\n",
       "        vertical-align: top;\n",
       "    }\n",
       "\n",
       "    .dataframe thead th {\n",
       "        text-align: right;\n",
       "    }\n",
       "</style>\n",
       "<table border=\"1\" class=\"dataframe\">\n",
       "  <thead>\n",
       "    <tr style=\"text-align: right;\">\n",
       "      <th>income_type</th>\n",
       "      <th>компаньон</th>\n",
       "      <th>пенсионер</th>\n",
       "      <th>сотрудник</th>\n",
       "      <th>total_customer</th>\n",
       "    </tr>\n",
       "    <tr>\n",
       "      <th>family_status_id</th>\n",
       "      <th></th>\n",
       "      <th></th>\n",
       "      <th></th>\n",
       "      <th></th>\n",
       "    </tr>\n",
       "  </thead>\n",
       "  <tbody>\n",
       "    <tr>\n",
       "      <td>0</td>\n",
       "      <td>1.5901</td>\n",
       "      <td>0.9441</td>\n",
       "      <td>4.7288</td>\n",
       "      <td>12075</td>\n",
       "    </tr>\n",
       "    <tr>\n",
       "      <td>1</td>\n",
       "      <td>2.3041</td>\n",
       "      <td>0.8732</td>\n",
       "      <td>5.7967</td>\n",
       "      <td>4123</td>\n",
       "    </tr>\n",
       "    <tr>\n",
       "      <td>2</td>\n",
       "      <td>0.9554</td>\n",
       "      <td>3.9278</td>\n",
       "      <td>1.5924</td>\n",
       "      <td>942</td>\n",
       "    </tr>\n",
       "    <tr>\n",
       "      <td>3</td>\n",
       "      <td>0.6706</td>\n",
       "      <td>1.0897</td>\n",
       "      <td>5.0293</td>\n",
       "      <td>1193</td>\n",
       "    </tr>\n",
       "    <tr>\n",
       "      <td>4</td>\n",
       "      <td>2.5862</td>\n",
       "      <td>0.5747</td>\n",
       "      <td>6.2500</td>\n",
       "      <td>2784</td>\n",
       "    </tr>\n",
       "  </tbody>\n",
       "</table>\n",
       "</div>"
      ],
      "text/plain": [
       "income_type       компаньон  пенсионер  сотрудник  total_customer\n",
       "family_status_id                                                 \n",
       "0                    1.5901     0.9441     4.7288           12075\n",
       "1                    2.3041     0.8732     5.7967            4123\n",
       "2                    0.9554     3.9278     1.5924             942\n",
       "3                    0.6706     1.0897     5.0293            1193\n",
       "4                    2.5862     0.5747     6.2500            2784"
      ]
     },
     "metadata": {},
     "output_type": "display_data"
    },
    {
     "name": "stdout",
     "output_type": "stream",
     "text": [
      "сводная таблица отражающая связь показателей в столбце family_status_id с количеством должников по кредитам, сгруппированая по типам занятости, выраженная в процентных значениях\n"
     ]
    }
   ],
   "source": [
    "engine_of_progress ('family_status_id', 100)"
   ]
  },
  {
   "cell_type": "code",
   "execution_count": 65,
   "id": "d7c08301",
   "metadata": {},
   "outputs": [
    {
     "data": {
      "text/html": [
       "<div>\n",
       "<style scoped>\n",
       "    .dataframe tbody tr th:only-of-type {\n",
       "        vertical-align: middle;\n",
       "    }\n",
       "\n",
       "    .dataframe tbody tr th {\n",
       "        vertical-align: top;\n",
       "    }\n",
       "\n",
       "    .dataframe thead th {\n",
       "        text-align: right;\n",
       "    }\n",
       "</style>\n",
       "<table border=\"1\" class=\"dataframe\">\n",
       "  <thead>\n",
       "    <tr style=\"text-align: right;\">\n",
       "      <th></th>\n",
       "      <th>family_status_id</th>\n",
       "      <th>family_status</th>\n",
       "    </tr>\n",
       "  </thead>\n",
       "  <tbody>\n",
       "    <tr>\n",
       "      <td>0</td>\n",
       "      <td>0</td>\n",
       "      <td>женат / замужем</td>\n",
       "    </tr>\n",
       "    <tr>\n",
       "      <td>1</td>\n",
       "      <td>1</td>\n",
       "      <td>гражданский брак</td>\n",
       "    </tr>\n",
       "    <tr>\n",
       "      <td>2</td>\n",
       "      <td>2</td>\n",
       "      <td>вдовец / вдова</td>\n",
       "    </tr>\n",
       "    <tr>\n",
       "      <td>3</td>\n",
       "      <td>3</td>\n",
       "      <td>в разводе</td>\n",
       "    </tr>\n",
       "    <tr>\n",
       "      <td>4</td>\n",
       "      <td>4</td>\n",
       "      <td>не женат / не замужем</td>\n",
       "    </tr>\n",
       "  </tbody>\n",
       "</table>\n",
       "</div>"
      ],
      "text/plain": [
       "   family_status_id          family_status\n",
       "0                 0        женат / замужем\n",
       "1                 1       гражданский брак\n",
       "2                 2         вдовец / вдова\n",
       "3                 3              в разводе\n",
       "4                 4  не женат / не замужем"
      ]
     },
     "execution_count": 65,
     "metadata": {},
     "output_type": "execute_result"
    }
   ],
   "source": [
    "family_status_dict"
   ]
  },
  {
   "cell_type": "markdown",
   "id": "120ae3b6",
   "metadata": {},
   "source": [
    "<div style=\"border:solid blue 2px; padding: 20px\">\n",
    "    \n",
    "Полученные данные говорят нам о том, что в рамках разных групп заемщиков (по типу занятости) динамика изменения влияния семейного положения на возврат займа отличается\n",
    "    \n",
    "Общая статистика говорит о том, что большее число должников по кредитам находятся в группах - \"не женат / не замужем\", \"гражданский брак\"\n",
    "При этом для отдельных категорий клиентов (пенсионер) картина обратная"
   ]
  },
  {
   "cell_type": "markdown",
   "id": "f6fc284f",
   "metadata": {},
   "source": [
    "### Зависимость между уровнем дохода и возвратом кредита в срок"
   ]
  },
  {
   "cell_type": "markdown",
   "id": "375600ea",
   "metadata": {},
   "source": [
    "Исследуем зависимость между уровнем дохода и возвратом кредита"
   ]
  },
  {
   "cell_type": "markdown",
   "id": "e6850893",
   "metadata": {},
   "source": [
    "воспользуемся функцией engine_of_progress"
   ]
  },
  {
   "cell_type": "code",
   "execution_count": 66,
   "id": "48c7e391",
   "metadata": {},
   "outputs": [
    {
     "data": {
      "text/html": [
       "<div>\n",
       "<style scoped>\n",
       "    .dataframe tbody tr th:only-of-type {\n",
       "        vertical-align: middle;\n",
       "    }\n",
       "\n",
       "    .dataframe tbody tr th {\n",
       "        vertical-align: top;\n",
       "    }\n",
       "\n",
       "    .dataframe thead th {\n",
       "        text-align: right;\n",
       "    }\n",
       "</style>\n",
       "<table border=\"1\" class=\"dataframe\">\n",
       "  <thead>\n",
       "    <tr style=\"text-align: right;\">\n",
       "      <th>debt</th>\n",
       "      <th>number_debetors</th>\n",
       "      <th>total_customer</th>\n",
       "      <th>proportion</th>\n",
       "      <th>percent_overdue_loan</th>\n",
       "    </tr>\n",
       "    <tr>\n",
       "      <th>total_income_category</th>\n",
       "      <th></th>\n",
       "      <th></th>\n",
       "      <th></th>\n",
       "      <th></th>\n",
       "    </tr>\n",
       "  </thead>\n",
       "  <tbody>\n",
       "    <tr>\n",
       "      <td>A</td>\n",
       "      <td>2</td>\n",
       "      <td>25</td>\n",
       "      <td>12.0</td>\n",
       "      <td>8.0</td>\n",
       "    </tr>\n",
       "    <tr>\n",
       "      <td>B</td>\n",
       "      <td>356</td>\n",
       "      <td>5041</td>\n",
       "      <td>13.0</td>\n",
       "      <td>7.0</td>\n",
       "    </tr>\n",
       "    <tr>\n",
       "      <td>C</td>\n",
       "      <td>1358</td>\n",
       "      <td>15679</td>\n",
       "      <td>11.0</td>\n",
       "      <td>9.0</td>\n",
       "    </tr>\n",
       "    <tr>\n",
       "      <td>D</td>\n",
       "      <td>21</td>\n",
       "      <td>350</td>\n",
       "      <td>16.0</td>\n",
       "      <td>6.0</td>\n",
       "    </tr>\n",
       "    <tr>\n",
       "      <td>E</td>\n",
       "      <td>2</td>\n",
       "      <td>22</td>\n",
       "      <td>10.0</td>\n",
       "      <td>9.0</td>\n",
       "    </tr>\n",
       "  </tbody>\n",
       "</table>\n",
       "</div>"
      ],
      "text/plain": [
       "debt                   number_debetors  total_customer  proportion  \\\n",
       "total_income_category                                                \n",
       "A                                    2              25        12.0   \n",
       "B                                  356            5041        13.0   \n",
       "C                                 1358           15679        11.0   \n",
       "D                                   21             350        16.0   \n",
       "E                                    2              22        10.0   \n",
       "\n",
       "debt                   percent_overdue_loan  \n",
       "total_income_category                        \n",
       "A                                       8.0  \n",
       "B                                       7.0  \n",
       "C                                       9.0  \n",
       "D                                       6.0  \n",
       "E                                       9.0  "
      ]
     },
     "metadata": {},
     "output_type": "display_data"
    },
    {
     "name": "stdout",
     "output_type": "stream",
     "text": [
      "сводная таблица отражающая связь показателей в столбце total_income_category с количеством должников по кредитам\n"
     ]
    },
    {
     "data": {
      "text/html": [
       "<div>\n",
       "<style scoped>\n",
       "    .dataframe tbody tr th:only-of-type {\n",
       "        vertical-align: middle;\n",
       "    }\n",
       "\n",
       "    .dataframe tbody tr th {\n",
       "        vertical-align: top;\n",
       "    }\n",
       "\n",
       "    .dataframe thead th {\n",
       "        text-align: right;\n",
       "    }\n",
       "</style>\n",
       "<table border=\"1\" class=\"dataframe\">\n",
       "  <thead>\n",
       "    <tr style=\"text-align: right;\">\n",
       "      <th>income_type</th>\n",
       "      <th>компаньон</th>\n",
       "      <th>пенсионер</th>\n",
       "      <th>сотрудник</th>\n",
       "      <th>total_customer</th>\n",
       "    </tr>\n",
       "    <tr>\n",
       "      <th>total_income_category</th>\n",
       "      <th></th>\n",
       "      <th></th>\n",
       "      <th></th>\n",
       "      <th></th>\n",
       "    </tr>\n",
       "  </thead>\n",
       "  <tbody>\n",
       "    <tr>\n",
       "      <td>A</td>\n",
       "      <td>2.0</td>\n",
       "      <td>0.0</td>\n",
       "      <td>0.0</td>\n",
       "      <td>25</td>\n",
       "    </tr>\n",
       "    <tr>\n",
       "      <td>B</td>\n",
       "      <td>110.0</td>\n",
       "      <td>31.0</td>\n",
       "      <td>197.0</td>\n",
       "      <td>5041</td>\n",
       "    </tr>\n",
       "    <tr>\n",
       "      <td>C</td>\n",
       "      <td>263.0</td>\n",
       "      <td>176.0</td>\n",
       "      <td>850.0</td>\n",
       "      <td>15679</td>\n",
       "    </tr>\n",
       "    <tr>\n",
       "      <td>D</td>\n",
       "      <td>1.0</td>\n",
       "      <td>7.0</td>\n",
       "      <td>12.0</td>\n",
       "      <td>350</td>\n",
       "    </tr>\n",
       "    <tr>\n",
       "      <td>E</td>\n",
       "      <td>0.0</td>\n",
       "      <td>2.0</td>\n",
       "      <td>0.0</td>\n",
       "      <td>22</td>\n",
       "    </tr>\n",
       "  </tbody>\n",
       "</table>\n",
       "</div>"
      ],
      "text/plain": [
       "income_type            компаньон  пенсионер  сотрудник  total_customer\n",
       "total_income_category                                                 \n",
       "A                            2.0        0.0        0.0              25\n",
       "B                          110.0       31.0      197.0            5041\n",
       "C                          263.0      176.0      850.0           15679\n",
       "D                            1.0        7.0       12.0             350\n",
       "E                            0.0        2.0        0.0              22"
      ]
     },
     "metadata": {},
     "output_type": "display_data"
    },
    {
     "name": "stdout",
     "output_type": "stream",
     "text": [
      "сводная таблица отражающая связь показателей в столбце total_income_category с количеством должников по кредитам, сгруппированая по типам занятости\n"
     ]
    },
    {
     "data": {
      "text/html": [
       "<div>\n",
       "<style scoped>\n",
       "    .dataframe tbody tr th:only-of-type {\n",
       "        vertical-align: middle;\n",
       "    }\n",
       "\n",
       "    .dataframe tbody tr th {\n",
       "        vertical-align: top;\n",
       "    }\n",
       "\n",
       "    .dataframe thead th {\n",
       "        text-align: right;\n",
       "    }\n",
       "</style>\n",
       "<table border=\"1\" class=\"dataframe\">\n",
       "  <thead>\n",
       "    <tr style=\"text-align: right;\">\n",
       "      <th>income_type</th>\n",
       "      <th>компаньон</th>\n",
       "      <th>пенсионер</th>\n",
       "      <th>сотрудник</th>\n",
       "      <th>total_customer</th>\n",
       "    </tr>\n",
       "    <tr>\n",
       "      <th>total_income_category</th>\n",
       "      <th></th>\n",
       "      <th></th>\n",
       "      <th></th>\n",
       "      <th></th>\n",
       "    </tr>\n",
       "  </thead>\n",
       "  <tbody>\n",
       "    <tr>\n",
       "      <td>A</td>\n",
       "      <td>8.0000</td>\n",
       "      <td>0.0000</td>\n",
       "      <td>0.0000</td>\n",
       "      <td>25</td>\n",
       "    </tr>\n",
       "    <tr>\n",
       "      <td>B</td>\n",
       "      <td>2.1821</td>\n",
       "      <td>0.6150</td>\n",
       "      <td>3.9080</td>\n",
       "      <td>5041</td>\n",
       "    </tr>\n",
       "    <tr>\n",
       "      <td>C</td>\n",
       "      <td>1.6774</td>\n",
       "      <td>1.1225</td>\n",
       "      <td>5.4213</td>\n",
       "      <td>15679</td>\n",
       "    </tr>\n",
       "    <tr>\n",
       "      <td>D</td>\n",
       "      <td>0.2857</td>\n",
       "      <td>2.0000</td>\n",
       "      <td>3.4286</td>\n",
       "      <td>350</td>\n",
       "    </tr>\n",
       "    <tr>\n",
       "      <td>E</td>\n",
       "      <td>0.0000</td>\n",
       "      <td>9.0909</td>\n",
       "      <td>0.0000</td>\n",
       "      <td>22</td>\n",
       "    </tr>\n",
       "  </tbody>\n",
       "</table>\n",
       "</div>"
      ],
      "text/plain": [
       "income_type            компаньон  пенсионер  сотрудник  total_customer\n",
       "total_income_category                                                 \n",
       "A                         8.0000     0.0000     0.0000              25\n",
       "B                         2.1821     0.6150     3.9080            5041\n",
       "C                         1.6774     1.1225     5.4213           15679\n",
       "D                         0.2857     2.0000     3.4286             350\n",
       "E                         0.0000     9.0909     0.0000              22"
      ]
     },
     "metadata": {},
     "output_type": "display_data"
    },
    {
     "name": "stdout",
     "output_type": "stream",
     "text": [
      "сводная таблица отражающая связь показателей в столбце total_income_category с количеством должников по кредитам, сгруппированая по типам занятости, выраженная в процентных значениях\n"
     ]
    }
   ],
   "source": [
    "engine_of_progress ('total_income_category', 100)"
   ]
  },
  {
   "cell_type": "markdown",
   "id": "e5c0269e",
   "metadata": {},
   "source": [
    "<div style=\"border:solid blue 2px; padding: 20px\">\n",
    "\n",
    "Полученные данные говорят нам о том, что в рамках разных групп заемщиков (по типу занятости) динамика изменения влияния уровня дохода на возврат займа отличается\n",
    "    \n",
    "Общая статистика говорит о том, что большее число должников по кредитам находятся в группе - С\n",
    "\n",
    "При этом в отдельных категориях клиентов (компаньон) наблюдается иная динамика - увеличение риска неплатежспособности по мере роста доходов\n",
    "\n",
    "Наиболее \"рискованными\" категориями являются: \n",
    "- пенсионеры с уровнем дохода - Е\n",
    "- компаньоны с уровнем дохода - А"
   ]
  },
  {
   "cell_type": "markdown",
   "id": "2bd930f0",
   "metadata": {},
   "source": [
    "### Влияние цели кредита на его возврат в срок"
   ]
  },
  {
   "cell_type": "markdown",
   "id": "81a57357",
   "metadata": {},
   "source": [
    "Исследуем зависимость между целью кредита и его возвратом"
   ]
  },
  {
   "cell_type": "markdown",
   "id": "b36ed324",
   "metadata": {},
   "source": [
    "воспользуемся функцией engine_of_progress"
   ]
  },
  {
   "cell_type": "code",
   "execution_count": 67,
   "id": "f08dbc9e",
   "metadata": {},
   "outputs": [
    {
     "data": {
      "text/html": [
       "<div>\n",
       "<style scoped>\n",
       "    .dataframe tbody tr th:only-of-type {\n",
       "        vertical-align: middle;\n",
       "    }\n",
       "\n",
       "    .dataframe tbody tr th {\n",
       "        vertical-align: top;\n",
       "    }\n",
       "\n",
       "    .dataframe thead th {\n",
       "        text-align: right;\n",
       "    }\n",
       "</style>\n",
       "<table border=\"1\" class=\"dataframe\">\n",
       "  <thead>\n",
       "    <tr style=\"text-align: right;\">\n",
       "      <th>debt</th>\n",
       "      <th>number_debetors</th>\n",
       "      <th>total_customer</th>\n",
       "      <th>proportion</th>\n",
       "      <th>percent_overdue_loan</th>\n",
       "    </tr>\n",
       "    <tr>\n",
       "      <th>purpose_category</th>\n",
       "      <th></th>\n",
       "      <th></th>\n",
       "      <th></th>\n",
       "      <th></th>\n",
       "    </tr>\n",
       "  </thead>\n",
       "  <tbody>\n",
       "    <tr>\n",
       "      <td>операции с автомобилем</td>\n",
       "      <td>402</td>\n",
       "      <td>4272</td>\n",
       "      <td>10.0</td>\n",
       "      <td>9.0</td>\n",
       "    </tr>\n",
       "    <tr>\n",
       "      <td>операции с недвижимостью</td>\n",
       "      <td>781</td>\n",
       "      <td>10575</td>\n",
       "      <td>13.0</td>\n",
       "      <td>7.0</td>\n",
       "    </tr>\n",
       "    <tr>\n",
       "      <td>получение образования</td>\n",
       "      <td>370</td>\n",
       "      <td>3964</td>\n",
       "      <td>10.0</td>\n",
       "      <td>9.0</td>\n",
       "    </tr>\n",
       "    <tr>\n",
       "      <td>проведение свадьбы</td>\n",
       "      <td>186</td>\n",
       "      <td>2306</td>\n",
       "      <td>11.0</td>\n",
       "      <td>8.0</td>\n",
       "    </tr>\n",
       "  </tbody>\n",
       "</table>\n",
       "</div>"
      ],
      "text/plain": [
       "debt                      number_debetors  total_customer  proportion  \\\n",
       "purpose_category                                                        \n",
       "операции с автомобилем                402            4272        10.0   \n",
       "операции с недвижимостью              781           10575        13.0   \n",
       "получение образования                 370            3964        10.0   \n",
       "проведение свадьбы                    186            2306        11.0   \n",
       "\n",
       "debt                      percent_overdue_loan  \n",
       "purpose_category                                \n",
       "операции с автомобилем                     9.0  \n",
       "операции с недвижимостью                   7.0  \n",
       "получение образования                      9.0  \n",
       "проведение свадьбы                         8.0  "
      ]
     },
     "metadata": {},
     "output_type": "display_data"
    },
    {
     "name": "stdout",
     "output_type": "stream",
     "text": [
      "сводная таблица отражающая связь показателей в столбце purpose_category с количеством должников по кредитам\n"
     ]
    },
    {
     "data": {
      "text/html": [
       "<div>\n",
       "<style scoped>\n",
       "    .dataframe tbody tr th:only-of-type {\n",
       "        vertical-align: middle;\n",
       "    }\n",
       "\n",
       "    .dataframe tbody tr th {\n",
       "        vertical-align: top;\n",
       "    }\n",
       "\n",
       "    .dataframe thead th {\n",
       "        text-align: right;\n",
       "    }\n",
       "</style>\n",
       "<table border=\"1\" class=\"dataframe\">\n",
       "  <thead>\n",
       "    <tr style=\"text-align: right;\">\n",
       "      <th>income_type</th>\n",
       "      <th>компаньон</th>\n",
       "      <th>пенсионер</th>\n",
       "      <th>сотрудник</th>\n",
       "      <th>total_customer</th>\n",
       "    </tr>\n",
       "    <tr>\n",
       "      <th>purpose_category</th>\n",
       "      <th></th>\n",
       "      <th></th>\n",
       "      <th></th>\n",
       "      <th></th>\n",
       "    </tr>\n",
       "  </thead>\n",
       "  <tbody>\n",
       "    <tr>\n",
       "      <td>операции с автомобилем</td>\n",
       "      <td>85.0</td>\n",
       "      <td>51.0</td>\n",
       "      <td>243.0</td>\n",
       "      <td>4272</td>\n",
       "    </tr>\n",
       "    <tr>\n",
       "      <td>операции с недвижимостью</td>\n",
       "      <td>167.0</td>\n",
       "      <td>92.0</td>\n",
       "      <td>485.0</td>\n",
       "      <td>10575</td>\n",
       "    </tr>\n",
       "    <tr>\n",
       "      <td>получение образования</td>\n",
       "      <td>72.0</td>\n",
       "      <td>48.0</td>\n",
       "      <td>229.0</td>\n",
       "      <td>3964</td>\n",
       "    </tr>\n",
       "    <tr>\n",
       "      <td>проведение свадьбы</td>\n",
       "      <td>52.0</td>\n",
       "      <td>25.0</td>\n",
       "      <td>102.0</td>\n",
       "      <td>2306</td>\n",
       "    </tr>\n",
       "  </tbody>\n",
       "</table>\n",
       "</div>"
      ],
      "text/plain": [
       "income_type               компаньон  пенсионер  сотрудник  total_customer\n",
       "purpose_category                                                         \n",
       "операции с автомобилем         85.0       51.0      243.0            4272\n",
       "операции с недвижимостью      167.0       92.0      485.0           10575\n",
       "получение образования          72.0       48.0      229.0            3964\n",
       "проведение свадьбы             52.0       25.0      102.0            2306"
      ]
     },
     "metadata": {},
     "output_type": "display_data"
    },
    {
     "name": "stdout",
     "output_type": "stream",
     "text": [
      "сводная таблица отражающая связь показателей в столбце purpose_category с количеством должников по кредитам, сгруппированая по типам занятости\n"
     ]
    },
    {
     "data": {
      "text/html": [
       "<div>\n",
       "<style scoped>\n",
       "    .dataframe tbody tr th:only-of-type {\n",
       "        vertical-align: middle;\n",
       "    }\n",
       "\n",
       "    .dataframe tbody tr th {\n",
       "        vertical-align: top;\n",
       "    }\n",
       "\n",
       "    .dataframe thead th {\n",
       "        text-align: right;\n",
       "    }\n",
       "</style>\n",
       "<table border=\"1\" class=\"dataframe\">\n",
       "  <thead>\n",
       "    <tr style=\"text-align: right;\">\n",
       "      <th>income_type</th>\n",
       "      <th>компаньон</th>\n",
       "      <th>пенсионер</th>\n",
       "      <th>сотрудник</th>\n",
       "      <th>total_customer</th>\n",
       "    </tr>\n",
       "    <tr>\n",
       "      <th>purpose_category</th>\n",
       "      <th></th>\n",
       "      <th></th>\n",
       "      <th></th>\n",
       "      <th></th>\n",
       "    </tr>\n",
       "  </thead>\n",
       "  <tbody>\n",
       "    <tr>\n",
       "      <td>операции с автомобилем</td>\n",
       "      <td>1.9897</td>\n",
       "      <td>1.1938</td>\n",
       "      <td>5.6882</td>\n",
       "      <td>4272</td>\n",
       "    </tr>\n",
       "    <tr>\n",
       "      <td>операции с недвижимостью</td>\n",
       "      <td>1.5792</td>\n",
       "      <td>0.8700</td>\n",
       "      <td>4.5863</td>\n",
       "      <td>10575</td>\n",
       "    </tr>\n",
       "    <tr>\n",
       "      <td>получение образования</td>\n",
       "      <td>1.8163</td>\n",
       "      <td>1.2109</td>\n",
       "      <td>5.7770</td>\n",
       "      <td>3964</td>\n",
       "    </tr>\n",
       "    <tr>\n",
       "      <td>проведение свадьбы</td>\n",
       "      <td>2.2550</td>\n",
       "      <td>1.0841</td>\n",
       "      <td>4.4232</td>\n",
       "      <td>2306</td>\n",
       "    </tr>\n",
       "  </tbody>\n",
       "</table>\n",
       "</div>"
      ],
      "text/plain": [
       "income_type               компаньон  пенсионер  сотрудник  total_customer\n",
       "purpose_category                                                         \n",
       "операции с автомобилем       1.9897     1.1938     5.6882            4272\n",
       "операции с недвижимостью     1.5792     0.8700     4.5863           10575\n",
       "получение образования        1.8163     1.2109     5.7770            3964\n",
       "проведение свадьбы           2.2550     1.0841     4.4232            2306"
      ]
     },
     "metadata": {},
     "output_type": "display_data"
    },
    {
     "name": "stdout",
     "output_type": "stream",
     "text": [
      "сводная таблица отражающая связь показателей в столбце purpose_category с количеством должников по кредитам, сгруппированая по типам занятости, выраженная в процентных значениях\n"
     ]
    }
   ],
   "source": [
    "engine_of_progress ('purpose_category', 100)"
   ]
  },
  {
   "cell_type": "markdown",
   "id": "ec1db0cc",
   "metadata": {},
   "source": [
    "<div style=\"border:solid blue 2px; padding: 20px\">\n",
    "\n",
    "Полученные данные говорят нам о том, что в рамках разных групп заемщиков (по типу занятости) динамика изменения влияния цели кредита на возврат займа отличается\n",
    "    \n",
    "Общая статистика говорит о том, что большее число должников по кредитам брали кредит на \"операции с автомобилем\" и \"получение образования\"\n",
    "\n",
    "При этом в отдельных категориях клиентов (сотрудник) наблюдается схожая, но существенно менее выраженная динамика"
   ]
  }
 ],
 "metadata": {
  "kernelspec": {
   "display_name": "Python 3",
   "language": "python",
   "name": "python3"
  },
  "language_info": {
   "codemirror_mode": {
    "name": "ipython",
    "version": 3
   },
   "file_extension": ".py",
   "mimetype": "text/x-python",
   "name": "python",
   "nbconvert_exporter": "python",
   "pygments_lexer": "ipython3",
   "version": "3.7.12"
  },
  "toc": {
   "base_numbering": 1,
   "nav_menu": {},
   "number_sections": true,
   "sideBar": true,
   "skip_h1_title": true,
   "title_cell": "Содержание",
   "title_sidebar": "Содержание",
   "toc_cell": true,
   "toc_position": {
    "height": "calc(100% - 180px)",
    "left": "10px",
    "top": "150px",
    "width": "384px"
   },
   "toc_section_display": true,
   "toc_window_display": true
  }
 },
 "nbformat": 4,
 "nbformat_minor": 5
}
